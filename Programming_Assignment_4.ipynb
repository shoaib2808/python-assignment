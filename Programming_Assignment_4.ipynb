{
  "nbformat": 4,
  "nbformat_minor": 0,
  "metadata": {
    "colab": {
      "provenance": []
    },
    "kernelspec": {
      "name": "python3",
      "display_name": "Python 3"
    },
    "language_info": {
      "name": "python"
    }
  },
  "cells": [
    {
      "cell_type": "markdown",
      "source": [
        "##ASSIGNMENT"
      ],
      "metadata": {
        "id": "CCy36na5h4RU"
      }
    },
    {
      "cell_type": "markdown",
      "source": [
        "1. Write a Python Program to Find the Factorial of a Number?"
      ],
      "metadata": {
        "id": "BzN7uKllh60W"
      }
    },
    {
      "cell_type": "code",
      "execution_count": null,
      "metadata": {
        "id": "T_TNCTL3h3bQ"
      },
      "outputs": [],
      "source": [
        "fact=1\n",
        "num=int(input(\"Enter a number \"))\n",
        "for i in range(1,num+1):\n",
        "  fact=fact*i\n",
        "print(fact)"
      ]
    },
    {
      "cell_type": "markdown",
      "source": [
        "2. Write a Python Program to Display the multiplication Table?"
      ],
      "metadata": {
        "id": "QW1fHoHLixNY"
      }
    },
    {
      "cell_type": "code",
      "source": [
        "num=int(input(\"Enter a number whose multiplication table you need\"))\n",
        "for i in range(1,11):\n",
        "  print(f\"{num} * {i} = {num*i}\")"
      ],
      "metadata": {
        "id": "MoMERg5liXkv"
      },
      "execution_count": null,
      "outputs": []
    },
    {
      "cell_type": "markdown",
      "source": [
        "3. Write a Python Program to Print the Fibonacci sequence?"
      ],
      "metadata": {
        "id": "fQMuanRZjj1W"
      }
    },
    {
      "cell_type": "code",
      "source": [
        "num=int(input(\"Enter a number \"))\n",
        "fib1=0\n",
        "fib2=1\n",
        "print(fib1,end=\" \")\n",
        "print(fib2,end=\" \")\n",
        "for i in range(2,num+1):\n",
        "  fib3=fib1+fib2\n",
        "  print(fib3,end=\" \")\n",
        "  fib1=fib2\n",
        "  fib2=fib3"
      ],
      "metadata": {
        "id": "gDjXci0sjYuI"
      },
      "execution_count": null,
      "outputs": []
    },
    {
      "cell_type": "markdown",
      "source": [
        "4. Write a Python Program to Check Armstrong Number?"
      ],
      "metadata": {
        "id": "icCM4tfGm4ZO"
      }
    },
    {
      "cell_type": "code",
      "source": [
        "num=int(input(\"Enter a number \"))\n",
        "sum=0\n",
        "temp=num\n",
        "while(temp>0):\n",
        "  i=temp%10\n",
        "  temp=int(temp/10)\n",
        "  sum=sum+(i**3)\n",
        "if(sum==num):\n",
        "  print(f\"{num} is a armstrong number\")\n",
        "else:\n",
        "  print(f\"{num} is not a armstrong number\")"
      ],
      "metadata": {
        "id": "8BtpfL2Um4yG"
      },
      "execution_count": null,
      "outputs": []
    },
    {
      "cell_type": "markdown",
      "source": [
        "5. Write a Python Program to Find Armstrong Number in an Interval?"
      ],
      "metadata": {
        "id": "A_jJP0F_o5kj"
      }
    },
    {
      "cell_type": "code",
      "source": [
        "start=int(input(\"Enter starting value  \"))\n",
        "end=int(input(\"Enter a ending value \"))\n",
        "\n",
        "for i in range(start,end+1):\n",
        "  sum=0\n",
        "  temp=i\n",
        "  while(temp>0):\n",
        "    p=temp%10\n",
        "    sum=sum+(p**3)\n",
        "    temp=int(temp/10)\n",
        "\n",
        "  if(sum==i):\n",
        "    print(i,end=\" \")\n"
      ],
      "metadata": {
        "id": "6GYRQ4-IngM7"
      },
      "execution_count": null,
      "outputs": []
    },
    {
      "cell_type": "markdown",
      "source": [
        "6. Write a Python Program to Find the Sum of Natural Numbers?"
      ],
      "metadata": {
        "id": "CvL3_GGIqKJq"
      }
    },
    {
      "cell_type": "code",
      "source": [
        "num=int(input(\"Enter a number \"))\n",
        "sum=0\n",
        "for i in range(1,num+1):\n",
        "  sum=sum+i\n",
        "\n",
        "print(f\"sum of first {num} natural numbers is {sum}\")\n"
      ],
      "metadata": {
        "id": "m3watr7Gp9WU"
      },
      "execution_count": null,
      "outputs": []
    },
    {
      "cell_type": "code",
      "source": [],
      "metadata": {
        "id": "coPrsUa0qcLG"
      },
      "execution_count": null,
      "outputs": []
    }
  ]
}