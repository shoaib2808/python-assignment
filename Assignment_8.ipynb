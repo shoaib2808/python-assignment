{
  "nbformat": 4,
  "nbformat_minor": 0,
  "metadata": {
    "colab": {
      "provenance": []
    },
    "kernelspec": {
      "name": "python3",
      "display_name": "Python 3"
    },
    "language_info": {
      "name": "python"
    }
  },
  "cells": [
    {
      "cell_type": "markdown",
      "source": [
        "#ASSIGNMENT"
      ],
      "metadata": {
        "id": "EgXgXrmvasiZ"
      }
    },
    {
      "cell_type": "markdown",
      "source": [
        "#1. Is the Python Standard Library included with PyInputPlus?"
      ],
      "metadata": {
        "id": "0x5Nr5udaw4V"
      }
    },
    {
      "cell_type": "markdown",
      "source": [
        "No, PyInputPlus is not a part of Python Standard Library, it needs to be installed explicitly"
      ],
      "metadata": {
        "id": "CWRNzCOsa1X5"
      }
    },
    {
      "cell_type": "markdown",
      "source": [
        "#2. Why is PyInputPlus commonly imported with import pyinputplus as pypi?"
      ],
      "metadata": {
        "id": "Y5Qhya8za8Uq"
      }
    },
    {
      "cell_type": "markdown",
      "source": [
        "We can import the module with import pyinputplus as pyip so that we can use a shorter name when calling the module\n",
        "\n"
      ],
      "metadata": {
        "id": "haoktHWFbEEP"
      }
    },
    {
      "cell_type": "markdown",
      "source": [
        "#3. How do you distinguish between inputInt() and inputFloat()?"
      ],
      "metadata": {
        "id": "TMYEhqE2bLgS"
      }
    },
    {
      "cell_type": "markdown",
      "source": [
        "inputInt() function Accepts an integer value.\n",
        "\n",
        "Whereas inputFloat() function Accepts a floating-point numeric value"
      ],
      "metadata": {
        "id": "g5BAF87_bS3I"
      }
    },
    {
      "cell_type": "markdown",
      "source": [
        "#5. What is transferred to the keyword arguments allowRegexes and blockRegexes?"
      ],
      "metadata": {
        "id": "eX6FxB1gbcwK"
      }
    },
    {
      "cell_type": "markdown",
      "source": [
        "we can use allowRegexes and blockRegexes keyword arguments to take list of regular expression strings to determine what the pyinputplus function will reject or accept valid input"
      ],
      "metadata": {
        "id": "qUJvciBtb4MO"
      }
    },
    {
      "cell_type": "markdown",
      "source": [
        "#6. If a blank input is entered three times, what does inputStr(limit=3) do?"
      ],
      "metadata": {
        "id": "klYPASAPb8pf"
      }
    },
    {
      "cell_type": "markdown",
      "source": [
        "The statement inputStr(limit=3) will throw two exceptions ValidationException and RetryLimitException. The first exception is thrown because blank values are not allowed by inputStr() function by default. it we want to consider blank values as valid input, we have to set blank=True.\n",
        "\n",
        "The second exception is occured because we have reached the max limit we have specified by using limit parameter. inorder to avoid this exception we can use default parameter to return a default value when max limit is reached."
      ],
      "metadata": {
        "id": "k5ZpigZ6b__e"
      }
    },
    {
      "cell_type": "markdown",
      "source": [
        "#7. If blank input is entered three times, what does inputStr(limit=3, default='hello') do?"
      ],
      "metadata": {
        "id": "zBq1lawwcCMz"
      }
    },
    {
      "cell_type": "markdown",
      "source": [
        "Since the default parameter is set to hello. after blank input is entered three times instead of raising RetryLimitException exception. the function will return hello as response to the calling function"
      ],
      "metadata": {
        "id": "b2XbytJPcE9G"
      }
    },
    {
      "cell_type": "code",
      "source": [],
      "metadata": {
        "id": "SMfSZZBZauci"
      },
      "execution_count": null,
      "outputs": []
    }
  ]
}