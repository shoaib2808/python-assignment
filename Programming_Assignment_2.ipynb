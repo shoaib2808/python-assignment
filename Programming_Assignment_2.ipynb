{
  "nbformat": 4,
  "nbformat_minor": 0,
  "metadata": {
    "colab": {
      "provenance": []
    },
    "kernelspec": {
      "name": "python3",
      "display_name": "Python 3"
    },
    "language_info": {
      "name": "python"
    }
  },
  "cells": [
    {
      "cell_type": "markdown",
      "source": [
        "##ASSIGNMENT"
      ],
      "metadata": {
        "id": "CxpJW1fS49pF"
      }
    },
    {
      "cell_type": "markdown",
      "source": [
        "1. Write a Python program to convert kilometers to miles?"
      ],
      "metadata": {
        "id": "drYYVUBr5HZw"
      }
    },
    {
      "cell_type": "code",
      "execution_count": null,
      "metadata": {
        "id": "RoNqdHHC47eJ"
      },
      "outputs": [],
      "source": [
        "km=int(input(\"Enter km's \"))\n",
        "miles=km*0.62137119\n",
        "print(f\"kilometres {km} miles:{miles}\")\n"
      ]
    },
    {
      "cell_type": "markdown",
      "source": [
        "2. Write a Python program to convert Celsius to Fahrenheit?"
      ],
      "metadata": {
        "id": "Cfgb9eAd5mHe"
      }
    },
    {
      "cell_type": "code",
      "source": [
        "celcius=int(input(\"Enter ferinite \"))\n",
        "ferhnite=celcius*(9/5) + 32\n",
        "print(f\"celcus: {celcius} ferhnite: {ferhnite}\")"
      ],
      "metadata": {
        "id": "z_zDzuBo5dZ3"
      },
      "execution_count": null,
      "outputs": []
    },
    {
      "cell_type": "markdown",
      "source": [
        "3. Write a Python program to display calendar?"
      ],
      "metadata": {
        "id": "Evg2KIjQFAWN"
      }
    },
    {
      "cell_type": "code",
      "source": [
        "import calendar\n",
        " \n",
        "yy = int(input(\"Enter year: \"))\n",
        "mm = int(input(\"Enter month: \"))\n",
        "\n",
        "print(calendar.month(yy, mm))"
      ],
      "metadata": {
        "id": "BR12f_3bEDur"
      },
      "execution_count": null,
      "outputs": []
    },
    {
      "cell_type": "markdown",
      "source": [
        "4. Write a Python program to solve quadratic equation?"
      ],
      "metadata": {
        "id": "uYziUvl5FFdh"
      }
    },
    {
      "cell_type": "code",
      "source": [
        "import math\n",
        "a=1\n",
        "b=10\n",
        "c=-24\n",
        "\n",
        "\n",
        "D=math.sqrt((b**2)-(4*a*c))\n",
        "sol1=(b+D)/(2*a)\n",
        "sol2=(b-D)/(2*a)\n",
        "print(f\"two roots are {sol1} and {sol2}\")"
      ],
      "metadata": {
        "id": "31WeK-KDGjcp"
      },
      "execution_count": null,
      "outputs": []
    },
    {
      "cell_type": "markdown",
      "source": [
        "5. Write a Python program to swap two variables without temp variable?"
      ],
      "metadata": {
        "id": "3leWLJRoFIsM"
      }
    },
    {
      "cell_type": "code",
      "source": [
        "a=45\n",
        "b=32\n",
        "print(f\"a: {a} b:{b}\")\n",
        "#swapping\n",
        "\n",
        "a=a+b\n",
        "b=a-b\n",
        "a=a-b\n",
        "print(f\"a: {a} b:{b}\")"
      ],
      "metadata": {
        "id": "DeJglXrwEo3p"
      },
      "execution_count": null,
      "outputs": []
    },
    {
      "cell_type": "code",
      "source": [],
      "metadata": {
        "id": "ArheeUQgF67X"
      },
      "execution_count": null,
      "outputs": []
    }
  ]
}