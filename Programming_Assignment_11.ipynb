{
  "nbformat": 4,
  "nbformat_minor": 0,
  "metadata": {
    "colab": {
      "provenance": []
    },
    "kernelspec": {
      "name": "python3",
      "display_name": "Python 3"
    },
    "language_info": {
      "name": "python"
    }
  },
  "cells": [
    {
      "cell_type": "markdown",
      "source": [
        "##ASSIGNMENT"
      ],
      "metadata": {
        "id": "xkSxxbwUFNSE"
      }
    },
    {
      "cell_type": "markdown",
      "source": [
        "1. Write a Python program to find words which are greater than given length k?"
      ],
      "metadata": {
        "id": "FVdcTLyAFRkH"
      }
    },
    {
      "cell_type": "code",
      "source": [
        "length=int(input(\"Enter length k \"))\n",
        "string=input(\"Enter strings as comma separated values \")\n",
        "lst=string.split(\",\")\n",
        "for i in lst:\n",
        "  if(length<len(i)):\n",
        "    print(i)"
      ],
      "metadata": {
        "id": "MVkU0JitFP5O"
      },
      "execution_count": null,
      "outputs": []
    },
    {
      "cell_type": "markdown",
      "source": [
        "2. Write a Python program for removing i-th character from a string?"
      ],
      "metadata": {
        "id": "IuOuo8xxF1vc"
      }
    },
    {
      "cell_type": "code",
      "source": [
        "string=input(\"Enter a string \")\n",
        "index=int(input(\"Enter index \"))\n",
        "temp=''\n",
        "temp=string[0:index]\n",
        "temp=temp+string[index+1:]\n",
        "print(temp)"
      ],
      "metadata": {
        "id": "B8LlsV_qFw3K"
      },
      "execution_count": null,
      "outputs": []
    },
    {
      "cell_type": "markdown",
      "source": [
        "3. Write a Python program to split and join a string?"
      ],
      "metadata": {
        "id": "Qvo6dJyuIfJC"
      }
    },
    {
      "cell_type": "code",
      "source": [
        "string=input(\"Enter a string \")\n",
        "opr=input(\"What operation do you want to prepare split or join\")\n",
        "if(opr=='split'):\n",
        "  index=int(input('Enter index'))\n",
        "  str1=string[:index]\n",
        "  str2=string[index:]\n",
        "  print(f\"string 1: {str1} and string 2:{str2}\")\n",
        "elif(opr=='join'):\n",
        "  string2=input(\"Enter another string to join\")\n",
        "  string=string+string2\n",
        "  print(string)\n",
        "else:\n",
        "  print(\"Enter a valid operation\")"
      ],
      "metadata": {
        "id": "ytihQdNZIX1V"
      },
      "execution_count": null,
      "outputs": []
    },
    {
      "cell_type": "markdown",
      "source": [
        "4. Write a Python to check if a given string is binary string or not?"
      ],
      "metadata": {
        "id": "7avypD12J2Vl"
      }
    },
    {
      "cell_type": "code",
      "source": [
        "string=input('Enter a binary string')\n",
        "is_binary=True\n",
        "for i in string:\n",
        "  if(i!='1' and i!='0'):\n",
        "    is_binary=False\n",
        "    break\n",
        "\n",
        "if(is_binary):\n",
        "  print(f\"{string} is  a binary string\")\n",
        "else:\n",
        "  print(f\"{string} is not a binary string\")\n"
      ],
      "metadata": {
        "id": "6jDSM1pVJro9"
      },
      "execution_count": null,
      "outputs": []
    },
    {
      "cell_type": "markdown",
      "source": [
        "5. Write a Python program to find uncommon words from two Strings?"
      ],
      "metadata": {
        "id": "pRUrf5FWw5iq"
      }
    },
    {
      "cell_type": "code",
      "source": [
        "string1=input(\"Enter first string \")\n",
        "string2=input(\"Enter secand string \")\n",
        "lst=list()\n",
        "lst1=list()\n",
        "for word in string1:\n",
        "  if(word  in string2):\n",
        "    lst.append(word)\n",
        "  else:\n",
        "    lst1.append(word)\n",
        "\n",
        "for i in string2:\n",
        "  if(i not in lst):\n",
        "    lst1.append(i)\n",
        "\n",
        "lst1\n"
      ],
      "metadata": {
        "id": "MDAAgVsLK94r"
      },
      "execution_count": null,
      "outputs": []
    },
    {
      "cell_type": "markdown",
      "source": [
        "6. Write a Python to find all duplicate characters in string?"
      ],
      "metadata": {
        "id": "AMsSmlkKyzdL"
      }
    },
    {
      "cell_type": "code",
      "source": [
        "string=input(\"Enter a string \")\n",
        "lst=list()\n",
        "for i in string:\n",
        "  if(lst.count(i)>1):\n",
        "    if(i not in lst):\n",
        "      lst.append(i)\n",
        "\n",
        "lst\n"
      ],
      "metadata": {
        "colab": {
          "base_uri": "https://localhost:8080/"
        },
        "id": "pqGEfVm_yf9s",
        "outputId": "9ffbbca6-83aa-4ca5-eadb-0321aab81440"
      },
      "execution_count": null,
      "outputs": [
        {
          "name": "stdout",
          "output_type": "stream",
          "text": [
            "Enter a string abca\n"
          ]
        },
        {
          "output_type": "execute_result",
          "data": {
            "text/plain": [
              "[]"
            ]
          },
          "metadata": {},
          "execution_count": 2
        }
      ]
    },
    {
      "cell_type": "markdown",
      "source": [
        "7. Write a Python Program to check if a string contains any special character?"
      ],
      "metadata": {
        "id": "0rHpylBUCS9B"
      }
    },
    {
      "cell_type": "code",
      "source": [
        "string=input('Enter a string')\n",
        "\n",
        "if(string.isalpha()==False and string.isnumeric()==False):\n",
        "  print(f\"{string} has special character\")\n",
        "else:\n",
        "  print(f\"{string} does not have special character\")"
      ],
      "metadata": {
        "id": "UT4YZl4azPKD",
        "colab": {
          "base_uri": "https://localhost:8080/"
        },
        "outputId": "94e600bd-5f5e-4fd0-cf1a-67dcca818259"
      },
      "execution_count": 7,
      "outputs": [
        {
          "name": "stdout",
          "output_type": "stream",
          "text": [
            "Enter a stringsdf@\n"
          ]
        },
        {
          "output_type": "execute_result",
          "data": {
            "text/plain": [
              "False"
            ]
          },
          "metadata": {},
          "execution_count": 7
        }
      ]
    },
    {
      "cell_type": "code",
      "source": [],
      "metadata": {
        "colab": {
          "base_uri": "https://localhost:8080/",
          "height": 165
        },
        "id": "re4B9Ak-DyIi",
        "outputId": "3b329d49-8b89-44a9-ecf5-88d911af246d"
      },
      "execution_count": 6,
      "outputs": [
        {
          "output_type": "error",
          "ename": "NameError",
          "evalue": "ignored",
          "traceback": [
            "\u001b[0;31m---------------------------------------------------------------------------\u001b[0m",
            "\u001b[0;31mNameError\u001b[0m                                 Traceback (most recent call last)",
            "\u001b[0;32m<ipython-input-6-ded5ba42480f>\u001b[0m in \u001b[0;36m<module>\u001b[0;34m\u001b[0m\n\u001b[0;32m----> 1\u001b[0;31m \u001b[0ms\u001b[0m\u001b[0;34m\u001b[0m\u001b[0;34m\u001b[0m\u001b[0m\n\u001b[0m",
            "\u001b[0;31mNameError\u001b[0m: name 's' is not defined"
          ]
        }
      ]
    },
    {
      "cell_type": "code",
      "source": [],
      "metadata": {
        "id": "1rPgO7P_EB0E"
      },
      "execution_count": null,
      "outputs": []
    }
  ]
}