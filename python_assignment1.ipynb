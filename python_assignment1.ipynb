{
  "nbformat": 4,
  "nbformat_minor": 0,
  "metadata": {
    "colab": {
      "provenance": [],
      "collapsed_sections": []
    },
    "kernelspec": {
      "name": "python3",
      "display_name": "Python 3"
    },
    "language_info": {
      "name": "python"
    }
  },
  "cells": [
    {
      "cell_type": "markdown",
      "source": [
        "1. In the below elements which of them are values or an expression? eg:- values can be\n",
        "integer or string and expressions will be mathematical operators.\n",
        "* \n",
        "&#39;hello&#39;\n",
        "-87.8\n",
        "-\n",
        "/\n",
        "+\n",
        "6"
      ],
      "metadata": {
        "id": "LwPnBl6mgDTW"
      }
    },
    {
      "cell_type": "code",
      "execution_count": null,
      "metadata": {
        "id": "GxImpycWfvYf"
      },
      "outputs": [],
      "source": [
        "#solution\n",
        "'''\n",
        "* :     expression, as this a arithematic operator\n",
        "'hello':value, as it is a string and not a opeartor\n",
        "-87.8:  value, as it is a float and not a opeartor\n",
        "-    :  expression, as this a arithematic operator\n",
        "/    :  expression, as this a arithematic operator\n",
        "+    :  expression, as this a arithematic operator\n",
        "6    :  value, as this a constant not a operator\n",
        "'''\n"
      ]
    },
    {
      "cell_type": "markdown",
      "source": [
        "2. What is the difference between string and variable?"
      ],
      "metadata": {
        "id": "s-vv9xrmii3C"
      }
    },
    {
      "cell_type": "code",
      "source": [
        "'''\n",
        "String:     1.A string is collection of characters enclosed within quotes(single,double,triple)\n",
        "            2.A string is indexable and also support slicing operation\n",
        "            3.string is immutable\n",
        "\n",
        "Variable:   1.A variable is used to store data \n",
        "            2.a variable can store different type of data like integer,char,float,boolean etc\n",
        "            3.reassignment of variable is possible and dynamic typing is possible in python\n",
        "'''"
      ],
      "metadata": {
        "id": "kCKIgiwCjR3t"
      },
      "execution_count": null,
      "outputs": []
    },
    {
      "cell_type": "markdown",
      "source": [
        "3. Describe three different data types."
      ],
      "metadata": {
        "id": "uLQzHcppiqAs"
      }
    },
    {
      "cell_type": "code",
      "source": [
        "'''\n",
        "int: integer data type is a data type which stores integer values.\n",
        "example: i=8\n",
        "         j=5\n",
        "         k=\"sho\" invalid\n",
        "\n",
        "float:float data type helps in storing decimal values\n",
        "example: i=67.4\n",
        "         j=89.0\n",
        "\n",
        "string: string helps in stroing string which is enclosed in quotes\n",
        "example: i=6   invalid\n",
        "         i=\"6\" \n",
        "'''"
      ],
      "metadata": {
        "id": "QIuZDLqvk7H7"
      },
      "execution_count": null,
      "outputs": []
    },
    {
      "cell_type": "markdown",
      "source": [
        "4. What is an expression made up of? What do all expressions do?"
      ],
      "metadata": {
        "id": "59T6my6ditco"
      }
    },
    {
      "cell_type": "code",
      "source": [
        "'''\n",
        "An expression is a combination of operators and operands that is interpreted to produce some other value.\n",
        "Expression is generally made up of numbers and datatypes.\n",
        "Expression take up some values(data) try to process it and stores an output in some variabe\n",
        "\n",
        "'''"
      ],
      "metadata": {
        "id": "iylEMpYYmmFT"
      },
      "execution_count": null,
      "outputs": []
    },
    {
      "cell_type": "markdown",
      "source": [
        "5. This assignment statements, like spam = 10. What is the difference between an\n",
        "expression and a statement?"
      ],
      "metadata": {
        "id": "xZNqOQsfixRG"
      }
    },
    {
      "cell_type": "code",
      "source": [
        "'''\n",
        "Statements represent an action or command .\n",
        "example: print(), return etc\n",
        "\n",
        "Expression is a combination of variables, operations and values that yields a result value.\n",
        "x=2+3\n",
        "'''"
      ],
      "metadata": {
        "id": "XJW4QSuCuhDD"
      },
      "execution_count": null,
      "outputs": []
    },
    {
      "cell_type": "markdown",
      "source": [
        "6. After running the following code, what does the variable bacon contain?\n",
        "bacon = 22\n",
        "\n",
        "bacon + 1"
      ],
      "metadata": {
        "id": "X7ZfEVGgi0fE"
      }
    },
    {
      "cell_type": "code",
      "source": [
        "'''\n",
        "bacon=22\n",
        "bacon+1\n",
        "will not change the value of bacon as we are incrementing the value of bacon but we are not assigning it back to bacon \n",
        "so value of bacon will be unaffected.\n",
        "'''"
      ],
      "metadata": {
        "id": "24pvRfsEwmqU"
      },
      "execution_count": null,
      "outputs": []
    },
    {
      "cell_type": "markdown",
      "source": [
        "7. What should the values of the following two terms be?\n",
        "&#39;spam&#39; + &#39;spamspam&#39;\n",
        "&#39;spam&#39; * 3"
      ],
      "metadata": {
        "id": "4kYoHbKmi28P"
      }
    },
    {
      "cell_type": "code",
      "source": [
        "'''\n",
        "'spam'+'spamspam'\n",
        "'spam'*3\n",
        "\n",
        "Both of the above statement will lead to to \"spamspamspam\".\n",
        "because 'spam' is a string and when we use \"*\" operator with string it will replicate(concate) the string.\n",
        "'spamspam' is also a string and when we try to use \"+\" operator with the string it will lead t concatination of the two strings. \n",
        "'''"
      ],
      "metadata": {
        "id": "M26ZTxGMw9l4"
      },
      "execution_count": null,
      "outputs": []
    },
    {
      "cell_type": "markdown",
      "source": [
        "8. Why is eggs a valid variable name while 100 is invalid?"
      ],
      "metadata": {
        "id": "3_2eVw2Li6uV"
      }
    },
    {
      "cell_type": "code",
      "source": [
        "'''\n",
        "As per the python rule for declaring variable,\n",
        "a variable name can be anything ,but not a number.\n",
        "therefore, \"eggs\" is a valid python variable name but \"100\" is not.\n",
        "'''"
      ],
      "metadata": {
        "id": "Xw05tBR8x6OC"
      },
      "execution_count": null,
      "outputs": []
    },
    {
      "cell_type": "markdown",
      "source": [
        "9. What three functions can be used to get the integer, floating-point number, or string\n",
        "version of a value?"
      ],
      "metadata": {
        "id": "R5oOf3Wji-NO"
      }
    },
    {
      "cell_type": "code",
      "source": [
        "'''\n",
        "int(),float(),str() methods can be used to get integer ,float and string value respectively.\n",
        "'''"
      ],
      "metadata": {
        "id": "xQK-dbuIyM5u"
      },
      "execution_count": null,
      "outputs": []
    },
    {
      "cell_type": "markdown",
      "source": [
        "10. Why does this expression cause an error? How can you fix it?\n",
        "&#39;I have eaten &#39; + 99 + &#39; burritos.&#39;\n"
      ],
      "metadata": {
        "id": "jl43J3n9jF3n"
      }
    },
    {
      "cell_type": "code",
      "source": [
        "'''\n",
        "'i have eaten'+99+'burritos'\n",
        "\n",
        "In this expression the first part and last part is a string , whereas the miidle part is a integer,\n",
        "as python is a strong typed language we know to concate two things they should be of same data type(compatible)\n",
        "and string and int are not same and hence cannot be concatinated\n",
        "\n",
        "'i have eaten'+\"99\"+'burritos'     This expression is corrct as \"99\" now is a string.\n",
        "'''\n"
      ],
      "metadata": {
        "id": "zx5SsmtCij9m"
      },
      "execution_count": null,
      "outputs": []
    }
  ]
}