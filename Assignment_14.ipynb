{
  "nbformat": 4,
  "nbformat_minor": 0,
  "metadata": {
    "colab": {
      "provenance": []
    },
    "kernelspec": {
      "name": "python3",
      "display_name": "Python 3"
    },
    "language_info": {
      "name": "python"
    }
  },
  "cells": [
    {
      "cell_type": "markdown",
      "source": [
        "#ASSIGNMENT"
      ],
      "metadata": {
        "id": "LYffGyh1vuQy"
      }
    },
    {
      "cell_type": "markdown",
      "source": [
        "#1. What does RGBA stand for?"
      ],
      "metadata": {
        "id": "76mWe_0GvxF3"
      }
    },
    {
      "cell_type": "markdown",
      "source": [
        "RGBA is a four-channel format containing data for Red, Green, Blue, and an Alpha value. Where Alpha Represents the Opacity"
      ],
      "metadata": {
        "id": "7AYf-BI2v1t4"
      }
    },
    {
      "cell_type": "markdown",
      "source": [
        "#2. From the Pillow module, how do you get the RGBA value of any images?"
      ],
      "metadata": {
        "id": "NmbQJupfv4KJ"
      }
    },
    {
      "cell_type": "markdown",
      "source": [
        "ImageColor.getcolor() gives rgba value of any image"
      ],
      "metadata": {
        "id": "gvoSKKOgv66L"
      }
    },
    {
      "cell_type": "markdown",
      "source": [
        "#3. What is a box tuple, and how does it work?"
      ],
      "metadata": {
        "id": "tHmJj50Gv9bu"
      }
    },
    {
      "cell_type": "markdown",
      "source": [
        "A box tuple is a tuple value of four integers: the left-edge x-coordinate, the top-edge y-coordinate,the width, and the height, respectively."
      ],
      "metadata": {
        "id": "4YPkQ_5WwAmC"
      }
    },
    {
      "cell_type": "markdown",
      "source": [
        "#4. Use your image and load in notebook then, How can you find out the width and height of an Image object?"
      ],
      "metadata": {
        "id": "6dfHkPhFwDuE"
      }
    },
    {
      "cell_type": "code",
      "source": [
        "from PIL import Image\n",
        "pic = Image.open('Pic.jpg')\n",
        "print(f'Width, Height -> {pic.size}') # Approach 1"
      ],
      "metadata": {
        "id": "Mpk4xLjkvvj7"
      },
      "execution_count": null,
      "outputs": []
    },
    {
      "cell_type": "markdown",
      "source": [
        "#5. What method would you call to get Image object for a 100×100 image, excluding the lower-left quarter of it?"
      ],
      "metadata": {
        "id": "gT0w6YRpwMVX"
      }
    },
    {
      "cell_type": "code",
      "source": [
        "from PIL import Image\n",
        "img = Image.open('Pic.jpg')\n",
        "new_img = img.crop((0,50,50,50))"
      ],
      "metadata": {
        "id": "UxFsFS9mwMyH"
      },
      "execution_count": null,
      "outputs": []
    },
    {
      "cell_type": "markdown",
      "source": [
        "#6. After making changes to an Image object, how could you save it as an image file?"
      ],
      "metadata": {
        "id": "AR-MnS87wO_i"
      }
    },
    {
      "cell_type": "code",
      "source": [
        "from PIL import Image\n",
        "pic = Image.open('pic.jpg')\n",
        "pic.save('pic2.jpg')"
      ],
      "metadata": {
        "id": "_L85r86MwRIy"
      },
      "execution_count": null,
      "outputs": []
    },
    {
      "cell_type": "markdown",
      "source": [
        "#7. What module contains Pillow’s shape-drawing code?"
      ],
      "metadata": {
        "id": "DbktbVWxwVPw"
      }
    },
    {
      "cell_type": "markdown",
      "source": [
        "Pillows ImageDraw module contains Shape drawing methods"
      ],
      "metadata": {
        "id": "DtNByNAlwYqL"
      }
    },
    {
      "cell_type": "markdown",
      "source": [
        "#8. Image objects do not have drawing methods. What kind of object does? How do you get this kind of object?"
      ],
      "metadata": {
        "id": "eJW5EnCRwbgF"
      }
    },
    {
      "cell_type": "markdown",
      "source": [
        " ImageDraw objects have shape-drawing methods such as point(), line(), or rectangle().They are returned by passing the Image object to the ImageDraw.Draw() function."
      ],
      "metadata": {
        "id": "AhDfa_8hweol"
      }
    }
  ]
}