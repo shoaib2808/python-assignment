{
  "nbformat": 4,
  "nbformat_minor": 0,
  "metadata": {
    "colab": {
      "provenance": []
    },
    "kernelspec": {
      "name": "python3",
      "display_name": "Python 3"
    },
    "language_info": {
      "name": "python"
    }
  },
  "cells": [
    {
      "cell_type": "markdown",
      "source": [
        "#ASSIGNMENT"
      ],
      "metadata": {
        "id": "wnBfQ_Cq3rdw"
      }
    },
    {
      "cell_type": "markdown",
      "source": [
        "#1. Make a class called Thing with no contents and print it. Then, create an object called example from this class and also print it. Are the printed values the same or different?"
      ],
      "metadata": {
        "id": "GYjLlndx3uDV"
      }
    },
    {
      "cell_type": "code",
      "source": [
        "class Thing:\n",
        "    pass\n",
        "\n",
        "print(Thing)\n",
        "\n",
        "example = Thing()\n",
        "print(example)"
      ],
      "metadata": {
        "colab": {
          "base_uri": "https://localhost:8080/"
        },
        "id": "901K61EG3svV",
        "outputId": "01ad2e7a-d9ea-4020-d82e-5fdd80edb33c"
      },
      "execution_count": 1,
      "outputs": [
        {
          "output_type": "stream",
          "name": "stdout",
          "text": [
            "<class '__main__.Thing'>\n",
            "<__main__.Thing object at 0x7fbb6173d630>\n"
          ]
        }
      ]
    },
    {
      "cell_type": "markdown",
      "source": [
        "#2. Create a new class called Thing2 and add the value 'abc' to the letters class attribute. Letters should be printed."
      ],
      "metadata": {
        "id": "DDiqHpzl31U8"
      }
    },
    {
      "cell_type": "code",
      "source": [
        "class Thing2:\n",
        "    letters = 'abc'\n",
        "    \n",
        "print(Thing2.letters)\n"
      ],
      "metadata": {
        "id": "E1s3nuCE3yBg"
      },
      "execution_count": null,
      "outputs": []
    },
    {
      "cell_type": "markdown",
      "source": [
        "#3. Make yet another class called, of course, Thing3. This time, assign the value 'xyz' to an instance (object) attribute called letters. Print letters. Do you need to make an object from the class to do this?"
      ],
      "metadata": {
        "id": "EYQaPyOa357s"
      }
    },
    {
      "cell_type": "code",
      "source": [
        "class Thing3:    \n",
        "    def __init__(self):\n",
        "        self.letters = 'xyz'\n",
        "        \n",
        "try:        \n",
        "    print(Thing3.letters) # Will raise a syntax Error\n",
        "except:\n",
        "    my_thing = Thing3()\n",
        "    print(my_thing.letters)"
      ],
      "metadata": {
        "colab": {
          "base_uri": "https://localhost:8080/"
        },
        "id": "aX1uSkWC39Fh",
        "outputId": "9006978e-2665-4916-e8b8-532041821b19"
      },
      "execution_count": 2,
      "outputs": [
        {
          "output_type": "stream",
          "name": "stdout",
          "text": [
            "xyz\n"
          ]
        }
      ]
    },
    {
      "cell_type": "markdown",
      "source": [
        "#4. Create an Element class with the instance attributes name, symbol, and number. Create a class object with the values 'Hydrogen,' 'H,' and 1."
      ],
      "metadata": {
        "id": "a3_t5IsP4B20"
      }
    },
    {
      "cell_type": "code",
      "source": [
        "class Element:   \n",
        "    def __init__(self, name, symbol, number):\n",
        "        self.name = name\n",
        "        self.symbol = symbol\n",
        "        self.number = number\n",
        "\n",
        "my_elements = Element('Hydrogen','H',1)"
      ],
      "metadata": {
        "id": "q1bG9J1D4Aby"
      },
      "execution_count": 3,
      "outputs": []
    },
    {
      "cell_type": "markdown",
      "source": [
        "#5. Make a dictionary with these keys and values: 'name': 'Hydrogen', 'symbol': 'H', 'number': 1. Then, create an object called hydrogen from class Element using this dictionary."
      ],
      "metadata": {
        "id": "JL0Fjdi34Hqv"
      }
    },
    {
      "cell_type": "code",
      "source": [
        "custom_dict = {'name':'Hydrogen','symbol':'H','number':1}\n",
        "print(custom_dict)\n",
        "\n",
        "hydrogen = Element(*custom_dict.values())\n",
        "print('Using Method #1 ',hydrogen.name,hydrogen.symbol,hydrogen.number, sep='\\t')\n",
        "\n",
        "hydrogen = Element(**custom_dict)\n",
        "print('Using Method #2 ',hydrogen.name,hydrogen.symbol,hydrogen.number, sep='\\t')"
      ],
      "metadata": {
        "colab": {
          "base_uri": "https://localhost:8080/"
        },
        "id": "nsYr-M4R4GCp",
        "outputId": "a1615586-1c91-4f35-c57c-781696b61a0b"
      },
      "execution_count": 4,
      "outputs": [
        {
          "output_type": "stream",
          "name": "stdout",
          "text": [
            "{'name': 'Hydrogen', 'symbol': 'H', 'number': 1}\n",
            "Using Method #1 \tHydrogen\tH\t1\n",
            "Using Method #2 \tHydrogen\tH\t1\n"
          ]
        }
      ]
    },
    {
      "cell_type": "markdown",
      "source": [
        "#6. For the Element class, define a method called dump() that prints the values of the object’s attributes (name, symbol, and number). Create the hydrogen object from this new definition and use dump() to print its attributes."
      ],
      "metadata": {
        "id": "y_QVXtXv4RGR"
      }
    },
    {
      "cell_type": "code",
      "source": [
        "class Element:\n",
        "    def __init__(self, name, symbol, number):\n",
        "        self.name = name\n",
        "        self.symbol = symbol\n",
        "        self.number = number      \n",
        "    def dump(self):\n",
        "        print(self.name, self.symbol, self.number)\n",
        "        \n",
        "hydrogen = Element('Hydrogen','H',1)\n",
        "hydrogen.dump()"
      ],
      "metadata": {
        "id": "-ln-gxmG4OTB"
      },
      "execution_count": null,
      "outputs": []
    },
    {
      "cell_type": "markdown",
      "source": [
        "#7. Call print(hydrogen). In the definition of Element, change the name of method dump to __str__, create a new hydrogen object, and call print(hydrogen) again."
      ],
      "metadata": {
        "id": "C5rCLtjU4WhP"
      }
    },
    {
      "cell_type": "code",
      "source": [
        "print(hydrogen)\n",
        "\n",
        "class Element:\n",
        "    def __init__(self, name, symbol, number):\n",
        "        self.name = name\n",
        "        self.symbol = symbol\n",
        "        self.number = number      \n",
        "    def __str__(self):\n",
        "        return f'{self.name} {self.symbol} {self.number}'\n",
        "        \n",
        "Hydrogen = Element('Hydrogen','H',1)\n",
        "print(Hydrogen)\n"
      ],
      "metadata": {
        "id": "LHu0CA2S4Tw8"
      },
      "execution_count": null,
      "outputs": []
    },
    {
      "cell_type": "markdown",
      "source": [
        "#8. Modify Element to make the attributes name, symbol, and number private. Define a getter property for each to return its value."
      ],
      "metadata": {
        "id": "NxifNxOG4dJ5"
      }
    },
    {
      "cell_type": "code",
      "source": [
        "class Element:\n",
        "    def __init__(self,name,symbol,number):\n",
        "        self.__name = name\n",
        "        self.__symbol = symbol\n",
        "        self.__number = number\n",
        "    \n",
        "    @property\n",
        "    def get_name(self):\n",
        "        return self.__name\n",
        "    \n",
        "    @property\n",
        "    def get_symbol(self):\n",
        "        return self.__symbol\n",
        "    \n",
        "    @property\n",
        "    def get_number(self):\n",
        "        return self.__number\n",
        "    \n",
        "hydrogen = Element('Hydrogen','H',1)\n",
        "print(hydrogen.get_name)\n",
        "print(hydrogen.get_symbol)\n",
        "print(hydrogen.get_number)"
      ],
      "metadata": {
        "id": "SjrpOoTP4aWW"
      },
      "execution_count": null,
      "outputs": []
    },
    {
      "cell_type": "markdown",
      "source": [
        "#9. Define three classes: Bear, Rabbit, and Octothorpe. For each, define only one method: eats(). This should return 'berries' (Bear), 'clover' (Rabbit), or 'campers' (Octothorpe). Create one object from each and print what it eats."
      ],
      "metadata": {
        "id": "3lXL3Dh04hLA"
      }
    },
    {
      "cell_type": "code",
      "source": [
        "class Bear:\n",
        "    def eats(self):\n",
        "        print('berries')\n",
        "class Rabbit:\n",
        "    def eats(self):\n",
        "        print('clover')\n",
        "class Octothorpe:\n",
        "    def eats(self):\n",
        "        print('campers')\n",
        "        \n",
        "bear = Bear()\n",
        "rabbit = Rabbit()\n",
        "octothrope = Octothorpe()\n",
        "\n",
        "bear.eats()\n",
        "rabbit.eats()\n",
        "octothrope.eats()"
      ],
      "metadata": {
        "id": "jhPdxysD4f7y"
      },
      "execution_count": null,
      "outputs": []
    },
    {
      "cell_type": "markdown",
      "source": [
        "#10. Define these classes: Laser, Claw, and SmartPhone. Each has only one method: does(). This returns 'disintegrate' (Laser), 'crush' (Claw), or 'ring' (SmartPhone). Then, define the class Robot that has one instance (object) of each of these. Define a does() method for the Robot that prints what its component objects do."
      ],
      "metadata": {
        "id": "5rQsM-0y4o7c"
      }
    },
    {
      "cell_type": "code",
      "source": [
        "class Laser:\n",
        "    def does(self):\n",
        "        return 'disintegrate'\n",
        "class Claw:\n",
        "    def does(self):\n",
        "        return 'crush'\n",
        "class Smartphone:\n",
        "    def does(self):\n",
        "        return 'ring'\n",
        "class Robot:\n",
        "    def __init__(self):\n",
        "        self.laser = Laser()\n",
        "        self.claw = Claw()\n",
        "        self.smartphone = Smartphone()\n",
        "    def does(self):\n",
        "        print(self.laser.does(),self.claw.does(),self.smartphone.does())\n",
        "        \n",
        "r2d2 = Robot()\n",
        "r2d2.does()"
      ],
      "metadata": {
        "id": "cnAliUtw4mek"
      },
      "execution_count": null,
      "outputs": []
    },
    {
      "cell_type": "code",
      "source": [],
      "metadata": {
        "id": "nMnrukJQ4sW2"
      },
      "execution_count": null,
      "outputs": []
    }
  ]
}