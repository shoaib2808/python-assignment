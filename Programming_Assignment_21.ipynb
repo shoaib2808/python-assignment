{
  "nbformat": 4,
  "nbformat_minor": 0,
  "metadata": {
    "colab": {
      "provenance": []
    },
    "kernelspec": {
      "name": "python3",
      "display_name": "Python 3"
    },
    "language_info": {
      "name": "python"
    }
  },
  "cells": [
    {
      "cell_type": "markdown",
      "source": [
        "ASSIGNMENT"
      ],
      "metadata": {
        "id": "yeso17qZ211m"
      }
    },
    {
      "cell_type": "markdown",
      "source": [
        "Write a function that takes a list and a number as arguments. Add the number to the end of\n",
        "the list, then remove the first element of the list. The function should then return the updated\n",
        "list."
      ],
      "metadata": {
        "id": "LT4iwTSl25NC"
      }
    },
    {
      "cell_type": "code",
      "source": [
        "def update_list(lst,num):\n",
        "  lst.append(num)\n",
        "  lst.pop(0)\n",
        "  return lst\n",
        "\n",
        "update_list([5, 6, 7, 8, 9], 1)"
      ],
      "metadata": {
        "id": "fpIPOqJO225F"
      },
      "execution_count": null,
      "outputs": []
    },
    {
      "cell_type": "markdown",
      "source": [
        "Create the function that takes a list of dictionaries and returns the sum of people&#39;s budgets."
      ],
      "metadata": {
        "id": "6I-QUOjU35FM"
      }
    },
    {
      "cell_type": "code",
      "source": [
        "def budget(lst_dict):\n",
        "  sum=0\n",
        "  for i in lst_dict:\n",
        "      sum=sum+i['budget']\n",
        "  return sum\n",
        "\n",
        "budget([\n",
        "{ 'name':'John','age': 21,'budget': 23000 },\n",
        "{ 'name':'John','age': 21,'budget': 32000 },\n",
        "{ 'name':'John','age': 21,'budget': 1600 },\n",
        "])"
      ],
      "metadata": {
        "id": "w0MFNTWi3szS"
      },
      "execution_count": null,
      "outputs": []
    },
    {
      "cell_type": "markdown",
      "source": [
        "Create a function that takes a string and returns a string with its letters in alphabetical order."
      ],
      "metadata": {
        "id": "392soICI6AGj"
      }
    },
    {
      "cell_type": "code",
      "source": [
        "def sort_letter(s):\n",
        "  temp=\"\"\n",
        "  l= sorted(s)\n",
        "  for i in l:\n",
        "    temp=temp+i\n",
        "\n",
        "  return temp\n",
        "\n",
        "\n",
        "sort_letter(\"shoaib\")"
      ],
      "metadata": {
        "id": "q1o4x2qC49BE"
      },
      "execution_count": null,
      "outputs": []
    },
    {
      "cell_type": "markdown",
      "source": [
        "Create a function that accepts the principal p, the term in years t, the interest rate r, and the\n",
        "number of compounding periods per year n. The function returns the value at the end of term\n",
        "rounded to the nearest cent."
      ],
      "metadata": {
        "id": "UqJZd9rQ616X"
      }
    },
    {
      "cell_type": "code",
      "source": [
        "def compound(prin,year,rate,compounding):\n",
        "  total_time = year\n",
        "  new_priciple= prin\n",
        "  for time in range(total_time):\n",
        "    new_interest = new_priciple*rate\n",
        "    new_priciple = new_interest+new_priciple\n",
        "  return round(new_priciple,2)\n",
        "compound(100000, 20, 0.15, 365)\n",
        "    \n",
        "\n"
      ],
      "metadata": {
        "id": "V8UJvF9V6KyU"
      },
      "execution_count": null,
      "outputs": []
    },
    {
      "cell_type": "markdown",
      "source": [
        "Write a function that takes a list of elements and returns only the integers."
      ],
      "metadata": {
        "id": "ZEdB89MY-o7_"
      }
    },
    {
      "cell_type": "code",
      "source": [
        "def integer(lst):\n",
        "  temp=list()\n",
        "  for i in range(len(lst)):\n",
        "    if(type(lst[i])== int):\n",
        "      temp.append(lst[i])\n",
        "  return temp\n",
        "\n",
        "integer([1,2,3,\"sho\",'s','f'])"
      ],
      "metadata": {
        "id": "0a_Acu3P8pz-"
      },
      "execution_count": null,
      "outputs": []
    }
  ]
}