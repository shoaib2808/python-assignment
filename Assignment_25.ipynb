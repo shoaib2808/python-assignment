{
  "nbformat": 4,
  "nbformat_minor": 0,
  "metadata": {
    "colab": {
      "provenance": []
    },
    "kernelspec": {
      "name": "python3",
      "display_name": "Python 3"
    },
    "language_info": {
      "name": "python"
    }
  },
  "cells": [
    {
      "cell_type": "markdown",
      "source": [
        "#ASSIGNMENT"
      ],
      "metadata": {
        "id": "hA7W4hrEULk3"
      }
    },
    {
      "cell_type": "markdown",
      "source": [
        "#1) . What is the difference between enclosing a list comprehension in square brackets and parentheses?\n"
      ],
      "metadata": {
        "id": "yilq9C36UN3S"
      }
    },
    {
      "cell_type": "markdown",
      "source": [
        " Enclosing a list comprehension in square brackets returns a list.but where as enclosing a list comprehension in parentheses returns a generator object"
      ],
      "metadata": {
        "id": "4Wbhjvh8UWUV"
      }
    },
    {
      "cell_type": "markdown",
      "source": [
        "#2) What is the relationship between generators and iterators?"
      ],
      "metadata": {
        "id": "wCjyRoI9UYMF"
      }
    },
    {
      "cell_type": "markdown",
      "source": [
        "An iterator is an object which contains a countable number of values and it is used to iterate over iterable objects like list, tuples, sets, etc. Iterators are implemented using a class. It follows lazy evaluation where the evaluation of the expression will be on hold and stored in the memory until the item is called specifically which helps us to avoid repeated evaluation. As lazy evaluation is implemented, it requires only 1 memory location to process the value and when we are using a large dataset then, wastage of RAM space will be reduced the need to load the entire dataset at the same time will not be there.For an iterator: iter() keyword is used to create an iterator containing an iterable object.next() keyword is used to call the next element in the iterable object.\n",
        "\n",
        "Similarly Generators are an another way of creating iterators in a simple way where it uses the keyword yield statement instead of return statement in a defined function.Generators are implemented using a function. Just as iterators, generators also follow lazy evaluation. Here, the yield function returns the data without affecting or exiting the function. It will return a sequence of data in an iterable format where we need to iterate over the sequence to use the data as they won’t store the entire sequence in the memory."
      ],
      "metadata": {
        "id": "J4QSCA4hUa1d"
      }
    },
    {
      "cell_type": "markdown",
      "source": [
        "#3) What are the signs that a function is a generator function?"
      ],
      "metadata": {
        "id": "rqgL8SMOUeMd"
      }
    },
    {
      "cell_type": "markdown",
      "source": [
        "A generator function uses a yield statement instead of a return statement. A generator function will always return a iterable object called generator. where as a normal function can return a string/list/tuple/dict/NoneType ... etc"
      ],
      "metadata": {
        "id": "ar7kHlo2Ug8X"
      }
    },
    {
      "cell_type": "markdown",
      "source": [
        "#4) What is the purpose of a yield statement?"
      ],
      "metadata": {
        "id": "7Q7YAJngUi8K"
      }
    },
    {
      "cell_type": "markdown",
      "source": [
        "The yield statement suspends function’s execution and sends a value back to the caller, but retains enough state to enable function to resume where it is left off. When resumed, the function continues execution immediately after the last yield run. This allows its code to produce a series of values over time, rather than computing them at once and sending them back like a list."
      ],
      "metadata": {
        "id": "YFniF9UtUljp"
      }
    },
    {
      "cell_type": "markdown",
      "source": [
        "#5) What is the relationship between map calls and list comprehensions? Make a comparison and contrast between the two ?"
      ],
      "metadata": {
        "id": "UUvdRcI3UoDR"
      }
    },
    {
      "cell_type": "markdown",
      "source": [
        "The main differences between map calls and list comprehensiosn are:\n",
        "\n",
        "List comprehension is more concise and easier to read as compared to map.\n",
        "\n",
        "List comprehension allows filtering. In map, we have no such facility. For example, to print all odd numbers in range of 50, we can write [n for n in range(50) if n%2 != 0]. There is no alternate for it in map\n",
        "\n",
        "List comprehension are used when a list of results is required as final output.but map only returns a map object. it needs to be explicitly coverted to desired datatype.\n",
        "\n",
        "List comprehension is faster than map when we need to evaluate expressions that are too long or complicated to express\n",
        "\n",
        "\n",
        "Map is faster in case of calling an already defined function on a set of values."
      ],
      "metadata": {
        "id": "4qlcnZZ0UrkE"
      }
    },
    {
      "cell_type": "code",
      "source": [],
      "metadata": {
        "id": "0LeU0LLBUMjK"
      },
      "execution_count": null,
      "outputs": []
    }
  ]
}