{
  "nbformat": 4,
  "nbformat_minor": 0,
  "metadata": {
    "colab": {
      "provenance": []
    },
    "kernelspec": {
      "name": "python3",
      "display_name": "Python 3"
    },
    "language_info": {
      "name": "python"
    }
  },
  "cells": [
    {
      "cell_type": "markdown",
      "source": [
        "#ASSIGNMENT"
      ],
      "metadata": {
        "id": "dLP-VhmAwXt0"
      }
    },
    {
      "cell_type": "markdown",
      "source": [
        "#Q1. Explain the difference between greedy and non-greedy syntax with visual terms in as few words as possible. What is the bare minimum effort required to transform a greedy pattern into a non-greedy one? What characters or characters can you introduce or change?"
      ],
      "metadata": {
        "id": "x-_Ls-kuwbTt"
      }
    },
    {
      "cell_type": "markdown",
      "source": [
        "The Main difference between Greedy and Non Greedy Match Syntax is The Greedy Match will try to match as many repetitions of the quantified pattern as possible Whereas The Non Greedy Match will try to match as few repetitions of the quantified pattern as possible"
      ],
      "metadata": {
        "id": "tioo3a62wj8a"
      }
    },
    {
      "cell_type": "code",
      "source": [
        "import re\n",
        "print(re.findall(\"v*\", \"vvvvvv\")) \n",
        "print(re.findall(\"v*?\", \"vvvvvv\"))"
      ],
      "metadata": {
        "colab": {
          "base_uri": "https://localhost:8080/"
        },
        "id": "t-2XpNbCwZ4U",
        "outputId": "e288fcd2-c04c-4bbe-cfb8-deeb929899f7"
      },
      "execution_count": 1,
      "outputs": [
        {
          "output_type": "stream",
          "name": "stdout",
          "text": [
            "['vvvvvv', '']\n",
            "['', 'v', '', 'v', '', 'v', '', 'v', '', 'v', '', 'v', '']\n"
          ]
        }
      ]
    },
    {
      "cell_type": "markdown",
      "source": [
        "#Q2. When exactly does greedy versus non-greedy make a difference? What if you're looking for a non-greedy match but the only one available is greedy?"
      ],
      "metadata": {
        "id": "oAev5ffVwtvb"
      }
    },
    {
      "cell_type": "markdown",
      "source": [
        "The Greedy Match will try to match as many repetitions of the quantified pattern as possible. The Non Greedy Match will try to match as few repetitions of the quantified pattern as possible. If only Non Greedy Match is available, we can use other filtering or pattern matching methods of regex and further identify the required pattern."
      ],
      "metadata": {
        "id": "1KuJogZNw02t"
      }
    },
    {
      "cell_type": "markdown",
      "source": [
        "#Q3. In a simple match of a string, which looks only for one match and does not do any replacement, is the use of a nontagged group likely to make any practical difference?"
      ],
      "metadata": {
        "id": "q9HWa4r3w4fb"
      }
    },
    {
      "cell_type": "markdown",
      "source": [
        "In this Case The Non Tagged Group will not make any diffrence in this case.\n",
        "\n"
      ],
      "metadata": {
        "id": "SF806A4UxCS-"
      }
    },
    {
      "cell_type": "code",
      "source": [
        "import re\n",
        "phoneNumRegex = re.compile(r'\\d\\d\\d')\n",
        "num = phoneNumRegex.search('My number is 234-567-8901.')\n",
        "print(f'Phone number found -> {num.group()}') "
      ],
      "metadata": {
        "id": "qPul7sjgwpoN"
      },
      "execution_count": null,
      "outputs": []
    },
    {
      "cell_type": "markdown",
      "source": [
        "#Q4. Describe a scenario in which using a nontagged category would have a significant impact on the program's outcomes ?"
      ],
      "metadata": {
        "id": "cFEI5IFQxJGb"
      }
    },
    {
      "cell_type": "markdown",
      "source": [
        "Here in the below Code Snippet . decimal is not tagged or captured. It will useful in scenarios where the separator of value in a string is of no use and we need to capture only the values."
      ],
      "metadata": {
        "id": "biHDOm1pxLgX"
      }
    },
    {
      "cell_type": "markdown",
      "source": [
        "#Q5. Unlike a normal regex pattern, a look-ahead condition does not consume the characters it examines. Describe a situation in which this could make a difference in the results of your programme ?"
      ],
      "metadata": {
        "id": "XjJa9G9qxNtk"
      }
    },
    {
      "cell_type": "markdown",
      "source": [
        "While counting the number of multiple lines or mutiple sentence in a string the positive look ahead makes a difference, without which we wont get the correct count of lines or sentences in a string."
      ],
      "metadata": {
        "id": "vUVvX_o3xQB_"
      }
    },
    {
      "cell_type": "markdown",
      "source": [
        "#Q6. In standard expressions, what is the difference between positive look-ahead and negative look-ahead ?"
      ],
      "metadata": {
        "id": "vt7cBTITxSzC"
      }
    },
    {
      "cell_type": "markdown",
      "source": [
        "Positive Lookahead allows to add a condition for what follows. Negative Lookahead is similar, but it looks behind. That is, it allows to match a pattern only if there’s something before it."
      ],
      "metadata": {
        "id": "nA0OVZm7xVpE"
      }
    },
    {
      "cell_type": "markdown",
      "source": [
        "#Q7. What is the benefit of referring to groups by name rather than by number in a standard expression?"
      ],
      "metadata": {
        "id": "Jvwuu6B4xYOS"
      }
    },
    {
      "cell_type": "markdown",
      "source": [
        "Referring to groups by name rather than by number in a standard expression helps to keep the code clear and easy to understand."
      ],
      "metadata": {
        "id": "E4KhTCw9xavL"
      }
    },
    {
      "cell_type": "markdown",
      "source": [
        "#Q8. Can you identify repeated items within a target string using named groups, as in \"The cow jumped over the moon\"?"
      ],
      "metadata": {
        "id": "Jn11j5YyxdqP"
      }
    },
    {
      "cell_type": "code",
      "source": [
        "import re\n",
        "text = \"The cow jumped over the moon\"\n",
        "regobj=re.compile(r'(?P<w1>The)',re.I)\n",
        "regobj.findall(text)"
      ],
      "metadata": {
        "id": "x0kxz0vsxF8d"
      },
      "execution_count": null,
      "outputs": []
    },
    {
      "cell_type": "markdown",
      "source": [
        "#Q9. When parsing a string, what is at least one thing that the Scanner interface does for you that the re.findall feature does not ?"
      ],
      "metadata": {
        "id": "cLshWTDwxnyz"
      }
    },
    {
      "cell_type": "markdown",
      "source": [
        "re.findall() module is used to search for all occurrences that match a given pattern. In contrast, re.search() will only return the first occurrence that matches the specified pattern. re.findall() will iterate over all the lines of the file and will return all non-overlapping matches of pattern in a single step."
      ],
      "metadata": {
        "id": "Q2sSwMypxzxF"
      }
    },
    {
      "cell_type": "markdown",
      "source": [
        "#Q10. Does a scanner object have to be named scanner?\n"
      ],
      "metadata": {
        "id": "eKiUyNssx2ve"
      }
    },
    {
      "cell_type": "markdown",
      "source": [
        "Yes, It may have any name."
      ],
      "metadata": {
        "id": "KoZu5Y0ex80S"
      }
    },
    {
      "cell_type": "code",
      "source": [],
      "metadata": {
        "id": "VOK1JlE6xoHr"
      },
      "execution_count": null,
      "outputs": []
    }
  ]
}