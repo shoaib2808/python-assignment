{
  "nbformat": 4,
  "nbformat_minor": 0,
  "metadata": {
    "colab": {
      "provenance": []
    },
    "kernelspec": {
      "name": "python3",
      "display_name": "Python 3"
    },
    "language_info": {
      "name": "python"
    }
  },
  "cells": [
    {
      "cell_type": "markdown",
      "source": [
        "#ASSIGNMENT"
      ],
      "metadata": {
        "id": "U5X8C_J3qg94"
      }
    },
    {
      "cell_type": "markdown",
      "source": [
        "#1. What are the new features added in Python 3.8 version?"
      ],
      "metadata": {
        "id": "mz4jSIzJqjge"
      }
    },
    {
      "cell_type": "markdown",
      "source": [
        "Some New Features Added in Python 3.8 Version are:\n",
        "\n",
        "Walrus Operator: This operator is used to assign and return a value in the same expression. This removes the need for initializing the variable upfront. The major benefit of this is it saves some lines of code. It is also known as The Walrus Operator due to its similarity to the eyes and tusks of a walrus.\n",
        "\n",
        "yield and return statements do not require parentheses to return multiple values.\n",
        "\n",
        "Reversed works with a dictionary. The built-in method reversed() can be used for accessing the elements in the reverse order of insertion\n",
        "\n",
        "Dict comprehensions have been modified so that the key is computed first and the value second.\n",
        "\n",
        "importlib_metadata is a new library added in the Python’s standard utility modules, that provides an API for accessing an installed package’s metadata, such as its entry points or its top-level name.\n",
        "\n",
        "f-strings now support = , to make string interpolation easy. Python 3.8 allows the use of the above-discussed assignment operator and equal sign (=) inside the f-strings.\n",
        "\n",
        "In the three-argument form of pow(), when the exponent is -1, it calculates the modular multiplicative inverse of the given value\n",
        "\n",
        "The csv.DictReader now returns instances of dictionary instead of a collections.OrderedDict.\n",
        "\n",
        "If you miss a comma in your code such as a = [(1, 2) (3, 4)], instead of throwing TypeError, it displays an informative Syntax warning."
      ],
      "metadata": {
        "id": "kVEw8rskqnGf"
      }
    },
    {
      "cell_type": "markdown",
      "source": [
        "#2. What is monkey patching in Python?"
      ],
      "metadata": {
        "id": "8PUr1dE0qqOp"
      }
    },
    {
      "cell_type": "markdown",
      "source": [
        " In Python, the term monkey patch refers to making dynamic (or run-time) modifications to a class or module. In Python, we can actually change the behavior of code at run-time."
      ],
      "metadata": {
        "id": "LCaHHNpYqx7B"
      }
    },
    {
      "cell_type": "code",
      "source": [
        "class A:\n",
        "    def func(self):\n",
        "        print(\"func() is being called\")\n",
        "\n",
        "def monkey_f(self):\n",
        "    print(\"monkey_f() is being called\")\n",
        "\n",
        "A.func = monkey_f\n",
        "some_object = A()\n",
        "some_object.func()"
      ],
      "metadata": {
        "id": "kbPOi3l5qiHr"
      },
      "execution_count": null,
      "outputs": []
    },
    {
      "cell_type": "markdown",
      "source": [
        "#3. What is the difference between a shallow copy and deep copy?"
      ],
      "metadata": {
        "id": "fnNpZ2zIrT47"
      }
    },
    {
      "cell_type": "markdown",
      "source": [
        "The Differences between a Shallow Copy and deep copy are as follows:\n",
        "\n",
        "When an object is copied using copy(), it is called shallow copy as changes made in copied object will also make corresponding changes in original object, because both the objects will be referencing same address location.\n",
        "\n",
        "When an object is copied using deepcopy(), it is called deep copy as changes made in copied object will not make corresponding changes in original object, because both the objects will not be referencing same address location."
      ],
      "metadata": {
        "id": "pfumCViXrWmA"
      }
    },
    {
      "cell_type": "markdown",
      "source": [
        "#4. What is the maximum possible length of an identifier?"
      ],
      "metadata": {
        "id": "HMsVx1X4rZSS"
      }
    },
    {
      "cell_type": "markdown",
      "source": [
        "In Python, the highest possible length of an identifier is 79 characters. Python is a high level programming language. It’s also a complex form and a collector of waste.\n",
        "\n",
        "Python, particularly when combined with identifiers, is case-sensitive.\n",
        "\n",
        "When writing or using identifiers in Python, it has a maximum of 79 characters.\n",
        "\n",
        "Unlikely, Python gives the identifiers unlimited length.\n",
        "\n",
        "However, the layout of PEP-8 prevents the user from breaking the rules and includes a 79-character limit."
      ],
      "metadata": {
        "id": "zsHASJ9Qre_6"
      }
    },
    {
      "cell_type": "markdown",
      "source": [
        "#5. What is generator comprehension?"
      ],
      "metadata": {
        "id": "mJixFanKrjZ0"
      }
    },
    {
      "cell_type": "markdown",
      "source": [
        "A generator comprehension is a single-line specification for defining a generator in Python.\n",
        "\n",
        "It is absolutely essential to learn this syntax in order to write simple and readable code.\n",
        "\n",
        "Generator comprehension uses round bracket unlike square bracket in list comprehension.\n",
        "\n",
        "The generator yields one item at a time and generates item only when in demand. \n",
        "\n",
        "Whereas, in a list comprehension, Python reserves memory for the whole list. \n",
        "Thus we can say that the generator expressions are memory efficient than the lists."
      ],
      "metadata": {
        "id": "MkAd_jcArmJ3"
      }
    },
    {
      "cell_type": "code",
      "source": [
        "in_list = [x for x in range(10)] # List Comprehension\n",
        "print(in_list)\n",
        "out_gen = (x for x in in_list if x%2 == 0) # Generator Comprehension\n",
        "print(out_gen) # Returns a Generator Object\n",
        "for ele in out_gen:\n",
        "    print(ele, end=\" \")"
      ],
      "metadata": {
        "id": "zOZBuxFXrUSh"
      },
      "execution_count": null,
      "outputs": []
    }
  ]
}