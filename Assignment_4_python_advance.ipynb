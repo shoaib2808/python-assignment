{
  "nbformat": 4,
  "nbformat_minor": 0,
  "metadata": {
    "colab": {
      "provenance": []
    },
    "kernelspec": {
      "name": "python3",
      "display_name": "Python 3"
    },
    "language_info": {
      "name": "python"
    }
  },
  "cells": [
    {
      "cell_type": "markdown",
      "source": [
        "#ASSIGNMENT"
      ],
      "metadata": {
        "id": "F_pVuP2iA5QC"
      }
    },
    {
      "cell_type": "markdown",
      "source": [
        "#Q1. Which two operator overloading methods can you use in your classes to support iteration?"
      ],
      "metadata": {
        "id": "wyx8NzWjA97A"
      }
    },
    {
      "cell_type": "markdown",
      "source": [
        "iter and next are the two operator overloading method used in python for iteration\n"
      ],
      "metadata": {
        "id": "rcEcqD2PBozN"
      }
    },
    {
      "cell_type": "code",
      "source": [
        "i=0\n",
        "n =int(input(\"Enter a number\"))\n",
        "s=range(n)\n",
        "k=iter(s)\n",
        "while(i<n):\n",
        "  print(k.__next__())\n",
        "  i=i+1"
      ],
      "metadata": {
        "id": "OUZg3rtFA8GA"
      },
      "execution_count": null,
      "outputs": []
    },
    {
      "cell_type": "markdown",
      "source": [
        "#Q2 In what contexts do the two operator overloading methods manage printing?"
      ],
      "metadata": {
        "id": "RN7rTvuoGrFH"
      }
    },
    {
      "cell_type": "code",
      "source": [
        "class A:\n",
        "    def __init__(self, a):\n",
        "        self.a = a\n",
        "    def __add__(self, o):\n",
        "        return self.a + o.a\n",
        "ob1 = A(1)\n",
        "ob2 = A(2)\n",
        "ob3 = A(\"test\")\n",
        "ob4 = A(\"ineuron\")\n",
        " \n",
        "print(ob1 + ob2)\n",
        "print(ob3 + ob4)"
      ],
      "metadata": {
        "id": "JtS0L-UzGsyV"
      },
      "execution_count": null,
      "outputs": []
    },
    {
      "cell_type": "markdown",
      "source": [
        "#Q4. In a class, how do you capture in-place addition?"
      ],
      "metadata": {
        "id": "fpc-0_hTD_Tx"
      }
    },
    {
      "cell_type": "code",
      "source": [
        "import operator\n",
        "class add: \n",
        "  def inplace_add(self,x,y):\n",
        "    x = operator.iadd(x, y);\n",
        "    return x\n",
        "\n",
        "print (\"The value after adding and assigning : \", end=\"\")\n",
        "obj= add()\n",
        "obj.inplace_add(3,4)"
      ],
      "metadata": {
        "colab": {
          "base_uri": "https://localhost:8080/"
        },
        "id": "KdL01nqxCL5l",
        "outputId": "c203aafb-e691-4401-dac1-96248d04f8a2"
      },
      "execution_count": 11,
      "outputs": [
        {
          "output_type": "stream",
          "name": "stdout",
          "text": [
            "The value after adding and assigning : "
          ]
        },
        {
          "output_type": "execute_result",
          "data": {
            "text/plain": [
              "7"
            ]
          },
          "metadata": {},
          "execution_count": 11
        }
      ]
    },
    {
      "cell_type": "markdown",
      "source": [
        "#Q5. When is it appropriate to use operator overloading?"
      ],
      "metadata": {
        "id": "fzJ84xE6EdNU"
      }
    },
    {
      "cell_type": "markdown",
      "source": [
        "Opeartor overloading is done when the user wants to perform certain pre defined opearator actions with the class.\n",
        "\n",
        "for example if we want to add two object af a class which takes numerical input we use opeartor overloading"
      ],
      "metadata": {
        "id": "UwsVcG4eEl-q"
      }
    },
    {
      "cell_type": "code",
      "source": [],
      "metadata": {
        "id": "DAJRLKnMEVs3"
      },
      "execution_count": null,
      "outputs": []
    }
  ]
}