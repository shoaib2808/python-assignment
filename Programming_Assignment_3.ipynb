{
  "nbformat": 4,
  "nbformat_minor": 0,
  "metadata": {
    "colab": {
      "provenance": []
    },
    "kernelspec": {
      "name": "python3",
      "display_name": "Python 3"
    },
    "language_info": {
      "name": "python"
    }
  },
  "cells": [
    {
      "cell_type": "markdown",
      "source": [
        "##ASSIGNMENT"
      ],
      "metadata": {
        "id": "rAcJeX8xHLbG"
      }
    },
    {
      "cell_type": "markdown",
      "source": [
        "1. Write a Python Program to Check if a Number is Positive, Negative or Zero?"
      ],
      "metadata": {
        "id": "BLQI_6biHRf1"
      }
    },
    {
      "cell_type": "code",
      "execution_count": null,
      "metadata": {
        "id": "1kVrSTRNHKbx"
      },
      "outputs": [],
      "source": [
        "try:\n",
        " num=int(input(\"Enter number\"))\n",
        " if(num>0):\n",
        "   print(f\"{num} is a positive number\")\n",
        " elif(num==0):\n",
        "   print(\"you have entered a zero\")\n",
        " else:\n",
        "   print(f\"{num} is a nrgative number\")\n",
        "except Exception as e:\n",
        "  print(\"please enter a number\")"
      ]
    },
    {
      "cell_type": "markdown",
      "source": [
        "2. Write a Python Program to Check if a Number is Odd or Even?"
      ],
      "metadata": {
        "id": "QiYgLrxsIbyV"
      }
    },
    {
      "cell_type": "code",
      "source": [
        "num=int(input(\"Enter number\"))\n",
        "if(num%2):\n",
        "  print(f\"{num} is odd  number\")\n",
        "else:\n",
        " print(f\"{num} is even  number\")"
      ],
      "metadata": {
        "id": "J2RNxU8sHr_P"
      },
      "execution_count": null,
      "outputs": []
    },
    {
      "cell_type": "markdown",
      "source": [
        "3. Write a Python Program to Check Leap Year?"
      ],
      "metadata": {
        "id": "e2k3BoW-I5Xi"
      }
    },
    {
      "cell_type": "code",
      "source": [
        "year=int(input(\"Enter a year\"))\n",
        "\n",
        "if(year%400!=0 and year%100==0):\n",
        "    print(\"leap year\")\n",
        "elif(year%4==0):\n",
        "  print(\"leap year\")\n",
        "else:\n",
        "  print(\"not a leap year\")\n",
        "\n"
      ],
      "metadata": {
        "colab": {
          "base_uri": "https://localhost:8080/"
        },
        "id": "bqhdOnDPIwGg",
        "outputId": "48dcda31-34af-4c59-837f-6245ab5c4dfe"
      },
      "execution_count": 12,
      "outputs": [
        {
          "output_type": "stream",
          "name": "stdout",
          "text": [
            "Enter a year1999\n",
            "not a leap year\n"
          ]
        }
      ]
    },
    {
      "cell_type": "markdown",
      "source": [
        "4. Write a Python Program to Check Prime Number?"
      ],
      "metadata": {
        "id": "0RJM0-JfKrY3"
      }
    },
    {
      "cell_type": "code",
      "source": [
        "num=int(input(\"Enter number \"))\n",
        "factor=1\n",
        "i=2\n",
        "while(i<=(num/2)):\n",
        "  if(num%i==0):\n",
        "    factor=factor+1\n",
        "  i=i+1\n",
        "  \n",
        "  if(factor==2):\n",
        "    print(f\"{num} is not a prime number\")\n",
        "    break\n",
        "if(factor==1):\n",
        "  print(f\"{num} is a prime number\")\n"
      ],
      "metadata": {
        "id": "zjTrvYNEKrx6"
      },
      "execution_count": null,
      "outputs": []
    },
    {
      "cell_type": "markdown",
      "source": [
        "5. Write a Python Program to Print all Prime Numbers in an Interval of 1-10000?"
      ],
      "metadata": {
        "id": "qYDQIJ5nM99y"
      }
    },
    {
      "cell_type": "code",
      "source": [
        "for item in range(1,10000):\n",
        " factor=1\n",
        " i=2\n",
        " while(i<=(item/2)):\n",
        "   if(item%i==0):\n",
        "     factor=factor+1\n",
        "   i=i+1 \n",
        "   if(factor==2):\n",
        "    continue\n",
        " if(factor==1):\n",
        "  print(item)   \n",
        "  "
      ],
      "metadata": {
        "id": "TwQaOrhvLxA1"
      },
      "execution_count": null,
      "outputs": []
    },
    {
      "cell_type": "code",
      "source": [],
      "metadata": {
        "id": "_B-h5_40ONl1"
      },
      "execution_count": null,
      "outputs": []
    }
  ]
}