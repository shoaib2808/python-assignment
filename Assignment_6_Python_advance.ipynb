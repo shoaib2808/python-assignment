{
  "nbformat": 4,
  "nbformat_minor": 0,
  "metadata": {
    "colab": {
      "provenance": []
    },
    "kernelspec": {
      "name": "python3",
      "display_name": "Python 3"
    },
    "language_info": {
      "name": "python"
    }
  },
  "cells": [
    {
      "cell_type": "markdown",
      "source": [
        "#ASSIGNMENT"
      ],
      "metadata": {
        "id": "ojM6Z9uC2S4P"
      }
    },
    {
      "cell_type": "markdown",
      "source": [
        "#Q1. Describe three applications for exception processing."
      ],
      "metadata": {
        "id": "j6Qur48K2VGg"
      }
    },
    {
      "cell_type": "markdown",
      "source": [
        "Exception Processing is important to find exceptions that causes the runtime error. As runtime errors Halt the program execution when exception occurs.\n",
        "\n",
        "Exception Processing is used in Various Applications of which few examples are:\n",
        "\n",
        "Checking Appropriate use of input in an application\n",
        "\n",
        "Checking for Arithmetic exceptions in mathematical executions\n",
        "\n",
        "Checking File I/O exceptions during File handling"
      ],
      "metadata": {
        "id": "aDcqX45P2Xc4"
      }
    },
    {
      "cell_type": "markdown",
      "source": [
        "#Q2. What happens if you don't do something extra to treat an exception?\n"
      ],
      "metadata": {
        "id": "473HMHXk2a1l"
      }
    },
    {
      "cell_type": "markdown",
      "source": [
        "If Exceptions are not handled flow of program will be broken during the run time which might lead to a abnormal termination of the program. Inshort inability of program to handle exceptions will result in crashing of program."
      ],
      "metadata": {
        "id": "RxkNnKyi2d6j"
      }
    },
    {
      "cell_type": "markdown",
      "source": [
        "#Q3. What are your options for recovering from an exception in your script?"
      ],
      "metadata": {
        "id": "dML5jEVA2gV4"
      }
    },
    {
      "cell_type": "markdown",
      "source": [
        "Python provides try and except statements for recovering from an exception in your script."
      ],
      "metadata": {
        "id": "FZa16N_Z2jYk"
      }
    },
    {
      "cell_type": "markdown",
      "source": [
        "#Q4. Describe two methods for triggering exceptions in your script ?\n"
      ],
      "metadata": {
        "id": "nrQ4AjcX2mUp"
      }
    },
    {
      "cell_type": "markdown",
      "source": [
        "raise and assert are two methods that can be used to trigger manual exceptions in your script.\n",
        "\n",
        "raise method triggers an exception if condition provided to it turns out to be True.\n",
        "assert will let the program to continue execution if condition provided to it turns out to be True else exception will be raised"
      ],
      "metadata": {
        "id": "xPoLP8fd2vue"
      }
    },
    {
      "cell_type": "code",
      "source": [
        "x = 10\n",
        "raise Exception(f'X Value Should not exceed 5 The Provided Value of X is {x}')"
      ],
      "metadata": {
        "id": "Ip1kZZSw2T-H"
      },
      "execution_count": null,
      "outputs": []
    },
    {
      "cell_type": "markdown",
      "source": [
        "#Q5. Identify two methods for specifying actions to be executed at termination time, regardless of whether or not an exception exists."
      ],
      "metadata": {
        "id": "wRP0r3o020Ni"
      }
    },
    {
      "cell_type": "markdown",
      "source": [
        "Python Provides else and finally blocks for specifying actions to be executed at termination time, regardless of whether an exceptions exists or not."
      ],
      "metadata": {
        "id": "zID7noYT22nR"
      }
    },
    {
      "cell_type": "code",
      "source": [],
      "metadata": {
        "id": "wZ_hxatP20qs"
      },
      "execution_count": null,
      "outputs": []
    }
  ]
}