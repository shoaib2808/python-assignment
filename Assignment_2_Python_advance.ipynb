{
  "nbformat": 4,
  "nbformat_minor": 0,
  "metadata": {
    "colab": {
      "provenance": []
    },
    "kernelspec": {
      "name": "python3",
      "display_name": "Python 3"
    },
    "language_info": {
      "name": "python"
    }
  },
  "cells": [
    {
      "cell_type": "markdown",
      "source": [
        "#ASSISNMENT"
      ],
      "metadata": {
        "id": "9w1KOSieYs5q"
      }
    },
    {
      "cell_type": "markdown",
      "source": [
        "#Q1. What is the relationship between classes and modules?\n"
      ],
      "metadata": {
        "id": "p2IbHhL0YuqM"
      }
    },
    {
      "cell_type": "markdown",
      "source": [
        "Classes are the blue print of object that contains methods and variables. classes can be instantiated that is it can have object \n",
        "\n",
        "Modules on the other hand are collection of the classes , modules can not have object but it can cantain many classes .Modules are used to reuse code in another code\n"
      ],
      "metadata": {
        "id": "g0TatljmYyQx"
      }
    },
    {
      "cell_type": "markdown",
      "source": [
        "#Q2. How do you make instances and classes?"
      ],
      "metadata": {
        "id": "OWRytZazZaGK"
      }
    },
    {
      "cell_type": "markdown",
      "source": [
        "Classes can be cretaed with the help of Class keyword followed by classname\n",
        "\n",
        "\n",
        "class test:\n",
        "\n",
        "   // TEST CLASS\n",
        "\n",
        "To create an instance of a class we can use the name of the class as below\n",
        "\n",
        "object = test()// if the class has constructor and expecting any parameter then we have to provide it here while declaring"
      ],
      "metadata": {
        "id": "eEwNqWFwZb9b"
      }
    },
    {
      "cell_type": "markdown",
      "source": [
        "#Q3. Where and how should be class attributes created?"
      ],
      "metadata": {
        "id": "tWGqZvfHZ_sY"
      }
    },
    {
      "cell_type": "markdown",
      "source": [
        "class attribute should be cretaed inside the class, variables can be initialesd and declared inside the __init__ method , also can declare class variable outside the init method\n",
        "\n",
        "Functions can be declared using def keyword inside of the class"
      ],
      "metadata": {
        "id": "EaoEzXCPa3sJ"
      }
    },
    {
      "cell_type": "code",
      "source": [
        "class test:\n",
        "  var1 =\"test\"  #This is a clas variable\n",
        "\n",
        "  def __init__(self,a):\n",
        "    self.a=a # this variable is specific to object\n",
        "\n",
        "  def func(self):\n",
        "    print(\"test\")\n",
        "    # This is the class function\n",
        "\n",
        "obj = test(4)\n",
        "\n",
        "obj.var2 = 'declared outside the class'   # can also declare the variable outside the class , this is specific to object obj\n",
        "print(obj.var2 )\n",
        "\n",
        "obj1= test(5)\n",
        "obj1.var2  # result into error"
      ],
      "metadata": {
        "id": "7jn5sJDpYuHB"
      },
      "execution_count": null,
      "outputs": []
    },
    {
      "cell_type": "markdown",
      "source": [
        "#Q4. Where and how are instance attributes created?"
      ],
      "metadata": {
        "id": "q69vVy5scP1o"
      }
    },
    {
      "cell_type": "markdown",
      "source": [
        "Vaiable attribute should be created inside of the init method\n",
        "\n",
        "can also create outside of the class by specifying the name of the variable , here it is mandatory to declare declare the variable"
      ],
      "metadata": {
        "id": "SVrEWVqQcWDr"
      }
    },
    {
      "cell_type": "code",
      "source": [
        "class test:\n",
        "  var1 =\"test\"  #This is a clas variable\n",
        "\n",
        "  def __init__(self,a):\n",
        "    self.a=a # this variable is specific to object\n",
        "\n",
        "  def func(self):\n",
        "    print(\"test\")\n",
        "    # This is the class function\n",
        "\n",
        "obj = test(4)\n",
        "\n",
        "obj.var2 = 'declared outside the class'   # can also declare the variable outside the class , this is specific to object obj\n",
        "print(obj.var2 )\n",
        "\n",
        "obj1= test(5)\n",
        "obj1.var2  # result into error"
      ],
      "metadata": {
        "id": "AenrkoeIbr0O"
      },
      "execution_count": null,
      "outputs": []
    },
    {
      "cell_type": "markdown",
      "source": [
        "#Q5. What does the term &quot;self&quot; in a Python class mean?"
      ],
      "metadata": {
        "id": "9qCFpxmmcxxV"
      }
    },
    {
      "cell_type": "markdown",
      "source": [
        "Self is used to with classe's function, self is not a keywod in python but it is a convention to use it.  a class can have many objects , in order to hold information for all different objects class needs a pointer that pointer is stored in slef. so we pass object explicitly while calling a function by object so that class can distingusish between different objects"
      ],
      "metadata": {
        "id": "zp11T3V6cx9m"
      }
    },
    {
      "cell_type": "markdown",
      "source": [
        "#Q6. How does a Python class handle operator overloading?"
      ],
      "metadata": {
        "id": "oA70uexzhr2r"
      }
    },
    {
      "cell_type": "markdown",
      "source": [
        "Operator overloading is the process of defining new meaning to existing opearator "
      ],
      "metadata": {
        "id": "awgfPzzyjo8H"
      }
    },
    {
      "cell_type": "code",
      "source": [
        "class test:\n",
        "  \n",
        "  def __init__(self,a):\n",
        "    self.a=a\n",
        "\n",
        "  def __add__(self,U):\n",
        "    return U.a+self.a\n",
        "\n",
        "  def __mul__(self,U):\n",
        "    return U.a*self.a"
      ],
      "metadata": {
        "id": "1Y8HF57AhpIc"
      },
      "execution_count": 23,
      "outputs": []
    },
    {
      "cell_type": "code",
      "source": [
        "obj=test(3)\n",
        "obj1=test(4)"
      ],
      "metadata": {
        "id": "Y8CQpy2pi2NT"
      },
      "execution_count": 24,
      "outputs": []
    },
    {
      "cell_type": "code",
      "source": [
        "obj*obj1"
      ],
      "metadata": {
        "colab": {
          "base_uri": "https://localhost:8080/"
        },
        "id": "IxQSURr8i5kY",
        "outputId": "5dc1a566-f195-47c7-db03-919894d9c07d"
      },
      "execution_count": 25,
      "outputs": [
        {
          "output_type": "execute_result",
          "data": {
            "text/plain": [
              "12"
            ]
          },
          "metadata": {},
          "execution_count": 25
        }
      ]
    },
    {
      "cell_type": "markdown",
      "source": [
        "#Q7. When do you consider allowing operator overloading of your classes?"
      ],
      "metadata": {
        "id": "e0PtSN0pj0TJ"
      }
    },
    {
      "cell_type": "markdown",
      "source": [
        "Opeartor overloading is done when the user wants to perform certain pre defined opearator actions with the class.\n",
        "\n",
        "for example if we want to add two object af a class which takes numerical input\n",
        "we use opeartor overloading"
      ],
      "metadata": {
        "id": "Fz1AuBuzj0nx"
      }
    },
    {
      "cell_type": "markdown",
      "source": [
        "#Q9. What are the two most important concepts to grasp in order to comprehend Python OOP code?"
      ],
      "metadata": {
        "id": "qpIOZXPkkaTz"
      }
    },
    {
      "cell_type": "markdown",
      "source": [
        "The two most important concept to grab is :\n",
        "\n",
        "1 Inheritance\n",
        "\n",
        "2  Polymorphism\n",
        "\n",
        "\n",
        "Inheritance : Inheritance is the capability of one class to derive or inherit the properties from another class. The class that derives properties is called the derived class or child class and the class from which the properties are being derived is called the base class or parent class.\n",
        "\n",
        "Polymorphism : Polymorphism simply means having many forms. For example, we need to determine if the given species of birds fly or not, using polymorphism we can do this using a single function.\n",
        "\n"
      ],
      "metadata": {
        "id": "4EM5ch46mded"
      }
    },
    {
      "cell_type": "code",
      "source": [],
      "metadata": {
        "id": "HgUWGLIPi-ty"
      },
      "execution_count": null,
      "outputs": []
    }
  ]
}