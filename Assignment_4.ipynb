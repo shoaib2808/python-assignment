{
  "nbformat": 4,
  "nbformat_minor": 0,
  "metadata": {
    "colab": {
      "provenance": []
    },
    "kernelspec": {
      "name": "python3",
      "display_name": "Python 3"
    },
    "language_info": {
      "name": "python"
    }
  },
  "cells": [
    {
      "cell_type": "markdown",
      "source": [
        "#ASSIGNMENT"
      ],
      "metadata": {
        "id": "hKmWJQAaBtTb"
      }
    },
    {
      "cell_type": "markdown",
      "source": [
        "#1.What exactly is [ ]?"
      ],
      "metadata": {
        "id": "WZiVricZBsLA"
      }
    },
    {
      "cell_type": "markdown",
      "source": [
        "The empty list represented by [] is a list that contains no items. \n",
        "\n"
      ],
      "metadata": {
        "id": "opMDCRcrBw3M"
      }
    },
    {
      "cell_type": "markdown",
      "source": [
        "#2. In a list of values stored in a variable called spam, how would you assign the value &#39;hello&#39; as the\n",
        "third value? (Assume [2, 4, 6, 8, 10] are in spam.)"
      ],
      "metadata": {
        "id": "YGIMdR_-B4Bd"
      }
    },
    {
      "cell_type": "code",
      "source": [
        "spam = [2,4,6,8,10]\n",
        "spam[2]='hello'\n"
      ],
      "metadata": {
        "id": "4ZWOm1R6Bsyq"
      },
      "execution_count": 6,
      "outputs": []
    },
    {
      "cell_type": "code",
      "source": [],
      "metadata": {
        "id": "-hRqwSjiCr6F"
      },
      "execution_count": null,
      "outputs": []
    },
    {
      "cell_type": "markdown",
      "source": [
        "#Let&#39;s pretend the spam includes the list [&#39;a&#39;, &#39;b&#39;, &#39;c&#39;, &#39;d&#39;] for the next three queries.\n"
      ],
      "metadata": {
        "id": "fNFZ-2rKCpPK"
      }
    },
    {
      "cell_type": "markdown",
      "source": [
        "#3. What is the value of spam[int(int(&#39;3&#39; * 2) / 11)]?"
      ],
      "metadata": {
        "id": "YgfJ1EeqCsvW"
      }
    },
    {
      "cell_type": "code",
      "source": [
        "'d'"
      ],
      "metadata": {
        "id": "3Fmp5Qi0CgEy"
      },
      "execution_count": null,
      "outputs": []
    },
    {
      "cell_type": "markdown",
      "source": [
        "#4. What is the value of spam[-1]?"
      ],
      "metadata": {
        "id": "LRs6b-TgC_hf"
      }
    },
    {
      "cell_type": "markdown",
      "source": [
        "-1 in index represent the last index of the list\n",
        "\n",
        "spam[-1] will be 'd'"
      ],
      "metadata": {
        "id": "CutC-A8iDAq9"
      }
    },
    {
      "cell_type": "markdown",
      "source": [
        "#5. What is the value of spam[:2]?"
      ],
      "metadata": {
        "id": "UbbmWiRSDO-i"
      }
    },
    {
      "cell_type": "markdown",
      "source": [
        "spam = ['a','b','c','d']\n",
        "\n",
        "spam[:2] will be ['a','b','c']"
      ],
      "metadata": {
        "id": "MWcZCUZVDTxv"
      }
    },
    {
      "cell_type": "markdown",
      "source": [
        "#Let&#39;s pretend bacon has the list [3.14, &#39;cat,&#39; 11, &#39;cat,&#39; True] for the next three questions."
      ],
      "metadata": {
        "id": "c7DSLP_ZDgpD"
      }
    },
    {
      "cell_type": "markdown",
      "source": [
        "#6. What is the value of bacon.index(&#39;cat&#39;)?"
      ],
      "metadata": {
        "id": "pzHeqRBPDh9P"
      }
    },
    {
      "cell_type": "code",
      "source": [
        "# this will return the index of element of cat in list \n",
        "1"
      ],
      "metadata": {
        "id": "2AIa3DQ4DOgo"
      },
      "execution_count": null,
      "outputs": []
    },
    {
      "cell_type": "markdown",
      "source": [
        "#7. How does bacon.append(99) change the look of the list value in bacon?"
      ],
      "metadata": {
        "id": "DwT5IGcSDwFJ"
      }
    },
    {
      "cell_type": "markdown",
      "source": [
        "bacon.append(99) willmake list look like this\n",
        "\n",
        "[3.14, 'cat,' 11, 'cat,' True,99]"
      ],
      "metadata": {
        "id": "e5KeRVTEDxcD"
      }
    },
    {
      "cell_type": "markdown",
      "source": [
        "#8. How does bacon.remove('cat') change the look of the list in bacon?"
      ],
      "metadata": {
        "id": "9ozfef0ID_cG"
      }
    },
    {
      "cell_type": "code",
      "source": [
        "bacon = [3.14, 'cat', 11, 'cat', True]\n",
        "print(bacon)\n",
        "bacon.remove('cat')\n",
        "print(bacon)"
      ],
      "metadata": {
        "id": "Y7RFSxMHChJS"
      },
      "execution_count": null,
      "outputs": []
    },
    {
      "cell_type": "markdown",
      "source": [
        "#9.what are the list concatenation and list replication operations?\n"
      ],
      "metadata": {
        "id": "PBq5TsM0Edol"
      }
    },
    {
      "cell_type": "markdown",
      "source": [
        "The operator for list concatenation is +, while the operator for replication is *"
      ],
      "metadata": {
        "id": "oXudzzR4EnwS"
      }
    },
    {
      "cell_type": "markdown",
      "source": [
        "#10.what is the difference between the list method append() and insert()?"
      ],
      "metadata": {
        "id": "e5UMmW4OEubA"
      }
    },
    {
      "cell_type": "markdown",
      "source": [
        " While append() will add values only to the end of a list, insert() can add them anywhere in the list."
      ],
      "metadata": {
        "id": "ExFF04NMEw6g"
      }
    },
    {
      "cell_type": "markdown",
      "source": [
        "#11. What are the two methods for removing items from a list?"
      ],
      "metadata": {
        "id": "lEWRfzLlE_EV"
      }
    },
    {
      "cell_type": "markdown",
      "source": [
        "The del statement and the remove() method are two ways to remove values from a list"
      ],
      "metadata": {
        "id": "mMUiwoe-FCmc"
      }
    },
    {
      "cell_type": "markdown",
      "source": [
        "#12. Describe how list values and string values are identical."
      ],
      "metadata": {
        "id": "dnzChcavFHy2"
      }
    },
    {
      "cell_type": "markdown",
      "source": [
        "In both list and string we can use len function and also can perform slice operation in both"
      ],
      "metadata": {
        "id": "eysQocZuFJAF"
      }
    },
    {
      "cell_type": "markdown",
      "source": [
        "#13. What&#39;s the difference between tuples and lists?"
      ],
      "metadata": {
        "id": "LCx9qMF5FhSp"
      }
    },
    {
      "cell_type": "markdown",
      "source": [
        "Lists are Mutable, Indexable and Slicable. they can have values added, removed, or changed. Tuples are Immutable but Indexable and Slicable. the tuple values cannot be changed at all. Also, tuples are represented using parentheses, (), while lists use the square brackets, []."
      ],
      "metadata": {
        "id": "31rX6Wd4Fnr8"
      }
    },
    {
      "cell_type": "markdown",
      "source": [
        "#14. How do you type a tuple value that only contains the integer 42?"
      ],
      "metadata": {
        "id": "sKoOiDj2FxvF"
      }
    },
    {
      "cell_type": "code",
      "source": [
        "a=(42,)\n",
        "# triling , is mandatory "
      ],
      "metadata": {
        "id": "JwkxWAzzEQMb"
      },
      "execution_count": 16,
      "outputs": []
    },
    {
      "cell_type": "markdown",
      "source": [
        "#15. How do you get a list value&#39;s tuple form? How do you get a tuple value&#39;s list form?"
      ],
      "metadata": {
        "id": "WeJAHc8PGY0t"
      }
    },
    {
      "cell_type": "markdown",
      "source": [
        "The tuple() and list() functions, respectively are used to convert a list to tuple "
      ],
      "metadata": {
        "id": "mkJpq3zDGfqR"
      }
    },
    {
      "cell_type": "markdown",
      "source": [
        "#16. Variables that &quot;contain&quot; list values are not necessarily lists themselves. Instead, what do they\n",
        "contain?"
      ],
      "metadata": {
        "id": "3NBBe9mPGrmo"
      }
    },
    {
      "cell_type": "markdown",
      "source": [
        "They contain references to list values."
      ],
      "metadata": {
        "id": "1CJd4vpYGuyF"
      }
    },
    {
      "cell_type": "code",
      "source": [],
      "metadata": {
        "id": "-VxVd7-lF3Ut"
      },
      "execution_count": null,
      "outputs": []
    }
  ]
}