{
  "nbformat": 4,
  "nbformat_minor": 0,
  "metadata": {
    "colab": {
      "provenance": []
    },
    "kernelspec": {
      "name": "python3",
      "display_name": "Python 3"
    },
    "language_info": {
      "name": "python"
    }
  },
  "cells": [
    {
      "cell_type": "markdown",
      "source": [
        "ASSIGNMENT"
      ],
      "metadata": {
        "id": "zc1nB8IObCJs"
      }
    },
    {
      "cell_type": "markdown",
      "source": [
        "1. Write a Python program to Extract Unique values dictionary values?"
      ],
      "metadata": {
        "id": "nn_INovhbHJh"
      }
    },
    {
      "cell_type": "code",
      "source": [
        "dic={\n",
        "  'name': 'ineuron',\n",
        "  'place':'bsp',\n",
        "  'course': 'FSDS',\n",
        "  'age' : 23,\n",
        "  'fav_subject' : 'FSDS',\n",
        "  'institute': 'ineuron'\n",
        "}\n",
        "\n",
        "value= list(dic.values())\n",
        "unique_value=set(value)\n",
        "print(unique_value)\n"
      ],
      "metadata": {
        "id": "TCMVXKiVbGhD"
      },
      "execution_count": null,
      "outputs": []
    },
    {
      "cell_type": "markdown",
      "source": [
        "2. Write a Python program to find the sum of all items in a dictionary?"
      ],
      "metadata": {
        "id": "NJDBX7p0cSiL"
      }
    },
    {
      "cell_type": "code",
      "source": [
        "dic={\n",
        "  'name': 'ineuron',\n",
        "  'place':'bsp',\n",
        "  'course': 'FSDS',\n",
        "  'age' : 23,\n",
        "  'marks': 70,\n",
        "  'num':80\n",
        "}\n",
        "sum=0\n",
        "for i in dic:\n",
        "  if(type(dic[i])==int):\n",
        "    sum=sum+dic[i]\n",
        "\n",
        "print(sum)"
      ],
      "metadata": {
        "id": "iMYaHA7JbEaF"
      },
      "execution_count": null,
      "outputs": []
    },
    {
      "cell_type": "markdown",
      "source": [
        "3. Write a Python program to Merging two Dictionaries?"
      ],
      "metadata": {
        "id": "o4sJGykic26l"
      }
    },
    {
      "cell_type": "code",
      "source": [
        "dic1={\"a\":\"b\",\"c\":\"d\",\"e\":\"f\"}\n",
        "dic2={\"g\":23}\n",
        "\n",
        "dic2_keys=list(dic2.keys())\n",
        "dic2_values=list(dic2.values())\n",
        "\n",
        "for i in range(len(dic2_keys)):\n",
        "  dic1[dic2_keys[i]]=dic2_values[i]\n",
        "\n",
        "print(f'merged dict is {dic1}')"
      ],
      "metadata": {
        "id": "5VLmT6nicyKp"
      },
      "execution_count": null,
      "outputs": []
    },
    {
      "cell_type": "markdown",
      "source": [
        "4. Write a Python program to convert key-values list to flat dictionary?"
      ],
      "metadata": {
        "id": "cZ15OZuseu-5"
      }
    },
    {
      "cell_type": "code",
      "source": [
        "dict1 = {'month' : [1, 2, 3],\n",
        "            'name' : ['Jan', 'Feb', 'March']}\n",
        "\n",
        "flat_dict=dict()\n",
        "values= list(dict1.values())\n",
        "key,value=values\n",
        "for i in range(len(key)):\n",
        "  flat_dict[key[i]]=value[i]\n",
        "\n",
        "flat_dict"
      ],
      "metadata": {
        "id": "ritXiQKQdK4a"
      },
      "execution_count": null,
      "outputs": []
    },
    {
      "cell_type": "markdown",
      "source": [
        "5. Write a Python program to insertion at the beginning in OrderedDict?"
      ],
      "metadata": {
        "id": "8vVI7W3igAMn"
      }
    },
    {
      "cell_type": "code",
      "source": [
        "from collections import OrderedDict\n",
        "od = OrderedDict()\n",
        "temp=OrderedDict()\n",
        "od={'a':1,\"b\":2,\"c\":3}\n",
        "print(f'before insertion {od}')\n",
        "temp['d']=4\n",
        "\n",
        "key=list(od.keys())\n",
        "value=list(od.values())\n",
        "\n",
        "for i in range(len(key)):\n",
        "  temp[key[i]]=value[i]\n",
        " \n",
        "od=temp\n",
        "print(f'after insertion {od}')"
      ],
      "metadata": {
        "colab": {
          "base_uri": "https://localhost:8080/"
        },
        "id": "JexHtLPef_H1",
        "outputId": "d285e646-52a8-4841-9499-7e1615637ab0"
      },
      "execution_count": 23,
      "outputs": [
        {
          "output_type": "stream",
          "name": "stdout",
          "text": [
            "before insertion {'a': 1, 'b': 2, 'c': 3}\n",
            "after insertion OrderedDict([('d', 4), ('a', 1), ('b', 2), ('c', 3)])\n"
          ]
        }
      ]
    },
    {
      "cell_type": "markdown",
      "source": [
        "6. Write a Python program to check order of character in string using OrderedDict()?"
      ],
      "metadata": {
        "id": "4PtHSo_bpnIP"
      }
    },
    {
      "cell_type": "markdown",
      "source": [
        "7. Write a Python program to sort Python Dictionaries by Key or Value?"
      ],
      "metadata": {
        "id": "9nyyDu9wpwdn"
      }
    },
    {
      "cell_type": "code",
      "source": [
        "dic={'a':1,'b':2,'c':4,'g':3,\"d\":6}\n",
        "\n",
        "key=dic.keys()\n",
        "value=dic.values()\n",
        "inp=input(\"Want to sort dict by key or value? \")\n",
        "if(inp=='key'):\n",
        "  sorted_key=sorted(key)\n",
        "  for i in sorted_key:\n",
        "    print(i,\":\",dic[i])\n",
        "elif(inp=='value'):\n",
        "  sorted_value=sorted(value)\n",
        "  for i in sorted_value:\n",
        "    for j in dic.items():\n",
        "      if(j[1]==i):\n",
        "        print(j)\n",
        "else:\n",
        "  print('enter correct parameter')\n"
      ],
      "metadata": {
        "colab": {
          "base_uri": "https://localhost:8080/"
        },
        "id": "zGSVU4G_fO7K",
        "outputId": "114ed9c6-6c5c-4b74-b75c-c01927331c18"
      },
      "execution_count": 30,
      "outputs": [
        {
          "output_type": "stream",
          "name": "stdout",
          "text": [
            "Want to sort dict by key or value? value\n",
            "('a', 1)\n",
            "('b', 2)\n",
            "('g', 3)\n",
            "('c', 4)\n",
            "('d', 6)\n"
          ]
        }
      ]
    },
    {
      "cell_type": "code",
      "source": [
        "dic={'a':1,'b':2,'c':4,'g':3,\"d\":6}\n",
        "for i in dic.items():\n",
        "  print(i)"
      ],
      "metadata": {
        "colab": {
          "base_uri": "https://localhost:8080/"
        },
        "id": "P7KAlcqfp_6U",
        "outputId": "11b85e76-2bd3-446d-c342-3876f8002c59"
      },
      "execution_count": 28,
      "outputs": [
        {
          "output_type": "stream",
          "name": "stdout",
          "text": [
            "('a', 1)\n",
            "('b', 2)\n",
            "('c', 4)\n",
            "('g', 3)\n",
            "('d', 6)\n"
          ]
        }
      ]
    },
    {
      "cell_type": "code",
      "source": [],
      "metadata": {
        "id": "-uziAQxrt8q8"
      },
      "execution_count": null,
      "outputs": []
    }
  ]
}