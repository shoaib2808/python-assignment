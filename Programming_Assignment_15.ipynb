{
  "nbformat": 4,
  "nbformat_minor": 0,
  "metadata": {
    "colab": {
      "provenance": []
    },
    "kernelspec": {
      "name": "python3",
      "display_name": "Python 3"
    },
    "language_info": {
      "name": "python"
    }
  },
  "cells": [
    {
      "cell_type": "markdown",
      "source": [
        "ASSIGNMENT"
      ],
      "metadata": {
        "id": "zMAEb_Ri-C_m"
      }
    },
    {
      "cell_type": "markdown",
      "source": [
        "Question 1:\n",
        "Please write a program using generator to print the numbers which can be divisible by 5 and\n",
        "7 between 0 and n in comma separated form while n is input by console."
      ],
      "metadata": {
        "id": "JjXAutV3-DDB"
      }
    },
    {
      "cell_type": "code",
      "source": [
        "def divisible(num):\n",
        " \n",
        "  for i in range(num):\n",
        "    if((i%5==0) and (i%7==0)):\n",
        "      yield(i)"
      ],
      "metadata": {
        "id": "kU1kntck-JM8"
      },
      "execution_count": 23,
      "outputs": []
    },
    {
      "cell_type": "code",
      "source": [
        "num =int(input(\"Enter a number\"))\n",
        "for i in divisible(num):\n",
        "  print(i)"
      ],
      "metadata": {
        "colab": {
          "base_uri": "https://localhost:8080/"
        },
        "id": "NA05cmfl-bpD",
        "outputId": "3f6b1b2a-06be-4a19-c203-3d4d99fd1953"
      },
      "execution_count": 24,
      "outputs": [
        {
          "output_type": "stream",
          "name": "stdout",
          "text": [
            "Enter a number100\n",
            "0\n",
            "35\n",
            "70\n"
          ]
        }
      ]
    },
    {
      "cell_type": "markdown",
      "source": [
        "Question 2:\n",
        "Please write a program using generator to print the even numbers between 0 and n in comma\n",
        "separated form while n is input by console."
      ],
      "metadata": {
        "id": "veLvi9MXA0Oz"
      }
    },
    {
      "cell_type": "code",
      "source": [
        "def even(num):\n",
        "  for i in range(num):\n",
        "   if(i%2==0):\n",
        "     yield i"
      ],
      "metadata": {
        "id": "eItgu-1pAdq6"
      },
      "execution_count": 29,
      "outputs": []
    },
    {
      "cell_type": "code",
      "source": [
        "num =int(input(\"Enter a number\"))\n",
        "for i in even(num):\n",
        "  print(i)"
      ],
      "metadata": {
        "id": "CEU8LjfzA_kd"
      },
      "execution_count": null,
      "outputs": []
    },
    {
      "cell_type": "markdown",
      "source": [
        "The Fibonacci Sequence is computed based on the following formula:\n",
        "f(n)=0 if n=0\n",
        "f(n)=1 if n=1\n",
        "f(n)=f(n-1)+f(n-2) if n&gt;1\n",
        "Please write a program using list comprehension to print the Fibonacci Sequence in comma\n",
        "separated form with a given n input by console."
      ],
      "metadata": {
        "id": "eO0qmHoOBWcG"
      }
    },
    {
      "cell_type": "code",
      "source": [],
      "metadata": {
        "id": "V9VBhKSYBEpU"
      },
      "execution_count": 61,
      "outputs": []
    },
    {
      "cell_type": "markdown",
      "source": [
        "Question 4:\n",
        "Assuming that we have some email addresses in the &quot;username@companyname.com&quot; format,\n",
        "please write program to print the user name of a given email address. Both user names and\n",
        "company names are composed of letters only."
      ],
      "metadata": {
        "id": "9GCuq9JtBm7F"
      }
    },
    {
      "cell_type": "code",
      "source": [
        "email = input(\"Enter a valid email\")\n",
        "if(\"@\" not in email):\n",
        "  print(\"Enter a valid email\")\n",
        "else:\n",
        "  l=email.split(\"@\")\n",
        "  print(f\"The user name is {l[0]}\")"
      ],
      "metadata": {
        "id": "-Bcn9DkbBnUo"
      },
      "execution_count": null,
      "outputs": []
    },
    {
      "cell_type": "markdown",
      "source": [
        "Question 5:\n",
        "Define a class named Shape and its subclass Square. The Square class has an init function\n",
        "which takes a length as argument. Both classes have a area function which can print the area\n",
        "of the shape where Shape&#39;s area is 0 by default."
      ],
      "metadata": {
        "id": "nQqnLjvJCL-3"
      }
    },
    {
      "cell_type": "code",
      "source": [
        "class shape:\n",
        "  def area(self):\n",
        "    print(\"Shape area is 0 by default\")\n",
        "\n",
        "class square(shape):\n",
        "  def __init__(self,length):\n",
        "   self.length=length\n",
        "\n",
        "  def area(self,num=None):\n",
        "    try:\n",
        "      area=num**2\n",
        "      print(area)\n",
        "    except:\n",
        "     super().area()\n"
      ],
      "metadata": {
        "id": "yULDRpKnCCip"
      },
      "execution_count": 59,
      "outputs": []
    },
    {
      "cell_type": "code",
      "source": [
        "obj=shape()\n",
        "obj.area()"
      ],
      "metadata": {
        "colab": {
          "base_uri": "https://localhost:8080/"
        },
        "id": "12OHXD_WDXc2",
        "outputId": "9f81705d-639c-4dce-b41a-10772df16858"
      },
      "execution_count": 56,
      "outputs": [
        {
          "output_type": "stream",
          "name": "stdout",
          "text": [
            "Shape area is 0 by default\n"
          ]
        }
      ]
    },
    {
      "cell_type": "code",
      "source": [
        "obj1=square(2)\n",
        "obj1.area(3)\n"
      ],
      "metadata": {
        "id": "tiVTKrFaDbUf"
      },
      "execution_count": null,
      "outputs": []
    },
    {
      "cell_type": "code",
      "source": [],
      "metadata": {
        "id": "Uj9aKjHsDnHO"
      },
      "execution_count": 50,
      "outputs": []
    }
  ]
}