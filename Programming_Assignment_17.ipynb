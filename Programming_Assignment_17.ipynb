{
  "nbformat": 4,
  "nbformat_minor": 0,
  "metadata": {
    "colab": {
      "provenance": []
    },
    "kernelspec": {
      "name": "python3",
      "display_name": "Python 3"
    },
    "language_info": {
      "name": "python"
    }
  },
  "cells": [
    {
      "cell_type": "markdown",
      "source": [
        "ASSIGNMENT"
      ],
      "metadata": {
        "id": "BmXX-sYOKH6f"
      }
    },
    {
      "cell_type": "markdown",
      "source": [
        "Question1. Create a function that takes three arguments a, b, c and returns the sum of the\n",
        "numbers that are evenly divided by c from the range a, b inclusive."
      ],
      "metadata": {
        "id": "0NRzBi-4KL3d"
      }
    },
    {
      "cell_type": "code",
      "source": [
        "def div(a,b,c):\n",
        "  sum=0\n",
        "  for i in range(a,b+1):\n",
        "    if(i%c==0):\n",
        "      sum=sum+i\n",
        "  return sum\n",
        "\n",
        "div(1,10,3)"
      ],
      "metadata": {
        "id": "5xfkR3D2KJi0"
      },
      "execution_count": null,
      "outputs": []
    },
    {
      "cell_type": "markdown",
      "source": [
        "Question2. Create a function that returns True if a given inequality expression is correct and\n",
        "False otherwise."
      ],
      "metadata": {
        "id": "Gc8CN9XbKqRp"
      }
    },
    {
      "cell_type": "code",
      "source": [
        "def correct_signs(equation):\n",
        "  print(equation)\n",
        "\n",
        "correct_signs(2<34>55)"
      ],
      "metadata": {
        "id": "bIqipJMaKhm9"
      },
      "execution_count": null,
      "outputs": []
    },
    {
      "cell_type": "markdown",
      "source": [
        "Question3. Create a function that replaces all the vowels in a string with a specified character."
      ],
      "metadata": {
        "id": "-niD0IMJLdbs"
      }
    },
    {
      "cell_type": "code",
      "source": [
        "def replace_vowels(s, char):\n",
        "  temp=s\n",
        "  for i in s:\n",
        "    if(i in ['a','e','i','o','u']):\n",
        "      temp= temp.replace(i,char)\n",
        "  return temp\n",
        "\n",
        "replace_vowels(\"shoaib\",\"@\")\n"
      ],
      "metadata": {
        "id": "WXiWuIcmLfJq"
      },
      "execution_count": null,
      "outputs": []
    },
    {
      "cell_type": "markdown",
      "source": [
        "Question4. Write a function that calculates the factorial of a number recursively."
      ],
      "metadata": {
        "id": "SNKm8poYNgr-"
      }
    },
    {
      "cell_type": "code",
      "source": [
        "def fact(num):\n",
        "  if(num==1):\n",
        "    return 1\n",
        "  return num*fact(num-1)\n",
        "\n",
        "fact(5)"
      ],
      "metadata": {
        "id": "aNi3lbK1L6KV"
      },
      "execution_count": null,
      "outputs": []
    },
    {
      "cell_type": "markdown",
      "source": [
        "Hamming distance is the number of characters that differ between two strings."
      ],
      "metadata": {
        "id": "isusYIMiOSup"
      }
    },
    {
      "cell_type": "code",
      "source": [
        "def hamming_dist(str1,str2):\n",
        "  ham_distance=0\n",
        "  if(len(str1)!=len(str2)):\n",
        "    print(\"Length of string is not equal\")\n",
        "  else:\n",
        "    for i in range(len(str1)):\n",
        "      if(str1[i]!=str2[i]):\n",
        "        ham_distance=ham_distance+1\n",
        "\n",
        "  return ham_distance\n",
        "\n",
        "hamming_dist(\"abcde\",\"abcdq\")"
      ],
      "metadata": {
        "id": "EBse5g7vNpnx"
      },
      "execution_count": null,
      "outputs": []
    },
    {
      "cell_type": "code",
      "source": [],
      "metadata": {
        "id": "RAwOEdq3O6w-"
      },
      "execution_count": 29,
      "outputs": []
    },
    {
      "cell_type": "code",
      "source": [
        "3<4<6"
      ],
      "metadata": {
        "colab": {
          "base_uri": "https://localhost:8080/"
        },
        "id": "XPS8hfD6O79y",
        "outputId": "c7d8e55d-87f1-479b-f7cc-f988a8fd1b62"
      },
      "execution_count": 44,
      "outputs": [
        {
          "output_type": "execute_result",
          "data": {
            "text/plain": [
              "True"
            ]
          },
          "metadata": {},
          "execution_count": 44
        }
      ]
    },
    {
      "cell_type": "code",
      "source": [],
      "metadata": {
        "id": "-vkwhF1lPu5q"
      },
      "execution_count": 38,
      "outputs": []
    },
    {
      "cell_type": "code",
      "source": [],
      "metadata": {
        "id": "y70x64CPPxLq"
      },
      "execution_count": 41,
      "outputs": []
    },
    {
      "cell_type": "code",
      "source": [],
      "metadata": {
        "id": "9EioK6S3PyZf"
      },
      "execution_count": 38,
      "outputs": []
    },
    {
      "cell_type": "code",
      "source": [],
      "metadata": {
        "id": "5ucV9RWtP9li"
      },
      "execution_count": 38,
      "outputs": []
    },
    {
      "cell_type": "code",
      "source": [],
      "metadata": {
        "id": "fBb3Izi-QDfK"
      },
      "execution_count": null,
      "outputs": []
    }
  ]
}