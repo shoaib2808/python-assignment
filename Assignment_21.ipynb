{
  "nbformat": 4,
  "nbformat_minor": 0,
  "metadata": {
    "colab": {
      "provenance": []
    },
    "kernelspec": {
      "name": "python3",
      "display_name": "Python 3"
    },
    "language_info": {
      "name": "python"
    }
  },
  "cells": [
    {
      "cell_type": "markdown",
      "source": [
        "#ASSIGNMENT"
      ],
      "metadata": {
        "id": "YH2oZhDG6ryq"
      }
    },
    {
      "cell_type": "markdown",
      "source": [
        "#1. Add the current date to the text file today.txt as a string."
      ],
      "metadata": {
        "id": "D2yKF32O6uE-"
      }
    },
    {
      "cell_type": "code",
      "source": [
        "import datetime\n",
        "\n",
        "file = open('today.txt','w')\n",
        "file.write(datetime.datetime.now().strftime(\"%d-%m-%Y\"))\n",
        "file.close()\n",
        "\n",
        "file = open('today.txt','r')\n",
        "print(file.read())\n",
        "file.close()"
      ],
      "metadata": {
        "id": "1Cn4PCWX6s3U"
      },
      "execution_count": null,
      "outputs": []
    },
    {
      "cell_type": "markdown",
      "source": [
        "#2. Read the text file today.txt into the string today_string"
      ],
      "metadata": {
        "id": "-UeUO6QB64g0"
      }
    },
    {
      "cell_type": "code",
      "source": [
        "file = open('today.txt','r')\n",
        "today_string = file.read()\n",
        "print(today_string)"
      ],
      "metadata": {
        "id": "5sT7gHX262Hs"
      },
      "execution_count": null,
      "outputs": []
    },
    {
      "cell_type": "markdown",
      "source": [
        "#3. Parse the date from today_string."
      ],
      "metadata": {
        "id": "icRGbg6B6_Qt"
      }
    },
    {
      "cell_type": "code",
      "source": [
        "from datetime import datetime\n",
        "parsed_data = datetime.strptime(today_string, '%d-%m-%Y')\n",
        "print(parsed_data)"
      ],
      "metadata": {
        "id": "Xhg0SCKK69rh"
      },
      "execution_count": null,
      "outputs": []
    },
    {
      "cell_type": "markdown",
      "source": [
        "#4. List the files in your current directory"
      ],
      "metadata": {
        "id": "0HN0UhRC7Ehu"
      }
    },
    {
      "cell_type": "code",
      "source": [
        "import os\n",
        "for folders, subfolders, files in os.walk(os.getcwd()):\n",
        "    for file in files:\n",
        "        print(file)"
      ],
      "metadata": {
        "id": "EZ0lBqZK7BSj"
      },
      "execution_count": null,
      "outputs": []
    },
    {
      "cell_type": "markdown",
      "source": [
        "#5. Create a list of all of the files in your parent directory (minimum five files should be available)"
      ],
      "metadata": {
        "id": "CeKjstyi7KkU"
      }
    },
    {
      "cell_type": "code",
      "source": [
        "import os \n",
        "os.listdir()"
      ],
      "metadata": {
        "id": "GN4DJbn57GdA"
      },
      "execution_count": null,
      "outputs": []
    },
    {
      "cell_type": "markdown",
      "source": [
        "#7. Create a date object of your day of birth."
      ],
      "metadata": {
        "id": "iTLjkHjC7OzN"
      }
    },
    {
      "cell_type": "code",
      "source": [
        "from datetime import datetime\n",
        "my_dob = datetime.strptime('22/04/1997','%d/%m/%Y')\n",
        "print(my_dob, type(my_dob))"
      ],
      "metadata": {
        "id": "DR22S3Ho7Mnq"
      },
      "execution_count": null,
      "outputs": []
    },
    {
      "cell_type": "markdown",
      "source": [
        "#8. What day of the week was your day of birth?"
      ],
      "metadata": {
        "id": "RuYQ1G_w7Yqb"
      }
    },
    {
      "cell_type": "code",
      "source": [
        "from datetime import datetime\n",
        "my_dob = datetime(1997,4,22)\n",
        "my_dob.strftime(\"%A\")"
      ],
      "metadata": {
        "id": "5BHTmymN7WdD"
      },
      "execution_count": null,
      "outputs": []
    },
    {
      "cell_type": "markdown",
      "source": [
        "#9. When will you be (or when were you) 10,000 days old?"
      ],
      "metadata": {
        "id": "Qu8iFoGo7duv"
      }
    },
    {
      "cell_type": "code",
      "source": [
        "from datetime import datetime, timedelta\n",
        "my_dob = datetime.strptime(\"22/04/1997\",'%d/%m/%Y')\n",
        "future_date = my_dob-timedelta(10000)\n",
        "future_date"
      ],
      "metadata": {
        "id": "uQ2DBjSB7bEN"
      },
      "execution_count": null,
      "outputs": []
    },
    {
      "cell_type": "code",
      "source": [],
      "metadata": {
        "id": "f4FDssZH7fzJ"
      },
      "execution_count": null,
      "outputs": []
    }
  ]
}