{
  "nbformat": 4,
  "nbformat_minor": 0,
  "metadata": {
    "colab": {
      "provenance": []
    },
    "kernelspec": {
      "name": "python3",
      "display_name": "Python 3"
    },
    "language_info": {
      "name": "python"
    }
  },
  "cells": [
    {
      "cell_type": "code",
      "execution_count": null,
      "metadata": {
        "id": "-_NnU94NIdbK"
      },
      "outputs": [],
      "source": []
    },
    {
      "cell_type": "markdown",
      "source": [
        "#ASSIGNMENT"
      ],
      "metadata": {
        "id": "2iPW2f2ipKff"
      }
    },
    {
      "cell_type": "markdown",
      "source": [
        "#1. What advantages do Excel spreadsheets have over CSV spreadsheets?"
      ],
      "metadata": {
        "id": "tVJby14SpMik"
      }
    },
    {
      "cell_type": "markdown",
      "source": [
        "Excel (XLS and XLSX) file formats are better for storing and analysing complex data.\n",
        "An Excel not only stores data but can also do operations on the data using macros, formulas etc\n",
        "CSV files are plain-text files, Does not contain formatting, formulas, macros, etc. It is also known as flat files"
      ],
      "metadata": {
        "id": "uC35IauypQf3"
      }
    },
    {
      "cell_type": "markdown",
      "source": [
        "#2.What do you pass to csv.reader() and csv.writer() to create reader and writer objects?"
      ],
      "metadata": {
        "id": "Gl8zAShgpUIt"
      }
    },
    {
      "cell_type": "code",
      "source": [
        "import csv\n",
        "with open('text.csv','r') as file:\n",
        "    csv_file = csv.reader(file,delimiter=',')\n",
        "    for ele in csv_file:\n",
        "        print(ele)"
      ],
      "metadata": {
        "id": "qr7kNjowpLgn"
      },
      "execution_count": null,
      "outputs": []
    },
    {
      "cell_type": "markdown",
      "source": [
        "#3. What modes do File objects for reader and writer objects need to be opened in?\n"
      ],
      "metadata": {
        "id": "5fjFglGfpb00"
      }
    },
    {
      "cell_type": "markdown",
      "source": [
        "For csv.reader(iterable_file_object), the file objects needed to be opened in read mode mode='r' Whereas for csv.writer(iterable_file_object) the file objects needed to be opened in write mode mode='w'"
      ],
      "metadata": {
        "id": "UhTQ3UpGpeJ1"
      }
    },
    {
      "cell_type": "markdown",
      "source": [
        "#4. What method takes a list argument and writes it to a CSV file?"
      ],
      "metadata": {
        "id": "ypyuhM5cpgww"
      }
    },
    {
      "cell_type": "markdown",
      "source": [
        "csv.writer class provides two methods for writing to CSV. They are writerow() and writerows(). writerow() method writes a single row at a time. Whereas writerows() method is used to write multiple rows at a time."
      ],
      "metadata": {
        "id": "ErG0YSJcpjM-"
      }
    },
    {
      "cell_type": "markdown",
      "source": [
        "#5. What do the keyword arguments delimiter and line terminator do?"
      ],
      "metadata": {
        "id": "GsHMCOw8pn8g"
      }
    },
    {
      "cell_type": "markdown",
      "source": [
        "a, v, 21\n",
        "\n",
        "Here ',' is Delimiter. We can use any Character as per our needs if required. Similarly Line Terminator comes at end of line by default it is newline and can be changed accourding to Requirement"
      ],
      "metadata": {
        "id": "xtwgQnS6pr_l"
      }
    },
    {
      "cell_type": "markdown",
      "source": [
        "#6. What function takes a string of JSON data and returns a Python data structure?"
      ],
      "metadata": {
        "id": "lDcbvgZGpzYk"
      }
    },
    {
      "cell_type": "markdown",
      "source": [
        " loads() method takes a string of JSON data and returns a Python data structure"
      ],
      "metadata": {
        "id": "OJ0whTgCp1wa"
      }
    },
    {
      "cell_type": "markdown",
      "source": [
        "#7. What function takes a Python data structure and returns a string of JSON data?"
      ],
      "metadata": {
        "id": "uMhBIfomp5eq"
      }
    },
    {
      "cell_type": "code",
      "source": [
        "dumps() method takes a python data structure and returns a string of JSON data"
      ],
      "metadata": {
        "id": "Zkzf0dqTpcO2"
      },
      "execution_count": null,
      "outputs": []
    },
    {
      "cell_type": "code",
      "source": [],
      "metadata": {
        "id": "-KRjdx-qp8G2"
      },
      "execution_count": null,
      "outputs": []
    }
  ]
}