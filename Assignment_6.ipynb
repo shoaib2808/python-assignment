{
  "nbformat": 4,
  "nbformat_minor": 0,
  "metadata": {
    "colab": {
      "provenance": []
    },
    "kernelspec": {
      "name": "python3",
      "display_name": "Python 3"
    },
    "language_info": {
      "name": "python"
    }
  },
  "cells": [
    {
      "cell_type": "code",
      "execution_count": null,
      "metadata": {
        "id": "ITzUah5aR_sL"
      },
      "outputs": [],
      "source": []
    },
    {
      "cell_type": "code",
      "source": [
        "\n",
        "Assignment 6 Solutions\n",
        "1.What are Escape characters ? and how do you use them ?\n",
        "Ans: Escape characters represent characters in string values that would otherwise be difficult or impossible to type into code. we can use the backslash character to escape a single character or symbol\n",
        "example: \\t, \\n\n",
        "\n",
        "2.What do the escape characters n and t stand for ?\n",
        "Ans: \\n is a newline, \\t is a tab\n",
        "\n",
        "3.What is the way to include backslash character in a string?\n",
        "Ans: The \\\\ escape character will represent the backslash character in a string\n",
        "\n",
        "4.The string \"Howl's Moving Castle\" is a correct value. Why isn't the single quote character in the word Howl's not escaped a problem ?\n",
        "Ans: The string \"Howl's Moving Castle\" escaped the problem because it is wrapped inside double quotes. if its wrapped inside single quotes then we have to use escape character \\' to show single quote in the final output\n",
        "'Howl\\'s Moving Castle' -> 'Howl's Moving Castle'\n",
        "\n",
        "5.How do you write a string of newlines if you don't want to use the n character?\n",
        "Ans: Multiline string allow you to use newlines in string without the \\n escape character\n",
        "\n",
        "# Example:\n",
        "a = '''iNeuron full stack\n",
        "Data Science Course'''\n",
        "print(a)\n",
        "iNeuron full stack\n",
        "Data Science Course\n",
        "6.What are the values of the given expressions ?\n",
        "'Hello, world!'[1]\n",
        "'Hello, world!'[0:5]\n",
        "'Hello, world!'[:5]\n",
        "'Hello, world!'[3:]\n",
        "\n",
        "Ans: The values for the given expressions are:\n",
        "'Hello, world!'[1] -> 'e'\n",
        "'Hello, world!'[0:5] -> 'Hello'\n",
        "'Hello, world!'[:5] -> 'Hello'\n",
        "'Hello, world!'[3:] -> 'lo, world!'\n",
        "\n",
        "7.What are the values of the following expressions ?\n",
        "'Hello'.upper()\n",
        "'Hello'.upper().isupper()\n",
        "'Hello'.upper().lower()\n",
        "\n",
        "Ans: The values for the given expressions are:\n",
        "'Hello'.upper() -> 'HELLO'\n",
        "'Hello'.upper().isupper() -> True\n",
        "'Hello'.upper().lower() -> 'hello'\n",
        "\n",
        "8.What are the values of the following expressions ?\n",
        "'Remember, remember, the fifith of July.'.split()\n",
        "-'.join('There can only one'.split())\n",
        "\n",
        "Ans: The values for the given expressions are:\n",
        "'Remember, remember, the fifith of July.'.split() -> ['Remember,', 'remember,', 'the', 'fifith', 'of', 'July.']\n",
        "'-'.join('There can only one'.split()) -> 'There-can-only-one'\n",
        "\n",
        "9.What are the methods for right-justifying, left-justifying and centering a string ?\n",
        "Ans: The rjust(),ljust(),center() string methods, respectively\n",
        "\n",
        "10.What is the best way to remove whitespace characters from the start or end ?\n",
        "Ans: The lstrip() and rstrip() methods remove whitesapce characters from the left and right ends of a string respectively"
      ],
      "metadata": {
        "id": "9DpkrN4bSG6N"
      },
      "execution_count": null,
      "outputs": []
    },
    {
      "cell_type": "markdown",
      "source": [
        "#ASSIGNMENT"
      ],
      "metadata": {
        "id": "R2_Z2OVAXOP9"
      }
    },
    {
      "cell_type": "markdown",
      "source": [
        "#1.What are Escape characters ? and how do you use them ?"
      ],
      "metadata": {
        "id": "vNCYNKQXXTwM"
      }
    },
    {
      "cell_type": "markdown",
      "source": [
        "Escape characters represent characters in string values that would otherwise be difficult  to type into code. we can use the backslash character to escape a single character or symbol\n",
        "example: \\t, \\n"
      ],
      "metadata": {
        "id": "hJUpO2KdXWgi"
      }
    },
    {
      "cell_type": "markdown",
      "source": [
        "#2.What do the escape characters n and t stand for ?"
      ],
      "metadata": {
        "id": "Inw1EszfXdtF"
      }
    },
    {
      "cell_type": "markdown",
      "source": [
        "\\n is a new line , \\t is a tab"
      ],
      "metadata": {
        "id": "i7ziqB0DXhDG"
      }
    },
    {
      "cell_type": "markdown",
      "source": [
        "#3.What is the way to include backslash character in a string?"
      ],
      "metadata": {
        "id": "ixlqrwOFXlvj"
      }
    },
    {
      "cell_type": "code",
      "source": [
        "#The \\\\ escape character will represent the backslash character in a string"
      ],
      "metadata": {
        "id": "G6g9-n4jXP-j"
      },
      "execution_count": 1,
      "outputs": []
    },
    {
      "cell_type": "markdown",
      "source": [
        "#4.The string \"Howl's Moving Castle\" is a correct value. Why isn't the single quote character in the word Howl's not escaped a problem ?"
      ],
      "metadata": {
        "id": "Kt_lbpF2XzRu"
      }
    },
    {
      "cell_type": "markdown",
      "source": [
        "The string \"Howl's Moving Castle\" is not having  the problem because it is wrapped inside double quotes. if its wrapped inside single quotes then we have to use escape character \\' to show single quote in the final output\n",
        "'Howl\\'s Moving Castle' -> 'Howl's Moving Castle'"
      ],
      "metadata": {
        "id": "ud-io87dX5wr"
      }
    },
    {
      "cell_type": "markdown",
      "source": [
        "#5.How do you write a string of newlines if you don't want to use the n character?"
      ],
      "metadata": {
        "id": "nO_q3qwoYFyU"
      }
    },
    {
      "cell_type": "markdown",
      "source": [
        " Multiline string allow you to use newlines in string without the \\n escape character"
      ],
      "metadata": {
        "id": "XY87mgoYYObI"
      }
    },
    {
      "cell_type": "markdown",
      "source": [
        "#6. What are the values of the given expressions?\n",
        "&#39;Hello, world!&#39;[1]\n",
        "&#39;Hello, world!&#39;[0:5]\n",
        "&#39;Hello, world!&#39;[:5]\n",
        "&#39;Hello, world!&#39;[3:]"
      ],
      "metadata": {
        "id": "uSJP0zDoYQ5l"
      }
    },
    {
      "cell_type": "code",
      "source": [
        "'e'\n",
        "'Hello'\n",
        "'Hello'\n",
        "'lo, world!'"
      ],
      "metadata": {
        "id": "G_wldZGsXrmL"
      },
      "execution_count": null,
      "outputs": []
    },
    {
      "cell_type": "markdown",
      "source": [
        "#7.What are the values of the following expressions ?\n",
        "'Hello'.upper()\n",
        "'Hello'.upper().isupper()\n",
        "'Hello'.upper().lower()"
      ],
      "metadata": {
        "id": "SDTZMj62YfCD"
      }
    },
    {
      "cell_type": "code",
      "source": [
        "'HELLO'\n",
        "True\n",
        "'hello'"
      ],
      "metadata": {
        "id": "pZ73Tz7yYblu"
      },
      "execution_count": null,
      "outputs": []
    },
    {
      "cell_type": "markdown",
      "source": [
        "#8.What are the values of the following expressions ?\n",
        "'Remember, remember, the fifith of July.'.split()\n",
        "-'.join('There can only one'.split())"
      ],
      "metadata": {
        "id": "cnm5KyCfYs3I"
      }
    },
    {
      "cell_type": "code",
      "source": [
        "['Remember,', 'remember,', 'the', 'fifith', 'of', 'July.']"
      ],
      "metadata": {
        "id": "lnoisy67Yo-b"
      },
      "execution_count": null,
      "outputs": []
    },
    {
      "cell_type": "markdown",
      "source": [
        "#10.What is the best way to remove whitespace characters from the start or end ?"
      ],
      "metadata": {
        "id": "y9bCuUKyY-DJ"
      }
    },
    {
      "cell_type": "markdown",
      "source": [
        "The lstrip() and rstrip() methods remove whitesapce characters from the left and right ends of a string\n"
      ],
      "metadata": {
        "id": "EcqE8UpgZBBz"
      }
    },
    {
      "cell_type": "code",
      "source": [],
      "metadata": {
        "id": "dwSiRBW0Y7GT"
      },
      "execution_count": null,
      "outputs": []
    }
  ]
}