{
  "nbformat": 4,
  "nbformat_minor": 0,
  "metadata": {
    "colab": {
      "provenance": []
    },
    "kernelspec": {
      "name": "python3",
      "display_name": "Python 3"
    },
    "language_info": {
      "name": "python"
    }
  },
  "cells": [
    {
      "cell_type": "markdown",
      "source": [
        "#ASSINGMENT"
      ],
      "metadata": {
        "id": "9fxkseVTQLq_"
      }
    },
    {
      "cell_type": "markdown",
      "source": [
        "#1. What is the result of the code, and why?\n",
        "\n",
        "&gt;&gt;&gt; def func(a, b=6, c=8):\n",
        "\n",
        "print(a, b, c)\n",
        "\n",
        "&gt;&gt;&gt; func(1, 2)"
      ],
      "metadata": {
        "id": "-uLTdTWuQOvF"
      }
    },
    {
      "cell_type": "markdown",
      "source": [
        "The result of the above code is 1 2 8. its because the function uses the default value of c ie 8 which is provided at the time of declaration"
      ],
      "metadata": {
        "id": "NyF0QVDtQftb"
      }
    },
    {
      "cell_type": "markdown",
      "source": [
        "#2. What is the result of this code, and why?\n",
        "\n",
        "&gt;&gt;&gt; def func(a, b, c=5):\n",
        "\n",
        "print(a, b, c)\n",
        "\n",
        "&gt;&gt;&gt; func(1, c=3, b=2)"
      ],
      "metadata": {
        "id": "oD86c2IkQjTO"
      }
    },
    {
      "cell_type": "markdown",
      "source": [
        "The result of the above code is 1 2 3. it is because the function will use default values only when a value for a argument is not provided and if argument name is mentioned while doing a function call, the order of arguments is also ignored by the python interpreter"
      ],
      "metadata": {
        "id": "qRUXbX_2QodX"
      }
    },
    {
      "cell_type": "markdown",
      "source": [
        "#3. How about this code: what is its result, and why?\n",
        "\n",
        "&gt;&gt;&gt; def func(a, *pargs):\n",
        "\n",
        "print(a, pargs)\n",
        "\n",
        "&gt;&gt;&gt; func(1, 2, 3)"
      ],
      "metadata": {
        "id": "-Lo_RKijQrfG"
      }
    },
    {
      "cell_type": "markdown",
      "source": [
        "The result of the code is 1 (2,3). *pargs stands for variable length arguments. this format is used when we are not sure about the no of arguments to be passed to a function. all the values under this argument will be stored in a tuple."
      ],
      "metadata": {
        "id": "UleHdG6JQxba"
      }
    },
    {
      "cell_type": "markdown",
      "source": [
        "#4. What does this code print, and why?\n",
        "\n",
        "&gt;&gt;&gt; def func(a, **kargs):\n",
        "\n",
        "print(a, kargs)\n",
        "\n",
        "&gt;&gt;&gt; func(a=1, c=3, b=2)"
      ],
      "metadata": {
        "id": "GXqr2breQz3e"
      }
    },
    {
      "cell_type": "markdown",
      "source": [
        "The result of the above code is 1 {'c': 3, 'b': 2}. **args stands for variable length keyword arguments. this format is used when we want pass key value pairs as input to a function. All these key value pairs will be stored in a dictionary"
      ],
      "metadata": {
        "id": "QOlEoloKQ4TO"
      }
    },
    {
      "cell_type": "markdown",
      "source": [
        "#5. What gets printed by this, and explain?\n",
        "\n",
        "&gt;&gt;&gt; def func(a, b, c=8, d=5): print(a, b, c, d)\n",
        "\n",
        "&gt;&gt;&gt; func(1, *(5, 6))"
      ],
      "metadata": {
        "id": "YLZK6M3lQ9vA"
      }
    },
    {
      "cell_type": "markdown",
      "source": [
        "The output of the above is 1 5 6 5. This reason for this function not throwing an error is because, this function expects 4 arguments. the value for a is provided explicitly whereas for arguments b and c, the function will expand the *(5,6) and consider the value of b as 5 and value of c as 6. since the default value of d is provided in function declaration d value will be 5. However it is recommended to use the feature of positional arguments at the end."
      ],
      "metadata": {
        "id": "PalydZ5RRCZH"
      }
    },
    {
      "cell_type": "markdown",
      "source": [
        "#6. what is the result of this, and explain?\n",
        "\n",
        "&gt;&gt;&gt; def func(a, b, c): a = 2; b[0] = &#39;x&#39;; c[&#39;a&#39;] = #39;y&#39;\n",
        "\n",
        "&gt;&gt;&gt; l=1; m=[1]; n={&#39;a&#39;:0}\n",
        "\n",
        "&gt;&gt;&gt; func(l, m, n)"
      ],
      "metadata": {
        "id": "5HP5_hVNRFQP"
      }
    },
    {
      "cell_type": "markdown",
      "source": [
        "The output of above code is 1, ['x'], {'a': 'y'}.\n",
        "\n",
        "Eventhough Python gives importance to indentation. its provides a facility to declare an entire function in one single line. where statements in a function body are sepereated by ;\n",
        "When l,m,n are provided as inputs to the function. its modifies the values of l,m,n and sets the value of l=2 ,m=['x'] and n={'a':'y'}"
      ],
      "metadata": {
        "id": "pKlrUe1zRQvV"
      }
    },
    {
      "cell_type": "code",
      "source": [],
      "metadata": {
        "id": "QrtCsnTLQ3-x"
      },
      "execution_count": null,
      "outputs": []
    },
    {
      "cell_type": "code",
      "source": [],
      "metadata": {
        "id": "eA4gDST6QNWJ"
      },
      "execution_count": null,
      "outputs": []
    }
  ]
}