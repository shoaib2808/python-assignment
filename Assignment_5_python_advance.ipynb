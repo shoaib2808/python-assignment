{
  "nbformat": 4,
  "nbformat_minor": 0,
  "metadata": {
    "colab": {
      "provenance": []
    },
    "kernelspec": {
      "name": "python3",
      "display_name": "Python 3"
    },
    "language_info": {
      "name": "python"
    }
  },
  "cells": [
    {
      "cell_type": "markdown",
      "source": [
        "#ASSIGNMENT"
      ],
      "metadata": {
        "id": "ZlwzwP2GcmLa"
      }
    },
    {
      "cell_type": "markdown",
      "source": [
        "#Q1. What is the meaning of multiple inheritance?"
      ],
      "metadata": {
        "id": "rTF-fcVrcpus"
      }
    },
    {
      "cell_type": "markdown",
      "source": [
        "Multiple iheritance is a type fo inheritance in which a multiple class acts as a parent class for a derived class."
      ],
      "metadata": {
        "id": "CoiLMQkncsSl"
      }
    },
    {
      "cell_type": "code",
      "source": [
        "class parent1:\n",
        "  def test1(self):\n",
        "    print(\"parent1\")\n",
        "\n",
        "class parent2:\n",
        "  def test2(self):\n",
        "    print(\"parent2\")\n",
        "\n",
        "class child(parent1,parent2):\n",
        "  pass\n",
        "\n",
        "obj = child()\n",
        "obj.test1()\n",
        "obj.test2()"
      ],
      "metadata": {
        "id": "gMc-2n9TdEDu"
      },
      "execution_count": null,
      "outputs": []
    },
    {
      "cell_type": "markdown",
      "source": [
        "#Q2. What is the concept of delegation?"
      ],
      "metadata": {
        "id": "KBew4V6eeE8z"
      }
    },
    {
      "cell_type": "markdown",
      "source": [
        "Delegation is a design pattern in which an object, called the delegate, is responsible for performing certain tasks on behalf of another object, called the delegator"
      ],
      "metadata": {
        "id": "CKHBA1T-eEfn"
      }
    },
    {
      "cell_type": "code",
      "source": [
        "class A:\n",
        "  def spam(self, x):\n",
        "    pass\n",
        "  def foo(self):\n",
        "    pass\n",
        "class B:\n",
        "  def __init__(self):\n",
        "    self._a = A()\n",
        "  def spam(self, x):\n",
        "    # Delegate to the internal self._a instance\n",
        "    return self._a.spam(x)\n",
        "  def foo(self):\n",
        "    # Delegate to the internal self._a instance\n",
        "    return self._a.foo()\n",
        "  def bar(self):\n",
        "    pass\n"
      ],
      "metadata": {
        "id": "L_On9wTIcn0c"
      },
      "execution_count": 2,
      "outputs": []
    },
    {
      "cell_type": "markdown",
      "source": [
        "#Q3. What is the concept of composition?"
      ],
      "metadata": {
        "id": "_r2bfh9DjNo9"
      }
    },
    {
      "cell_type": "code",
      "source": [
        "class Component:\n",
        " \n",
        "    def __init__(self):\n",
        "        print('Component class object created...')\n",
        "  \n",
        "\n",
        "    def m1(self):\n",
        "        print('Component class m1() method executed...')\n",
        "  \n",
        "  \n",
        "class Composite:\n",
        "\n",
        "    def __init__(self):\n",
        "        self.obj1 = Component()\n",
        "          \n",
        "        print('Composite class object also created...')\n",
        "  \n",
        "    def m2(self):     \n",
        "        print('Composite class m2() method executed...')\n",
        "        self.obj1.m1()\n",
        "  \n",
        "  \n",
        "\n",
        "obj2 = Composite()\n",
        "obj2.m2()"
      ],
      "metadata": {
        "id": "rp6bwv97lE__"
      },
      "execution_count": null,
      "outputs": []
    },
    {
      "cell_type": "markdown",
      "source": [
        "#Q4. What are bound methods and how do we use them?"
      ],
      "metadata": {
        "id": "3lo-iB9PfCzP"
      }
    },
    {
      "cell_type": "markdown",
      "source": [
        "The Bound methods are the methods defined in a class. The bound methods are bound to the class in which they are defined. They take an instance of their class along with the other arguments as its parameters. Bound methods differ from the other unbound methods in their first parameter"
      ],
      "metadata": {
        "id": "JYdxo4cTfCnI"
      }
    },
    {
      "cell_type": "code",
      "source": [
        "class test:\n",
        "    def boundMethod(self,param1):\n",
        "        print(param1)\n",
        "instance = test()\n",
        "instance.boundMethod(10)"
      ],
      "metadata": {
        "id": "UnhjLW_YeS-q"
      },
      "execution_count": null,
      "outputs": []
    },
    {
      "cell_type": "markdown",
      "source": [
        "#Q5. What is the purpose of pseudoprivate attributes?"
      ],
      "metadata": {
        "id": "324TDzfVfcM0"
      }
    },
    {
      "cell_type": "markdown",
      "source": [
        "private means the attributes are only available for the members of the class not for the outside of the class."
      ],
      "metadata": {
        "id": "hA39deNfhU8j"
      }
    },
    {
      "cell_type": "code",
      "source": [
        "class A:\n",
        "  def __init__(self,a,b,c):\n",
        "    self.a=a\n",
        "    self._b=b\n",
        "    self.__c=c\n",
        "\n",
        "  def print_A(self):\n",
        "    print(self.a)\n",
        "    print(self.b)\n",
        "    print(self.c)\n",
        "\n",
        "obj = A(1,2,3)\n",
        "print(obj.a)\n",
        "# print(obj.__c) # this is private variable cannot access it directly\n",
        "\n",
        "print(obj._A__c)"
      ],
      "metadata": {
        "id": "rN7l2GgefZBb"
      },
      "execution_count": null,
      "outputs": []
    },
    {
      "cell_type": "code",
      "source": [
        " "
      ],
      "metadata": {
        "id": "fqnVoa7niG52"
      },
      "execution_count": null,
      "outputs": []
    }
  ]
}