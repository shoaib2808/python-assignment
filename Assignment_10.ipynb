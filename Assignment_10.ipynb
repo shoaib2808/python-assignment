{
  "nbformat": 4,
  "nbformat_minor": 0,
  "metadata": {
    "colab": {
      "provenance": []
    },
    "kernelspec": {
      "name": "python3",
      "display_name": "Python 3"
    },
    "language_info": {
      "name": "python"
    }
  },
  "cells": [
    {
      "cell_type": "markdown",
      "source": [
        "#ASSIGNMENT"
      ],
      "metadata": {
        "id": "5fSV6_fbjOtr"
      }
    },
    {
      "cell_type": "markdown",
      "source": [
        "#1. How do you distinguish between shutil.copy() and shutil.copytree()?"
      ],
      "metadata": {
        "id": "o9vaKU_kjTNB"
      }
    },
    {
      "cell_type": "markdown",
      "source": [
        "shutil.copy() method is used to copy the contents of a file from one file to another file/folder, it primary takes two arguments src,dest, src represents the file to be copied where as destination refers to the file/folder to where the src data should be copied, if dest is a folder name the src with exact name will be copied to the dest folder, if its a file then the contents of src will be copied to dest where dest retains it name.\n",
        "\n",
        "shutil.copytree() function is used to copy the entire contents of a folder to other folder. it also takes two arguments src & dest, it copies all the content recursively and stores it in dest. the important catch here is dest must not exist prior to this and it will be created during the copy operation. Permissions and times of directories are copied with shutil.copystat() and individual files are copied using shutil.copy2() by default which can be modified using copy_function attribute."
      ],
      "metadata": {
        "id": "EFFgmjaujZK1"
      }
    },
    {
      "cell_type": "markdown",
      "source": [
        "#2. What function is used to rename files??\n"
      ],
      "metadata": {
        "id": "Ui6-FBCWjcIA"
      }
    },
    {
      "cell_type": "markdown",
      "source": [
        "os.rename() function is used to rename files or directories using a python program, this function takes two arguments src and dest, src represents the name file/directory which we want to rename, whereas dest represents the new name of the file/directory."
      ],
      "metadata": {
        "id": "dixvwMikjiEw"
      }
    },
    {
      "cell_type": "markdown",
      "source": [
        "#3. What is the difference between the delete functions in the send2trash and shutil modules?"
      ],
      "metadata": {
        "id": "McTzM726jnmZ"
      }
    },
    {
      "cell_type": "markdown",
      "source": [
        "hutil module provides a funciton called as shutil.rmtree() which deletes a directory and all its contents. The other functions with similar functionality are os.remove() -> removes a file, os.rmdir() removes a empty directory. The problem with these functions is once a file is deleted. it will be lost permanently, if a file is deleted accidentally using these methods there is no way we can recover the deleted file\n",
        "\n",
        "Where as send2trash module provides a function called send2trash.send2trash() to delete a file/directory. these methods moves the files/directories to trash folder instead of permanently deleting them. hence if a file/folder is deleted accidentally it can be still recovered from trash folder, if is deleted using the send2trash.send2trash() function."
      ],
      "metadata": {
        "id": "M5x1SolIjvUu"
      }
    },
    {
      "cell_type": "markdown",
      "source": [
        "#4.ZipFile objects have a close() method just like File objects’ close() method. What ZipFile method is equivalent to File objects’ open() method?"
      ],
      "metadata": {
        "id": "AM9BRnUSj01J"
      }
    },
    {
      "cell_type": "markdown",
      "source": [
        "ZipFile Module provides a method called as zipfile.ZipFile() to read and write to zipFiles. it takes arugments lile filename and mode etc zipfile.ZipFile('filename', mode = 'r')"
      ],
      "metadata": {
        "id": "kCzlpNshj4SF"
      }
    },
    {
      "cell_type": "code",
      "source": [],
      "metadata": {
        "id": "pko7YjKRjP-2"
      },
      "execution_count": null,
      "outputs": []
    }
  ]
}