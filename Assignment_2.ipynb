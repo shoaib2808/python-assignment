{
  "nbformat": 4,
  "nbformat_minor": 0,
  "metadata": {
    "colab": {
      "provenance": []
    },
    "kernelspec": {
      "name": "python3",
      "display_name": "Python 3"
    },
    "language_info": {
      "name": "python"
    }
  },
  "cells": [
    {
      "cell_type": "markdown",
      "source": [
        "ASSIGNMENT"
      ],
      "metadata": {
        "id": "7TPKI_KLtbUQ"
      }
    },
    {
      "cell_type": "markdown",
      "source": [
        "#1.What are the two values of the Boolean data type? How do you write them?"
      ],
      "metadata": {
        "id": "7Eth_VAbtdgx"
      }
    },
    {
      "cell_type": "markdown",
      "source": [
        "The two values of Boolean datatype are True and False, true can be refered as 1 asnd false\n",
        "vat=True\n",
        "var=False\n"
      ],
      "metadata": {
        "id": "LfZPyk_ut_B3"
      }
    },
    {
      "cell_type": "markdown",
      "source": [
        "#2. What are the three different types of Boolean operators?"
      ],
      "metadata": {
        "id": "RuItiVrSuJPr"
      }
    },
    {
      "cell_type": "markdown",
      "source": [
        "Three type of boolean opearator are and, or ,not"
      ],
      "metadata": {
        "id": "m-iwkVsxuJkN"
      }
    },
    {
      "cell_type": "markdown",
      "source": [
        "#3. Make a list of each Boolean operator&#39;s truth tables (i.e. every possible combination of Boolean\n",
        "values for the operator and what it evaluate )."
      ],
      "metadata": {
        "id": "9dMNkNw0uJni"
      }
    },
    {
      "cell_type": "markdown",
      "source": [
        "X   Y  AND OR NOT(X) NOT(Y)\n",
        "\n",
        "0  0   0     0   1     1\n",
        "\n",
        "0  1   0     1   1     0\n",
        "\n",
        "1  0   0     1   0     1\n",
        "\n",
        "1  1   1     1   0     0\n"
      ],
      "metadata": {
        "id": "ylPUumhbuuNf"
      }
    },
    {
      "cell_type": "markdown",
      "source": [
        "#4. What are the values of the following expressions?\n",
        "(5 &gt; 4) and (3 == 5)\n",
        "not (5 &gt; 4)\n",
        "(5 &gt; 4) or (3 == 5)\n",
        "not ((5 &gt; 4) or (3 == 5))\n",
        "(True and True) and (True == False)\n",
        "(not False) or (not True)"
      ],
      "metadata": {
        "id": "05tcwv1Gv7Zj"
      }
    },
    {
      "cell_type": "markdown",
      "source": [
        "1.False\n",
        "\n",
        "2.False\n",
        "\n",
        "3.True\n",
        "\n",
        "4.False\n",
        "\n",
        "5.True"
      ],
      "metadata": {
        "id": "58GYtCTkv_e-"
      }
    },
    {
      "cell_type": "markdown",
      "source": [
        "#5. What are the six comparison operators?"
      ],
      "metadata": {
        "id": "d6i2FjvdwRPy"
      }
    },
    {
      "cell_type": "markdown",
      "source": [
        "6 comparison operator are\n",
        "\n",
        "1. less than(>)\n",
        "\n",
        "2. <\n",
        "\n",
        "3. ==\n",
        "\n",
        "4. less than equal to(>=)\n",
        "\n",
        "5. <=\n",
        "\n",
        "6. !="
      ],
      "metadata": {
        "id": "8DKcaRXAwgiW"
      }
    },
    {
      "cell_type": "markdown",
      "source": [
        "#6. How do you tell the difference between the equal to and assignment operators?Describe a\n",
        "condition and when you would use one."
      ],
      "metadata": {
        "id": "MR4CXWM7wiyz"
      }
    },
    {
      "cell_type": "markdown",
      "source": [
        "Equal to and Assignment operator both are comparison operator. Equal to is use to compare if two variable value is equal or not, if equal it return true and if not equal it return false.\n",
        "assignment operator is used to assign a value to a variable .\n",
        "\n",
        "equal to :   a==b\n",
        "\n",
        "\n",
        "assignment : a=6"
      ],
      "metadata": {
        "id": "mirkfaWSxMJi"
      }
    },
    {
      "cell_type": "markdown",
      "source": [
        "#7. Identify the three blocks in this code:\n",
        "spam = 0\n",
        "if spam == 10:\n",
        "print(&#39;eggs&#39;)\n",
        "if spam &gt; 5:\n",
        "print(&#39;bacon&#39;)\n",
        "else:\n",
        "print(&#39;ham&#39;)\n",
        "print(&#39;spam&#39;)\n",
        "print(&#39;spam&#39;)"
      ],
      "metadata": {
        "id": "Cj7vHea3yGNk"
      }
    },
    {
      "cell_type": "markdown",
      "source": [
        "**first block**\n",
        "\n",
        "\n",
        "if spam == 10:\n",
        "\n",
        "print(&#39;eggs&#39;)\n",
        "\n",
        "**second block**\n",
        "\n",
        "if spam &gt; 5:\n",
        "\n",
        "print(&#39;bacon&#39;)\n",
        "\n",
        "**Third block**\n",
        "\n",
        "else:\n",
        "\n",
        "print(&#39;ham&#39;)\n",
        "\n",
        "print(&#39;spam&#39;)\n",
        "\n",
        "print(&#39;spam&#39;)"
      ],
      "metadata": {
        "id": "EbBbi6m2ydyr"
      }
    },
    {
      "cell_type": "markdown",
      "source": [],
      "metadata": {
        "id": "Hr46cMB_y0gG"
      }
    },
    {
      "cell_type": "markdown",
      "source": [
        "#8. Write code that prints Hello if 1 is stored in spam, prints Howdy if 2 is stored in spam, and prints\n",
        "Greetings! if anything else is stored in spam."
      ],
      "metadata": {
        "id": "wNwzlzMAy0jd"
      }
    },
    {
      "cell_type": "code",
      "source": [
        "spam = 1\n",
        "if(spam==1):\n",
        "  print(\"Hello\")\n",
        "elif(spam==2):\n",
        "  print(\"Howdy\")\n",
        "else:\n",
        "  print(\"Greetings!\")"
      ],
      "metadata": {
        "id": "dHMtGcWEyFLC"
      },
      "execution_count": null,
      "outputs": []
    },
    {
      "cell_type": "markdown",
      "source": [
        "#9.If your programme is stuck in an endless loop, what keys you’ll press?\n",
        "\n",
        "\n",
        "\n"
      ],
      "metadata": {
        "id": "EEE1_BhxzNqJ"
      }
    },
    {
      "cell_type": "code",
      "source": [
        "#ctrl+c"
      ],
      "metadata": {
        "id": "8aUH3A1mzKbR"
      },
      "execution_count": null,
      "outputs": []
    },
    {
      "cell_type": "markdown",
      "source": [],
      "metadata": {
        "id": "_vONGA_izZTm"
      }
    },
    {
      "cell_type": "markdown",
      "source": [
        "#10. How can you tell the difference between break and continue?"
      ],
      "metadata": {
        "id": "arxQZoUizZW8"
      }
    },
    {
      "cell_type": "markdown",
      "source": [
        "break: it is a keyword in python used to break the loop when a certain contidion is met\n",
        "\n",
        "continue: it is keyword in python , if continue gets executed all the code below it will get skipped and loop will go to next iteration"
      ],
      "metadata": {
        "id": "yPZc6PWXzcq4"
      }
    },
    {
      "cell_type": "code",
      "source": [
        "for i in range(1,10):\n",
        "  if(i==2):\n",
        "    continue\n",
        "  if(i==5):\n",
        "    break\n",
        "  print(i)"
      ],
      "metadata": {
        "id": "VWe7txgPzbtG"
      },
      "execution_count": null,
      "outputs": []
    },
    {
      "cell_type": "markdown",
      "source": [
        "#11. In a for loop, what is the difference between range(10), range(0, 10), and range(0, 10, 1)?"
      ],
      "metadata": {
        "id": "VKaaI2hb0Szz"
      }
    },
    {
      "cell_type": "markdown",
      "source": [
        "In a for loop all the three will produce same result since in range function if 1st parameter is not given it is by default 0 so range(10) and range(0,10) will be same.\n",
        "the third parameter is the step size but since it is 1 here soevery number will be printed."
      ],
      "metadata": {
        "id": "Cx009oNN0U1J"
      }
    },
    {
      "cell_type": "code",
      "source": [
        "for i in range(0,10,1):\n",
        "  print(i)"
      ],
      "metadata": {
        "id": "0xugN5_Q0LJn"
      },
      "execution_count": null,
      "outputs": []
    },
    {
      "cell_type": "code",
      "source": [
        "for i in range(0,10):\n",
        "  print(i)"
      ],
      "metadata": {
        "id": "4a96t0H-0w_c"
      },
      "execution_count": null,
      "outputs": []
    },
    {
      "cell_type": "code",
      "source": [
        "for i in range(10):\n",
        "  print(i)"
      ],
      "metadata": {
        "id": "SlThiAGi02YP"
      },
      "execution_count": null,
      "outputs": []
    },
    {
      "cell_type": "markdown",
      "source": [
        "#12. Write a short program that prints the numbers 1 to 10 using a for loop. Then write an equivalent\n",
        "program that prints the numbers 1 to 10 using a while loop."
      ],
      "metadata": {
        "id": "E0V8agVr1Ah-"
      }
    },
    {
      "cell_type": "code",
      "source": [
        "#for loop\n",
        "for i in range(1,11):\n",
        "  print(i)\n",
        "\n",
        "i=0\n",
        "while(i<=10):\n",
        "  print(i)\n",
        "  i=i+1"
      ],
      "metadata": {
        "id": "6ugFm0aw05k9"
      },
      "execution_count": null,
      "outputs": []
    },
    {
      "cell_type": "markdown",
      "source": [
        "#13. If you had a function named bacon() inside a module named spam, how would you call it after\n",
        "importing spam?"
      ],
      "metadata": {
        "id": "hHh4y0a61UwW"
      }
    },
    {
      "cell_type": "markdown",
      "source": [
        "spam.bacon()"
      ],
      "metadata": {
        "id": "uiSPLMkU1VDc"
      }
    },
    {
      "cell_type": "code",
      "source": [],
      "metadata": {
        "id": "yIpJ48Td1e8n"
      },
      "execution_count": null,
      "outputs": []
    }
  ]
}