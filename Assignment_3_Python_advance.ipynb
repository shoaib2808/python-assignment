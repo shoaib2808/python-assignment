{
  "nbformat": 4,
  "nbformat_minor": 0,
  "metadata": {
    "colab": {
      "provenance": []
    },
    "kernelspec": {
      "name": "python3",
      "display_name": "Python 3"
    },
    "language_info": {
      "name": "python"
    }
  },
  "cells": [
    {
      "cell_type": "markdown",
      "source": [
        "#ASSIGNMENT"
      ],
      "metadata": {
        "id": "3rp2XHYP0dMe"
      }
    },
    {
      "cell_type": "markdown",
      "source": [
        "#1. What is the concept of an abstract superclass?"
      ],
      "metadata": {
        "id": "hUV_6lEm0ffA"
      }
    },
    {
      "cell_type": "markdown",
      "source": [
        "An abstract class/superclass can be considered as a blueprint for other classes. It allows you to create a set of methods that must be created within any child classes built from the abstract class. A class which contains one or more abstract methods is called an abstract class.\n",
        "\n",
        "Whereas an abstract method is a method that has a declaration but does not have an implementation"
      ],
      "metadata": {
        "id": "SNRvmsvl0o8l"
      }
    },
    {
      "cell_type": "markdown",
      "source": [
        "#2. What happens when a class statement's top level contains a basic assignment statement?"
      ],
      "metadata": {
        "id": "QUZBA9SZ0vgU"
      }
    },
    {
      "cell_type": "markdown",
      "source": [
        "When a Class statement's top level contains a basic assignment statement, its usually treated as a class attribute or class level variable.\n",
        "\n",
        "where as assignment statements inside methods are treated as instance attributes or local attributes.\n",
        "\n",
        "When an instance of a class is created a single copy of class attributes is maintained and shared to all instances of class. where as each instance object maintains its own copy of instance variables."
      ],
      "metadata": {
        "id": "Y0ojXwMH0x93"
      }
    },
    {
      "cell_type": "markdown",
      "source": [
        "#3. Why does a class need to manually call a superclass's init method?"
      ],
      "metadata": {
        "id": "9k8AyPQn02CM"
      }
    },
    {
      "cell_type": "markdown",
      "source": [
        "if a child class has __init__ method, then it will not inherit the __init__ method of the parent class. in other words the __init__ method of the child class overrides the __init__ method of the parent class. so we have to manually call a parent superclass's __init__ using super() method"
      ],
      "metadata": {
        "id": "cLSVojqX06HC"
      }
    },
    {
      "cell_type": "markdown",
      "source": [
        "#4. How can you augment, instead of completely replacing, an inherited method?"
      ],
      "metadata": {
        "id": "Z4gdZ44-0_nv"
      }
    },
    {
      "cell_type": "markdown",
      "source": [
        "super() method can be used to augment, instead of completely replacing, an inherited method."
      ],
      "metadata": {
        "id": "HEMtnURb1CAy"
      }
    },
    {
      "cell_type": "markdown",
      "source": [
        "#5. How is the local scope of a class different from that of a function?"
      ],
      "metadata": {
        "id": "1_t55Jwd1Fng"
      }
    },
    {
      "cell_type": "markdown",
      "source": [
        "A Variable which is defined inside a function is local to that function. it is accesible from the point at which it is defined until the end of the function, and exists for as long as the function is existing.\n",
        "\n",
        "Similary a variable inside of a class also has a local variable scope. Variables which are defined in the class body (but outside all methods) are called as class level variables or class attributes. they can be referenced by there bare names within the same scope, but they can also be accessed from outside this scope if we use the attribute access operator (.). on a class or an instance of the class."
      ],
      "metadata": {
        "id": "NHyIeq4M1H6v"
      }
    },
    {
      "cell_type": "code",
      "source": [],
      "metadata": {
        "id": "h2NytsaP0edD"
      },
      "execution_count": null,
      "outputs": []
    }
  ]
}