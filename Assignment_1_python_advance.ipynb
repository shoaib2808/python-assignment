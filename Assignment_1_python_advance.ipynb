{
  "nbformat": 4,
  "nbformat_minor": 0,
  "metadata": {
    "colab": {
      "provenance": []
    },
    "kernelspec": {
      "name": "python3",
      "display_name": "Python 3"
    },
    "language_info": {
      "name": "python"
    }
  },
  "cells": [
    {
      "cell_type": "markdown",
      "source": [
        "#ASSIGNMENT"
      ],
      "metadata": {
        "id": "80s0rWPa9R85"
      }
    },
    {
      "cell_type": "markdown",
      "source": [
        "#Q1. What is the purpose of Python&#39;s OOP?"
      ],
      "metadata": {
        "id": "-yoZrC1i9W99"
      }
    },
    {
      "cell_type": "markdown",
      "source": [
        "OOP stands for object oriented programming , which is a way is programming that helps to code in a more realistic way. Concepts like object and classes depict the real life scenario and allow modularity in the code .\n"
      ],
      "metadata": {
        "id": "x9weFXOT9Ypx"
      }
    },
    {
      "cell_type": "markdown",
      "source": [
        "#Q2. Where does an inheritance search look for an attribute?"
      ],
      "metadata": {
        "id": "99iAr2xj94Ws"
      }
    },
    {
      "cell_type": "markdown",
      "source": [
        "An inheritance search looks for the attribute first in the local class(from which object is created) if the element is not found it searches in the parent class."
      ],
      "metadata": {
        "id": "441eQKCh-B6A"
      }
    },
    {
      "cell_type": "markdown",
      "source": [
        "#Q3. How do you distinguish between a class object and an instance object?"
      ],
      "metadata": {
        "id": "dS0hKvmA-Ss9"
      }
    },
    {
      "cell_type": "markdown",
      "source": [
        "Class is the blue print of the that is used to create the object , class when cretaed has no memory ,whereas instance object has all attribute of the class and it is a physicall thing to which computer assign the memory . every object has it's memrory and all of them can have different value of the variables"
      ],
      "metadata": {
        "id": "FlHLQa1A--F1"
      }
    },
    {
      "cell_type": "markdown",
      "source": [
        "#Q4. What makes the first argument in a class’s method function special?"
      ],
      "metadata": {
        "id": "6hEMO6VS_vv4"
      }
    },
    {
      "cell_type": "markdown",
      "source": [
        "The first argument in a class method is self(convention not rule, can have other name) which acts as a pointer to the class. whenever we create object this self pointer will help to know that the function belongs to which instance.If there was no self argument, the same class couldn't hold the information for all these objects"
      ],
      "metadata": {
        "id": "4c2MvtW-_xle"
      }
    },
    {
      "cell_type": "markdown",
      "source": [
        "#Q5. What is the purpose of the __init__ method?"
      ],
      "metadata": {
        "id": "cPMSv79jJJml"
      }
    },
    {
      "cell_type": "markdown",
      "source": [
        "__init__ method acts as a constructor for the class , whenever a object is created of the class this method will automatically gets triggered , the basic purpose of the method is to initialse the required variables of the object"
      ],
      "metadata": {
        "id": "ZkA5noJuJQPo"
      }
    },
    {
      "cell_type": "markdown",
      "source": [
        "#Q6. What is the process for creating a class instance?"
      ],
      "metadata": {
        "id": "CUW59vFUJh01"
      }
    },
    {
      "cell_type": "markdown",
      "source": [
        "Class is the blue print of the object , so it does not have any memory of it's own . class can  be considered as a generic template whereas object is a real world entity with all methods and variables defined in the class."
      ],
      "metadata": {
        "id": "_Q2Vqe15JjsO"
      }
    },
    {
      "cell_type": "markdown",
      "source": [
        "#Q7. What is the process for creating a class?"
      ],
      "metadata": {
        "id": "TRRfwSKFJ7rd"
      }
    },
    {
      "cell_type": "markdown",
      "source": [
        "Class is created with the help of class keyword\n",
        "\n",
        "it can have any number of variable and method in this , the variable abd method should have self in this so that class can hold information for different object \n",
        "\n",
        "\n"
      ],
      "metadata": {
        "id": "ti0eYvASJ84m"
      }
    },
    {
      "cell_type": "code",
      "source": [
        "class demo:\n",
        "   def test(self):  \n",
        "        print(\"test\")\n",
        "\n",
        "obj=class()\n",
        "obj.test()"
      ],
      "metadata": {
        "id": "83uvG2e29T2P"
      },
      "execution_count": null,
      "outputs": []
    },
    {
      "cell_type": "markdown",
      "source": [
        "#Q8. How would you define the superclasses of a class?"
      ],
      "metadata": {
        "id": "TlXtMLrEKrhU"
      }
    },
    {
      "cell_type": "markdown",
      "source": [
        "A class from which another class is derived is called superclass\n"
      ],
      "metadata": {
        "id": "5MPvnEjgK2OB"
      }
    },
    {
      "cell_type": "code",
      "source": [
        "class A:\n",
        "  def A(self):\n",
        "    print(\"A\")\n",
        "class C:\n",
        "  a=0\n",
        "  def C(self):\n",
        "    print(\"C\")\n",
        "class B(A,C):\n",
        "  pass\n",
        "\n",
        "obj=B()\n",
        "obj.C()"
      ],
      "metadata": {
        "colab": {
          "base_uri": "https://localhost:8080/"
        },
        "id": "LxWiTlujKupL",
        "outputId": "d804046b-5f74-4a32-edf5-ecbd6d67cf47"
      },
      "execution_count": 12,
      "outputs": [
        {
          "output_type": "stream",
          "name": "stdout",
          "text": [
            "C\n"
          ]
        }
      ]
    },
    {
      "cell_type": "code",
      "source": [
        "#Here A and C are superclass and B is derived class"
      ],
      "metadata": {
        "id": "oNyAN98ELRzq"
      },
      "execution_count": 13,
      "outputs": []
    },
    {
      "cell_type": "code",
      "source": [],
      "metadata": {
        "id": "YSuUHPJUMOQ0"
      },
      "execution_count": null,
      "outputs": []
    }
  ]
}