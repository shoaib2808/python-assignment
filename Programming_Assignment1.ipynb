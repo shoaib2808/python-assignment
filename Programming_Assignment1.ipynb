{
  "nbformat": 4,
  "nbformat_minor": 0,
  "metadata": {
    "colab": {
      "provenance": []
    },
    "kernelspec": {
      "name": "python3",
      "display_name": "Python 3"
    },
    "language_info": {
      "name": "python"
    }
  },
  "cells": [
    {
      "cell_type": "markdown",
      "source": [
        "##ASSIGNMENT"
      ],
      "metadata": {
        "id": "dXM-oCqf7jba"
      }
    },
    {
      "cell_type": "markdown",
      "source": [
        "1. Write a Python program to print &quot;Hello Python&quot;?"
      ],
      "metadata": {
        "id": "SwryM5zn7n34"
      }
    },
    {
      "cell_type": "code",
      "execution_count": null,
      "metadata": {
        "id": "R2sk8B_W7hNw"
      },
      "outputs": [],
      "source": [
        "#solution\n",
        "print(\"Hello Python\")"
      ]
    },
    {
      "cell_type": "markdown",
      "source": [
        "2. Write a Python program to do arithmetical operations addition and division.?"
      ],
      "metadata": {
        "id": "layCgql_73ci"
      }
    },
    {
      "cell_type": "code",
      "source": [
        "a=int(input(\"Enter a number\"))\n",
        "b=int(input(\"Enter a number\"))\n",
        "add=a+b\n",
        "div=a/b\n",
        "print(f\"addition {add} , division {div}\")"
      ],
      "metadata": {
        "id": "7zbNRnh1736Q"
      },
      "execution_count": null,
      "outputs": []
    },
    {
      "cell_type": "markdown",
      "source": [
        "3. Write a Python program to find the area of a triangle?"
      ],
      "metadata": {
        "id": "G1MbutpF8Otl"
      }
    },
    {
      "cell_type": "code",
      "source": [
        "base=int(input(\"Enter base of triangle\"))\n",
        "height=int(input(\"Enter height of triangle\"))\n",
        "area=(1/2)*base*height\n",
        "print(f\"area of triangle is {area}\")"
      ],
      "metadata": {
        "id": "gLfBGd2a8RGB"
      },
      "execution_count": null,
      "outputs": []
    },
    {
      "cell_type": "markdown",
      "source": [
        "4. Write a Python program to swap two variables?"
      ],
      "metadata": {
        "id": "e6KpK9W18oMy"
      }
    },
    {
      "cell_type": "code",
      "source": [
        "a=5\n",
        "b=6\n",
        "print(f\"a:{a} ,b:{b}\")\n",
        "temp=a\n",
        "a=b\n",
        "b=temp\n",
        "print(f\"a:{a} ,b:{b}\")"
      ],
      "metadata": {
        "colab": {
          "base_uri": "https://localhost:8080/"
        },
        "id": "_tD4rD_L8qxz",
        "outputId": "92ce5000-7a41-4194-b2e6-c7e84d45b78c"
      },
      "execution_count": 1,
      "outputs": [
        {
          "output_type": "stream",
          "name": "stdout",
          "text": [
            "a:5 ,b:6\n",
            "a:6 ,b:5\n"
          ]
        }
      ]
    },
    {
      "cell_type": "markdown",
      "source": [
        "5. Write a Python program to generate a random number?"
      ],
      "metadata": {
        "id": "vpj9dLxF9EPI"
      }
    },
    {
      "cell_type": "code",
      "source": [
        "import random\n",
        "l=range(1,10)\n",
        "num=random.choice(l)\n",
        "num"
      ],
      "metadata": {
        "colab": {
          "base_uri": "https://localhost:8080/"
        },
        "id": "7kvamGnn89om",
        "outputId": "6e21c0f5-19e7-4f27-a350-30af5510de6b"
      },
      "execution_count": 9,
      "outputs": [
        {
          "output_type": "execute_result",
          "data": {
            "text/plain": [
              "7"
            ]
          },
          "metadata": {},
          "execution_count": 9
        }
      ]
    },
    {
      "cell_type": "code",
      "source": [],
      "metadata": {
        "id": "eKHb_E3r9jfS"
      },
      "execution_count": null,
      "outputs": []
    }
  ]
}