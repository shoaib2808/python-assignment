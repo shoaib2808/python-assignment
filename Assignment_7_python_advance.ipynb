{
  "nbformat": 4,
  "nbformat_minor": 0,
  "metadata": {
    "colab": {
      "provenance": []
    },
    "kernelspec": {
      "name": "python3",
      "display_name": "Python 3"
    },
    "language_info": {
      "name": "python"
    }
  },
  "cells": [
    {
      "cell_type": "markdown",
      "source": [
        "#ASSIGNMENT"
      ],
      "metadata": {
        "id": "Ga6oFxKkmPMG"
      }
    },
    {
      "cell_type": "markdown",
      "source": [
        "#Q1. What is the purpose of the try statement?"
      ],
      "metadata": {
        "id": "ntH6lHdUmR9i"
      }
    },
    {
      "cell_type": "markdown",
      "source": [
        "Try statement is used as a part of exception handling , the code under try block is the one which can cause error during run time. The try statement will raise an exception and throw it to except block this will not break te flow of the execution\n"
      ],
      "metadata": {
        "id": "VbRmDFw5mT2H"
      }
    },
    {
      "cell_type": "code",
      "source": [
        "try:\n",
        "  a=2/0 # This line will throw an error\n",
        "except Exception as e:\n",
        "  print(e)"
      ],
      "metadata": {
        "id": "jMoy09z4mQqv"
      },
      "execution_count": null,
      "outputs": []
    },
    {
      "cell_type": "markdown",
      "source": [
        "#Q2. What are the two most popular try statement variations?"
      ],
      "metadata": {
        "id": "3vjq6By5nxbH"
      }
    },
    {
      "cell_type": "code",
      "source": [
        "#variation 1\n",
        "try:\n",
        "  pass\n",
        "except Exception as e:\n",
        "  pass\n",
        "\n",
        "#variation2\n",
        "\n",
        "try:\n",
        "  pass\n",
        "except Exception as e:\n",
        "  pass\n",
        "finally:\n",
        "  pass"
      ],
      "metadata": {
        "id": "cVF1FLtanw32"
      },
      "execution_count": 3,
      "outputs": []
    },
    {
      "cell_type": "markdown",
      "source": [
        "#Q3. What is the purpose of the raise statement?"
      ],
      "metadata": {
        "id": "TludeuLzoRl_"
      }
    },
    {
      "cell_type": "markdown",
      "source": [
        "Raise statement is used to raise custom exception"
      ],
      "metadata": {
        "id": "N_C9tZZdoTdY"
      }
    },
    {
      "cell_type": "code",
      "source": [
        "try:\n",
        "  2/0\n",
        "  raise Exception(\"this is error\") \n",
        "  \n",
        "except Exception as e :\n",
        "  pass\n",
        "  "
      ],
      "metadata": {
        "id": "1nTjUQmMntRn"
      },
      "execution_count": 17,
      "outputs": []
    },
    {
      "cell_type": "markdown",
      "source": [
        "#Q4. What does the assert statement do, and what other statement is it like?"
      ],
      "metadata": {
        "id": "70MFa43grDvd"
      }
    },
    {
      "cell_type": "markdown",
      "source": [
        "Assertions are statements that assert or state a fact confidently in your program. For example, while writing a division function, you're confident the divisor shouldn't be zero, you assert divisor is not equal to zero.Assertions are simply boolean expressions that check if the conditions return true or not. If it is true, the program does nothing and moves to the next line of code. However, if it's false, the program stops and throws an error."
      ],
      "metadata": {
        "id": "_gXObJA5r4Ca"
      }
    },
    {
      "cell_type": "code",
      "source": [
        "i=1\n",
        "assert i!=1,'i is not equal to 1'"
      ],
      "metadata": {
        "id": "6dfivUgkrDEX"
      },
      "execution_count": null,
      "outputs": []
    },
    {
      "cell_type": "markdown",
      "source": [
        "#Q5. What is the purpose of the with/as argument, and what other statement is it like?"
      ],
      "metadata": {
        "id": "Tp9uPXSNsWk_"
      }
    },
    {
      "cell_type": "markdown",
      "source": [
        "with statement is used in exception handling to make the code cleaner and much more readable. It simplifies the management of common resources like file streams."
      ],
      "metadata": {
        "id": "HFk3UK5bsqqJ"
      }
    },
    {
      "cell_type": "code",
      "source": [
        "with open('file_path', 'w') as file:\n",
        "    file.write('hello world !')"
      ],
      "metadata": {
        "id": "9Fh6DuJ3omGl"
      },
      "execution_count": 18,
      "outputs": []
    },
    {
      "cell_type": "code",
      "source": [],
      "metadata": {
        "id": "_9ktUkAXqkUO"
      },
      "execution_count": null,
      "outputs": []
    }
  ]
}