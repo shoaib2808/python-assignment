{
  "nbformat": 4,
  "nbformat_minor": 0,
  "metadata": {
    "colab": {
      "provenance": []
    },
    "kernelspec": {
      "name": "python3",
      "display_name": "Python 3"
    },
    "language_info": {
      "name": "python"
    }
  },
  "cells": [
    {
      "cell_type": "markdown",
      "source": [
        "#ASSIGNMENT"
      ],
      "metadata": {
        "id": "_Xhre2T-seX2"
      }
    },
    {
      "cell_type": "markdown",
      "source": [
        "#Q1. What is the benefit of regular expressions?"
      ],
      "metadata": {
        "id": "9vCVzem2uqpH"
      }
    },
    {
      "cell_type": "markdown",
      "source": [
        " Regular Expressions, also known as regex or regexp, are used to match strings of text such as particular characters, words, or patterns of characters. It means that we can match and extract any string pattern from the text with the help of regular expressions. it helps the programmers to Write less and cleaner code. it also avoids multiple use of if/else statements."
      ],
      "metadata": {
        "id": "PZf0XcCxuths"
      }
    },
    {
      "cell_type": "markdown",
      "source": [
        "#Q2. Describe the difference between the effects of \"(ab)c+\" and \"a(bc)+\" Which of these, if any, is the unqualified pattern \"abc+\"?"
      ],
      "metadata": {
        "id": "-EInUuMGuwq0"
      }
    },
    {
      "cell_type": "markdown",
      "source": [
        "Both (ab)c+ and a(bc)+ are valid patterns. the difference between both these patterns is in (ab)c+ ab is group whereas in a(bc)+ bc is a group."
      ],
      "metadata": {
        "id": "gTdnYO6Puz0J"
      }
    },
    {
      "cell_type": "markdown",
      "source": [
        "#Q3. How much do you need to use the following sentence while using regular expressions?"
      ],
      "metadata": {
        "id": "DKTalSGiu2W-"
      }
    },
    {
      "cell_type": "markdown",
      "source": [
        "import re statement always has to be imported before using regular expressions."
      ],
      "metadata": {
        "id": "xOxkqbXmu5eD"
      }
    },
    {
      "cell_type": "markdown",
      "source": [
        "#Q4. Which characters have special significance in square brackets when expressing a range, and under what circumstances?"
      ],
      "metadata": {
        "id": "58PKJ0czu-KM"
      }
    },
    {
      "cell_type": "markdown",
      "source": [
        "The Characters .,*,?,^,or,(), have a special signiface when used with square brackets. They need not be be explicitly escaped by \\ as in case of pattern texts in a raw string."
      ],
      "metadata": {
        "id": "la67Ip63vAm9"
      }
    },
    {
      "cell_type": "markdown",
      "source": [
        "#Q5. How does compiling a regular-expression object benefit you?"
      ],
      "metadata": {
        "id": "vuJFd60UvCak"
      }
    },
    {
      "cell_type": "markdown",
      "source": [
        "We can Combine a regular expression pattern into pattern Objects.Which can be used for pattern matching. it also helps to search a pattern again without rewritting it."
      ],
      "metadata": {
        "id": "2d0N8peyvFIP"
      }
    },
    {
      "cell_type": "markdown",
      "source": [
        "#Q6. What are some examples of how to use the match object returned by re.match and re.search?"
      ],
      "metadata": {
        "id": "cfDK2th-vHNH"
      }
    },
    {
      "cell_type": "markdown",
      "source": [
        "The re.search() and re.match() both are functions of re module in python. These functions are very efficient and fast for searching in strings. The function searches for some substring in a string and returns a match object if found, else it returns none.\n",
        "\n",
        "There is a difference between the use of both functions. Both return the first match of a substring found in the string, but re.match() searches only from the beginning of the string and return match object if found. But if a match of substring is found somewhere in the middle of the string, it returns none.\n",
        "\n",
        "While re.search() searches for the whole string even if the string contains multi-lines and tries to find a match of the substring in all the lines of string"
      ],
      "metadata": {
        "id": "Op90lodFvKbN"
      }
    },
    {
      "cell_type": "markdown",
      "source": [
        "#Q7. What is the difference between using a vertical bar (|) as an alteration and using square brackets as a character set?"
      ],
      "metadata": {
        "id": "CudRODLHvNb8"
      }
    },
    {
      "cell_type": "markdown",
      "source": [
        "When | us used then patterns searches for or option. i.e <pattern_1>|<pattern_2> means it searches as <pattern_1>or<<pattern_2> in the searched string. the first occurance of matched string will be returned as the Match Object. Using Character set in square Brackets searches for all the character set in the square bracket and if match is found, it returns it."
      ],
      "metadata": {
        "id": "o9gwRufevR_1"
      }
    },
    {
      "cell_type": "markdown",
      "source": [
        "#Q8. In regular-expression search patterns, why is it necessary to use the raw-string indicator (r)? In replacement strings?"
      ],
      "metadata": {
        "id": "6ef56IPjvUjs"
      }
    },
    {
      "cell_type": "markdown",
      "source": [
        "Raw Strings are used in the regular-expression search patterns, so that blackslashes donot have to be escaped."
      ],
      "metadata": {
        "id": "Sf6z1Dk0vXB1"
      }
    },
    {
      "cell_type": "code",
      "source": [],
      "metadata": {
        "id": "muMbkSxssfUm"
      },
      "execution_count": null,
      "outputs": []
    }
  ]
}