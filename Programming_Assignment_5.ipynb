{
  "nbformat": 4,
  "nbformat_minor": 0,
  "metadata": {
    "colab": {
      "provenance": []
    },
    "kernelspec": {
      "name": "python3",
      "display_name": "Python 3"
    },
    "language_info": {
      "name": "python"
    }
  },
  "cells": [
    {
      "cell_type": "markdown",
      "source": [
        "##ASSIGNMENT"
      ],
      "metadata": {
        "id": "zYOkT86wamjQ"
      }
    },
    {
      "cell_type": "markdown",
      "source": [
        "1. Write a Python Program to Find LCM?"
      ],
      "metadata": {
        "id": "h_FnhAgEcMzJ"
      }
    },
    {
      "cell_type": "code",
      "execution_count": null,
      "metadata": {
        "id": "7wC58gpEaj5m"
      },
      "outputs": [],
      "source": [
        "num1=int(input(\"Enter first number\"))\n",
        "num2=int(input(\"Enter secand number\"))\n",
        "if(num1>num2):\n",
        "  lcm=num1\n",
        "elif(num1<num2):\n",
        "  lcm=num2\n",
        "while(1):\n",
        "  if(num1==num2):\n",
        "    print(f\"The lcm of {num1} and {num2} is {lcm}\")\n",
        "    break\n",
        "  if(lcm%num1==0 and lcm%num2==0):\n",
        "    print(f\"The lcm of {num1} and {num2} is {lcm}\")\n",
        "    break\n",
        "  lcm=lcm+1"
      ]
    },
    {
      "cell_type": "markdown",
      "source": [
        "2. Write a Python Program to Find HCF?"
      ],
      "metadata": {
        "id": "eicmGiRhfxRA"
      }
    },
    {
      "cell_type": "code",
      "source": [
        "num1=int(input(\"Enter first number\"))\n",
        "num2=int(input(\"Enter secand number\"))\n",
        "\n",
        "if(num1>num2):\n",
        "  hcf=num1\n",
        "elif(num1<num2):\n",
        "  hcf=num2\n",
        "\n",
        "while(1):\n",
        "  if(num1%hcf==0 and num2%hcf==0):\n",
        "    print(f\"The hcf of {num1} and {num2} is {hcf}\")\n",
        "    break\n",
        "  hcf=hcf-1\n",
        "\n"
      ],
      "metadata": {
        "id": "s_33bWOPd12I"
      },
      "execution_count": null,
      "outputs": []
    },
    {
      "cell_type": "markdown",
      "source": [
        "3. Write a Python Program to Convert Decimal to Binary, Octal and Hexadecimal?"
      ],
      "metadata": {
        "id": "OHXygOkEhmu7"
      }
    },
    {
      "cell_type": "code",
      "source": [
        "num=int(input(\"Enter a number\"))\n",
        "\n",
        "print(\"binary :\",bin(num))\n",
        "print(\"octal :\",oct(num))\n",
        "print(\"hexadecimal :\",hex(num))"
      ],
      "metadata": {
        "id": "2AWTlDeGf7tX"
      },
      "execution_count": null,
      "outputs": []
    },
    {
      "cell_type": "markdown",
      "source": [
        "4. Write a Python Program To Find ASCII value of a character?"
      ],
      "metadata": {
        "id": "uRFUEaE8kAuV"
      }
    },
    {
      "cell_type": "code",
      "source": [
        "c = 'p'\n",
        "print(\"The ASCII value of '\" + c + \"' is\", ord(c))"
      ],
      "metadata": {
        "id": "MgJWPKI1nBBv"
      },
      "execution_count": null,
      "outputs": []
    },
    {
      "cell_type": "markdown",
      "source": [
        "5. Write a Python Program to Make a Simple Calculator with 4 basic mathematical operations?"
      ],
      "metadata": {
        "id": "RiLECTT4kE6c"
      }
    },
    {
      "cell_type": "code",
      "source": [
        "from sys import setswitchinterval\n",
        "num1=int(input(\"Enter 1st number\"))\n",
        "num2=int(input(\"Enter 2st number\"))\n",
        "\n",
        "opr=input(\"Enter what you want to perform ADD/SUB/MUL/DIV\")\n",
        "if(opr==\"ADD\"):\n",
        "  print(num1+num2)\n",
        "elif(opr==\"SUB\"):\n",
        "  print(num1-num2)\n",
        "elif(opr==\"MUL\"):\n",
        "  print(num1*num2)\n",
        "elif(opr==\"DIV\"):\n",
        "  print(num1/num2)\n",
        "else:\n",
        "  print(\"Please enter some valid operation\")\n",
        "\n",
        "\n"
      ],
      "metadata": {
        "colab": {
          "base_uri": "https://localhost:8080/"
        },
        "id": "P4Wp_X0pge_n",
        "outputId": "df5783b3-3c46-48b9-ef58-8601408cae1a"
      },
      "execution_count": 14,
      "outputs": [
        {
          "output_type": "stream",
          "name": "stdout",
          "text": [
            "Enter 1st number2\n",
            "Enter 2st number3\n",
            "Enter what you want to perform ADD/SUB/MUL/DIVADD\n",
            "5\n"
          ]
        }
      ]
    },
    {
      "cell_type": "code",
      "source": [],
      "metadata": {
        "id": "yfvsnmY1mgU9"
      },
      "execution_count": null,
      "outputs": []
    }
  ]
}