{
  "nbformat": 4,
  "nbformat_minor": 0,
  "metadata": {
    "colab": {
      "provenance": []
    },
    "kernelspec": {
      "name": "python3",
      "display_name": "Python 3"
    },
    "language_info": {
      "name": "python"
    }
  },
  "cells": [
    {
      "cell_type": "markdown",
      "source": [
        "#ASSIGNMENT"
      ],
      "metadata": {
        "id": "agZSGn_h4woJ"
      }
    },
    {
      "cell_type": "markdown",
      "source": [
        "#Q1. In Python 3.X, what are the names and functions of string object types?"
      ],
      "metadata": {
        "id": "bYVO0pff40gn"
      }
    },
    {
      "cell_type": "markdown",
      "source": [
        "The following are the names and functions of string object types in Python 3.X\n",
        "\n",
        "<stirng>.isdecimal() -> Returns True if all characters in a string are decimal.\n",
        "\n",
        "<string>.isalnum() -> Returns True if all characters in the string are \n",
        "AlphaNumeric.\n",
        "<string>.istitle() -> Returns True if first character in a string is in Uppercase.\n",
        "\n",
        "<string>.partition(<sub_string>) -> Splits string at first occurance of sub string and returns a tuple of 3 elements.\n",
        "\n",
        "<string>.rpartition(<sub_string>) -> Splits string at last occurance of sub string and returns a tuple of 3 elements.\n",
        "\n",
        "<string>.isidentifier() -> Returns True if give string is a valid identifier name.\n",
        "\n",
        "len(<string>) -> Returns the length of the given string.\n",
        "\n",
        "<string>.index(<sub_string>) -> Returns the lowest index of substring if substring is found in the string.\n",
        "\n",
        "<string>.rindex(<sub_string>) -> Returns the highest index of substring if substring is found in the string.\n",
        "\n",
        "max(<string>) -> Returns the highest Alphabetical Character in the string as per ASCII.\n",
        "\n",
        "min(<string>) -> Returns the lowest Alphabetical Character in the string as per ASCII.\n",
        "\n",
        "<string>.splitlines() -> Returns a list of lines in the string.\n",
        "\n",
        "<string>.capitalize() -> Returns the string with first character capitalized.\n",
        "\n",
        "<string>.upper() -> Returns the string with all characters in uppercase.\n",
        "\n",
        "<string>.lower() -> Returns the string with all characters in lowercase"
      ],
      "metadata": {
        "id": "GGOYryLG45rT"
      }
    },
    {
      "cell_type": "markdown",
      "source": [
        "#Q2. How do the string forms in Python 3.X vary in terms of operations?"
      ],
      "metadata": {
        "id": "jTMMdBff5GQO"
      }
    },
    {
      "cell_type": "markdown",
      "source": [
        "In Python3 default format of strings is Unicode Whereas in Pyton2 we need to explicitly mention Unicode value using u."
      ],
      "metadata": {
        "id": "JM1-4o3R5I-y"
      }
    },
    {
      "cell_type": "markdown",
      "source": [
        "#Q3. In Python 3.X, how do you put non-ASCII Unicode characters in a string?"
      ],
      "metadata": {
        "id": "pRXFA1ij5MBL"
      }
    },
    {
      "cell_type": "markdown",
      "source": [
        "n Python 3.x unidecode() method from unidecode library can be used to put non-ASCII Unicode Characters in a string."
      ],
      "metadata": {
        "id": "jGvwOeVa5PkM"
      }
    },
    {
      "cell_type": "code",
      "source": [
        "from unidecode import unidecode\n",
        "print(unidecode(u'ko\\u017eu\\u0161\\u010dek'))"
      ],
      "metadata": {
        "id": "4d319MQ-4xq-"
      },
      "execution_count": null,
      "outputs": []
    },
    {
      "cell_type": "markdown",
      "source": [
        "#Q4. In Python 3.X, what are the key differences between text-mode and binary-mode files?"
      ],
      "metadata": {
        "id": "MNM_ykAo5UpY"
      }
    },
    {
      "cell_type": "markdown",
      "source": [
        "The major difference between these two is that a text file contains textual information in the form of alphabets, digits and special characters or symbols. On the other hand, a binary file contains bytes or a compiled version of a text file.\n",
        "\n",
        "When a file is opened in text mode, reading its data automatically decodes its content (as per the platform default or as per provided encoding), and returns it as a str; writing operation takes a str, and automatically encodes it before transferring to the file. Text mode files also support universal end-of-line translation, and encoding specification arguments.\n",
        "\n",
        "When a file is opened in binary mode by adding a b to the mode string argument in the open() call, reading its data does not decode it in any way, and simply returns its content raw and unchanged, as a bytes object; writing takes a bytes object and transfers it to the file unchanged. Binary-mode files also accept a bytearray object for the content to be written to the file."
      ],
      "metadata": {
        "id": "A6mlR0Zc5b0S"
      }
    },
    {
      "cell_type": "markdown",
      "source": [
        "#Q5. How can you interpret a Unicode text file containing text encoded in a different encoding than your platform's default?"
      ],
      "metadata": {
        "id": "esTnJHFj5e0H"
      }
    },
    {
      "cell_type": "markdown",
      "source": [
        " Use of encode() and decode() method can be used to you interpret a Unicode text file containing text encoded in a different encoding than your platform's default, by default encoding parameter is UTF-8"
      ],
      "metadata": {
        "id": "oKvR1e0D5hrR"
      }
    },
    {
      "cell_type": "markdown",
      "source": [
        "#Q6. What is the best way to make a Unicode text file in a particular encoding format?"
      ],
      "metadata": {
        "id": "Yt5DFLpw5m-6"
      }
    },
    {
      "cell_type": "markdown",
      "source": [
        "Use str.encode() and file.write() to make a Unicode text file in a particular encoding format, default encoding format is UTF-18.\n",
        "\n",
        "Call str.encode(encoding) with encoding set to utf8 to encode str.\n",
        "\n",
        "Call open(file, mode) to open a file with mode set to wb . wb writes to files in binary mode & preserves UTF-8format.\n",
        "\n",
        "Call file.write(data) to write data to the file."
      ],
      "metadata": {
        "id": "ZtTbMkSF5pb8"
      }
    },
    {
      "cell_type": "markdown",
      "source": [
        "#Q7. What qualifies ASCII text as a form of Unicode text?"
      ],
      "metadata": {
        "id": "64838oSI5tzD"
      }
    },
    {
      "cell_type": "markdown",
      "source": [
        "Unicode represents most written languages in the world. ASCII has its equivalent in Unicode. The difference between ASCII and Unicode is that ASCII represents lowercase letters (a-z), uppercase letters (A-Z), digits (0–9) and symbols such as punctuation marks while Unicode represents letters of English, Arabic, Greek etc. mathematical symbols, historical scripts, emoji covering a wide range of characters than ASCII."
      ],
      "metadata": {
        "id": "0xJ_6_Hh5xEa"
      }
    },
    {
      "cell_type": "markdown",
      "source": [
        "#Q8. How much of an effect does the change in string types in Python 3.X have on your code?"
      ],
      "metadata": {
        "id": "hg4WLnLc5zLU"
      }
    },
    {
      "cell_type": "markdown",
      "source": [
        " Python 3 stores strings as Unicode by default whereas Python 2 requires you to mark a string with a u if you want to store it as Unicode. Unicode strings are more versatile than ASCII strings, which are the Python 3.X default, as they can store letters from foreign languages as well as emoji and the standard Roman letters and numerals."
      ],
      "metadata": {
        "id": "a1BSSGoM516x"
      }
    },
    {
      "cell_type": "code",
      "source": [],
      "metadata": {
        "id": "uISRzgBX5SZL"
      },
      "execution_count": null,
      "outputs": []
    }
  ]
}