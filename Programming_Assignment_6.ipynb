{
  "nbformat": 4,
  "nbformat_minor": 0,
  "metadata": {
    "colab": {
      "provenance": []
    },
    "kernelspec": {
      "name": "python3",
      "display_name": "Python 3"
    },
    "language_info": {
      "name": "python"
    }
  },
  "cells": [
    {
      "cell_type": "markdown",
      "source": [
        "##ASSIGNMENT"
      ],
      "metadata": {
        "id": "JmFtQ0J_aoJ0"
      }
    },
    {
      "cell_type": "markdown",
      "source": [
        "1. Write a Python Program to Display Fibonacci Sequence Using Recursion?"
      ],
      "metadata": {
        "id": "zPjaZNIxasz-"
      }
    },
    {
      "cell_type": "code",
      "source": [
        "count=1\n",
        "def fib(fib1,fib2,count):\n",
        "  if(count==i):\n",
        "    return 0\n",
        "  fib3=fib1+fib2\n",
        "  print(fib3,end=\" \")\n",
        "  fib1=fib2\n",
        "  fib2=fib3\n",
        "  count=count+1\n",
        "  fib(fib1,fib2,count)\n",
        "  \n",
        "\n",
        "i=int(input(\"Enter a number\"))\n",
        "print(0,end=\" \")\n",
        "print(1,end=\" \")\n",
        "fib(0,1,count)\n"
      ],
      "metadata": {
        "id": "WOf_5ggfa9CZ"
      },
      "execution_count": null,
      "outputs": []
    },
    {
      "cell_type": "markdown",
      "source": [
        "2. Write a Python Program to Find Factorial of Number Using Recursion?"
      ],
      "metadata": {
        "id": "FdllkPYRawmy"
      }
    },
    {
      "cell_type": "code",
      "source": [
        "i=int(input(\"Enter a number \"))\n",
        "def fact(num):\n",
        "  if(num==1):\n",
        "    return 1\n",
        "  factorial=num*fact(num-1)\n",
        "  return factorial\n",
        "fact(i)"
      ],
      "metadata": {
        "id": "Z7eAOplTa_t8"
      },
      "execution_count": null,
      "outputs": []
    },
    {
      "cell_type": "markdown",
      "source": [
        "3. Write a Python Program to calculate your Body Mass Index?"
      ],
      "metadata": {
        "id": "3bFuZDnvazlG"
      }
    },
    {
      "cell_type": "code",
      "source": [
        "mass=int(input(\"Enter your weight in kg\"))\n",
        "height=float(input(\"Enter your height in meter\"))\n",
        "bmi=mass/(height**2)\n",
        "print(\"your bmi is \", bmi)"
      ],
      "metadata": {
        "id": "qkClnSKAbAeX"
      },
      "execution_count": null,
      "outputs": []
    },
    {
      "cell_type": "markdown",
      "source": [
        "4. Write a Python Program to calculate the natural logarithm of any number?"
      ],
      "metadata": {
        "id": "TciFmbJKazoD"
      }
    },
    {
      "cell_type": "code",
      "source": [
        "import math\n",
        "i=int(input(\"Enter a number \"))\n",
        "print(f\"The natural log of {i} is {math.log(i)}\")"
      ],
      "metadata": {
        "id": "Dvf8a2YxbBOX"
      },
      "execution_count": null,
      "outputs": []
    },
    {
      "cell_type": "markdown",
      "source": [
        "5. Write a Python Program for cube sum of first n natural numbers?"
      ],
      "metadata": {
        "id": "BWN1FkGQazrd"
      }
    },
    {
      "cell_type": "code",
      "source": [
        "i=int(input(\"Enter a number \"))\n",
        "sum=0\n",
        "for num in range(1,i+1):\n",
        "  sum=sum+(num**3)\n",
        "print(sum)"
      ],
      "metadata": {
        "id": "16saQ4GIap8O"
      },
      "execution_count": null,
      "outputs": []
    },
    {
      "cell_type": "code",
      "source": [],
      "metadata": {
        "id": "KvHvfXuueBo_"
      },
      "execution_count": null,
      "outputs": []
    }
  ]
}