{
  "nbformat": 4,
  "nbformat_minor": 0,
  "metadata": {
    "colab": {
      "provenance": []
    },
    "kernelspec": {
      "name": "python3",
      "display_name": "Python 3"
    },
    "language_info": {
      "name": "python"
    }
  },
  "cells": [
    {
      "cell_type": "markdown",
      "source": [
        "ASSIGNMENT"
      ],
      "metadata": {
        "id": "bLY3JlFscUWb"
      }
    },
    {
      "cell_type": "markdown",
      "source": [
        "Question 1:\n",
        "Define a class with a generator which can iterate the numbers, which are divisible by\n",
        "7, between a given range 0 and n."
      ],
      "metadata": {
        "id": "O36Y3VHlcXtK"
      }
    },
    {
      "cell_type": "code",
      "source": [
        "class divide:\n",
        "  def generate_divBy7(self,n):\n",
        "    '''\n",
        "    This method gives the generator object'''\n",
        "    for i in range(n):\n",
        "      if(i%7==0):\n",
        "        yield i\n",
        "  def get_divBy7(self,gener):\n",
        "    '''\n",
        "    This method prints the generator object value\n",
        "    '''\n",
        "    for i in gener:\n",
        "      print(i)\n",
        "\n",
        "obj= divide()\n",
        "f=obj.generate_divBy7(100)\n",
        "obj.get_divBy7(f)\n",
        "\n",
        "\n",
        "\n",
        "\n"
      ],
      "metadata": {
        "id": "deildExqcV8l"
      },
      "execution_count": null,
      "outputs": []
    },
    {
      "cell_type": "markdown",
      "source": [
        "Question 2:\n",
        "Write a program to compute the frequency of the words from the input. The output\n",
        "should output after sorting the key alphanumerically."
      ],
      "metadata": {
        "id": "R6sfG5ele5OU"
      }
    },
    {
      "cell_type": "code",
      "source": [
        "inp = input(\"Enter a string\")\n",
        "\n",
        "li=inp.split(' ')\n",
        "dic=dict()\n",
        "for i in li:\n",
        "  if(i not in dic):\n",
        "    a=li.count(i)\n",
        "    dic[i]=a\n",
        "\n",
        "key = list(dic.keys())\n",
        "key=sorted(key)\n",
        "for i in key:\n",
        "  print(i , \":\" , dic[i])"
      ],
      "metadata": {
        "id": "YJFqKcSOc_li"
      },
      "execution_count": null,
      "outputs": []
    },
    {
      "cell_type": "markdown",
      "source": [
        "Question 3:\n",
        "\n",
        "Define a class Person and its two child classes: Male and Female. All classes have a\n",
        "method &quot;getGender&quot; which can print &quot;Male&quot; for Male class and &quot;Female&quot; for Female\n",
        "class."
      ],
      "metadata": {
        "id": "zeNtHzKKgkVT"
      }
    },
    {
      "cell_type": "code",
      "source": [
        "class person:\n",
        "  def getGender(self,gender):\n",
        "    print(gender)\n",
        "\n",
        "class male(person):\n",
        "  def __init__(self):\n",
        "    self.gender='male'\n",
        "\n",
        "  def getGender(self):\n",
        "    super().getGender(self.gender)\n",
        "    \n",
        "\n",
        "class female(person):\n",
        "  def __init__(self):\n",
        "    self.gender='female'\n",
        "\n",
        "  def getGender(self):\n",
        "    super().getGender(self.gender)"
      ],
      "metadata": {
        "id": "m4aapNCgf0QX"
      },
      "execution_count": 39,
      "outputs": []
    },
    {
      "cell_type": "code",
      "source": [
        "obj=male()\n",
        "obj1=female()"
      ],
      "metadata": {
        "id": "IDgb8lyxhlHY"
      },
      "execution_count": 40,
      "outputs": []
    },
    {
      "cell_type": "code",
      "source": [
        "print(obj.getGender())\n",
        "print(obj1.getGender())"
      ],
      "metadata": {
        "id": "xWlkvMH7hoF3"
      },
      "execution_count": null,
      "outputs": []
    },
    {
      "cell_type": "markdown",
      "source": [
        "Question 4:\n",
        "Please write a program to generate all sentences where subject is in [&quot;I&quot;, &quot;You&quot;] and\n",
        "verb is in [&quot;Play&quot;, &quot;Love&quot;] and the object is in [&quot;Hockey&quot;,&quot;Football&quot;]."
      ],
      "metadata": {
        "id": "RAvFhxefxcJO"
      }
    },
    {
      "cell_type": "code",
      "source": [
        "subject= [\"I\",\"You\"]\n",
        "verb= [\"Play\",\"Love\"]\n",
        "objects=[\"Hockey\",\"Football\"]\n",
        "\n",
        "for i in subject:\n",
        "  for j in verb:\n",
        "    for k in objects:\n",
        "      print(i +\" \"+j+\" \"+k)"
      ],
      "metadata": {
        "id": "lAtV7Chfhpw1"
      },
      "execution_count": null,
      "outputs": []
    },
    {
      "cell_type": "markdown",
      "source": [
        "Question 5:\n",
        "Please write a program to compress and decompress the string &quot;hello world!hello\n",
        "world!hello world!hello world!&quot;."
      ],
      "metadata": {
        "id": "0oevxozcyjqE"
      }
    },
    {
      "cell_type": "code",
      "source": [
        "import gzip\n",
        "s = b'GeeksForGeeks@12345678'\n",
        "s = gzip.compress(s)\n",
        "print(s)\n",
        "# using gzip.decompress(s) method\n",
        "t = gzip.decompress(s)\n",
        "print(t)"
      ],
      "metadata": {
        "id": "65aWKr_DyYK_"
      },
      "execution_count": null,
      "outputs": []
    },
    {
      "cell_type": "markdown",
      "source": [
        "Question 6:\n",
        "Please write a binary search function which searches an item in a sorted list. The\n",
        "function should return the index of element to be searched in the list."
      ],
      "metadata": {
        "id": "nYawM8qUzK7_"
      }
    },
    {
      "cell_type": "code",
      "source": [
        "l=[1,2,3,4,5,6,7,8,9]\n",
        "inp=int(input(\"Enter the input to search\"))\n",
        "index=-1\n",
        "start=0\n",
        "end=len(l)-1\n",
        "\n",
        "while(start<end):\n",
        "  mid=(start+end)//2\n",
        "  if(l[mid]==inp):\n",
        "    index=mid\n",
        "    break\n",
        "  elif(inp>l[mid]):\n",
        "    start=mid+1\n",
        "  else:\n",
        "    end=mid-1\n",
        "\n",
        "print(index)"
      ],
      "metadata": {
        "id": "74nFODxRzAGR"
      },
      "execution_count": null,
      "outputs": []
    },
    {
      "cell_type": "code",
      "source": [],
      "metadata": {
        "id": "q3UqsCiez97j"
      },
      "execution_count": null,
      "outputs": []
    }
  ]
}