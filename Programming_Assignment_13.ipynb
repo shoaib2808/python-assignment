{
  "nbformat": 4,
  "nbformat_minor": 0,
  "metadata": {
    "colab": {
      "provenance": []
    },
    "kernelspec": {
      "name": "python3",
      "display_name": "Python 3"
    },
    "language_info": {
      "name": "python"
    }
  },
  "cells": [
    {
      "cell_type": "markdown",
      "source": [
        "ASSIGNMENT"
      ],
      "metadata": {
        "id": "Gch78VUpZUCl"
      }
    },
    {
      "cell_type": "markdown",
      "source": [
        "Question 1:\n",
        "Write a program that calculates and prints the value according to the given formula:\n",
        "Q = Square root of [(2 * C * D)/H]\n",
        "Following are the fixed values of C and H:\n",
        "C is 50. H is 30.\n",
        "D is the variable whose values should be input to your program in a comma-separated\n",
        "sequence."
      ],
      "metadata": {
        "id": "rVjn9a4-ZWvv"
      }
    },
    {
      "cell_type": "code",
      "source": [
        "import math\n",
        "\n",
        "C=50\n",
        "H=30\n",
        "\n",
        "inp=input(\"Enter comma separated values\")\n",
        "\n",
        "l=inp.split(',')\n",
        "\n",
        "for i in l:\n",
        "  temp=(2*C*int(i))/H\n",
        "  Q=math.sqrt(temp)\n",
        "  print(round(Q ),end=\" \")\n",
        "\n",
        "\n"
      ],
      "metadata": {
        "id": "M62K-JLTZVS7"
      },
      "execution_count": null,
      "outputs": []
    },
    {
      "cell_type": "markdown",
      "source": [
        "Question 2:\n",
        "Write a program which takes 2 digits, X,Y as input and generates a 2-dimensional array. The\n",
        "element value in the i-th row and j-th column of the array should be i*j.\n",
        "Note: i=0,1.., X-1; j=0,1,¡Y-1."
      ],
      "metadata": {
        "id": "5CmIa8fsa05N"
      }
    },
    {
      "cell_type": "code",
      "source": [
        "x=int(input(\"Enter 1st number\"))\n",
        "y=int(input(\"Enter 2nd number\"))\n",
        "\n",
        "pro=list()\n",
        "\n",
        "for i in range(x):\n",
        "  temp=[]\n",
        "  for j in range(y):\n",
        "    a=i*j\n",
        "    temp.append(a)\n",
        "  pro.append(temp)\n",
        "\n",
        "pro\n",
        "    \n"
      ],
      "metadata": {
        "id": "Y667T_h2ZlUx"
      },
      "execution_count": null,
      "outputs": []
    },
    {
      "cell_type": "markdown",
      "source": [
        "Question 3:\n",
        "Write a program that accepts a comma separated sequence of words as input and prints the\n",
        "words in a comma-separated sequence after sorting them alphabetically."
      ],
      "metadata": {
        "id": "g42bopOhcwBR"
      }
    },
    {
      "cell_type": "code",
      "source": [
        "inp= input(\"Enter comma separated values \")\n",
        "\n",
        "l= inp.split(\",\")\n",
        "\n",
        "sorted_l = sorted(l)\n",
        "\n",
        "print(sorted_l)\n",
        "\n"
      ],
      "metadata": {
        "id": "RgLq-wMMcixb"
      },
      "execution_count": null,
      "outputs": []
    },
    {
      "cell_type": "markdown",
      "source": [
        "Question 4:\n",
        "Write a program that accepts a sequence of whitespace separated words as input and prints\n",
        "the words after removing all duplicate words and sorting them alphanumerically.\n",
        "Suppose the following input is supplied to the program:\n",
        "hello world and practice makes perfect and hello world again"
      ],
      "metadata": {
        "id": "wIZXlyOXG_gX"
      }
    },
    {
      "cell_type": "code",
      "source": [
        "inp= input(\"Enter a space separated string  \")\n",
        "\n",
        "l= inp.split(\" \")\n",
        "\n",
        "set_l= set(l)\n",
        "\n",
        "sorted_l = sorted(list(set_l))\n",
        "\n",
        "for i in sorted_l :\n",
        "  print(i , end=\" \")"
      ],
      "metadata": {
        "id": "odaK5HaAdDSD"
      },
      "execution_count": null,
      "outputs": []
    },
    {
      "cell_type": "markdown",
      "source": [
        "Question 5:\n",
        "Write a program that accepts a sentence and calculate the number of letters and digits."
      ],
      "metadata": {
        "id": "AmcItFEXIV1x"
      }
    },
    {
      "cell_type": "code",
      "source": [
        "inp = input(\"Enter a string \")\n",
        "\n",
        "digit=0\n",
        "letter=0\n",
        "\n",
        "if(len(inp)==0):\n",
        "  print('''\n",
        "  DIGIT = 0\n",
        "  LETTER = 0\n",
        "  ''')\n",
        "else:\n",
        "  for i in inp:\n",
        "      if(i.isnumeric()):\n",
        "        digit=digit+1\n",
        "      if(i.isalpha()):\n",
        "         letter = letter+1\n",
        "    \n",
        "print(f'DIGIT {digit}')\n",
        "print(f'LETTER {letter}')"
      ],
      "metadata": {
        "id": "Ydtg0ksYdUmA"
      },
      "execution_count": null,
      "outputs": []
    },
    {
      "cell_type": "markdown",
      "source": [
        "Question 6:\n",
        "A website requires the users to input username and password to register. Write a program to\n",
        "check the validity of password input by users.\n",
        "Following are the criteria for checking the password:\n",
        "1. At least 1 letter between [a-z]\n",
        "2. At least 1 number between [0-9]\n",
        "1. At least 1 letter between [A-Z]\n",
        "3. At least 1 character from [$#@]\n",
        "4. Minimum length of transaction password: 6\n",
        "5. Maximum length of transaction password: 12"
      ],
      "metadata": {
        "id": "67Q_v4f2MNbi"
      }
    },
    {
      "cell_type": "code",
      "source": [
        "inp= input(\"Enter comma separated password \")\n",
        "\n",
        "password = inp.split(',')\n",
        "\n",
        "for i in password:\n",
        "  a=False\n",
        "  b=False\n",
        "  c=False\n",
        "  for j in i:\n",
        "    if(j.isupper()):\n",
        "      c=True\n",
        "    if(j.islower()):\n",
        "      a=True\n",
        "    if(j.isnumeric()):\n",
        "      b=True\n",
        "  d= ('$' in i ) or ('#' in i) or  ('@' in i)\n",
        "  e= len(i)>=6\n",
        "  f=len(i)<=12\n",
        "\n",
        "  if(a and b and c and d and e and f):\n",
        "    print(i)"
      ],
      "metadata": {
        "id": "bvLXEHBuJqhc"
      },
      "execution_count": null,
      "outputs": []
    },
    {
      "cell_type": "code",
      "source": [],
      "metadata": {
        "id": "RMAjIAimNpG6"
      },
      "execution_count": 24,
      "outputs": []
    },
    {
      "cell_type": "code",
      "source": [],
      "metadata": {
        "id": "6atVpU6pNu_H"
      },
      "execution_count": null,
      "outputs": []
    }
  ]
}