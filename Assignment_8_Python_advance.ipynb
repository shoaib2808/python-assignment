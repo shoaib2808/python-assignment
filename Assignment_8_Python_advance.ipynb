{
  "nbformat": 4,
  "nbformat_minor": 0,
  "metadata": {
    "colab": {
      "provenance": []
    },
    "kernelspec": {
      "name": "python3",
      "display_name": "Python 3"
    },
    "language_info": {
      "name": "python"
    }
  },
  "cells": [
    {
      "cell_type": "markdown",
      "source": [
        "#ASSIGNMENT"
      ],
      "metadata": {
        "id": "bR5X5C9n3nRe"
      }
    },
    {
      "cell_type": "markdown",
      "source": [
        "#Q1. What are the two latest user-defined exception constraints in Python 3.X?"
      ],
      "metadata": {
        "id": "q-h4JnLY3qet"
      }
    },
    {
      "cell_type": "markdown",
      "source": [
        "raise and assert are the two latest user-defined exception constraints in Python 3.X"
      ],
      "metadata": {
        "id": "MvvC05Zy3s_0"
      }
    },
    {
      "cell_type": "markdown",
      "source": [
        "#Q2. How are class-based exceptions that have been raised matched to handlers?"
      ],
      "metadata": {
        "id": "UDFLec_03xtt"
      }
    },
    {
      "cell_type": "markdown",
      "source": [
        "In python, Users can define custom exceptions by creating a new class. This exception class has to be derived, either directly or indirectly from built-in Exception class. This new exception class like other exceptions can be raised using the raise statement with an optional error message."
      ],
      "metadata": {
        "id": "IMhI-C3230ZW"
      }
    },
    {
      "cell_type": "markdown",
      "source": [
        "#Q3. Describe two methods for attaching context information to exception artefacts ?"
      ],
      "metadata": {
        "id": "Qjd3izkF326n"
      }
    },
    {
      "cell_type": "markdown",
      "source": [
        "The process() method of LoggerAdapter is where the contextual information is added to the logging output. its passes the message and keyword arguments of the logging call, and it passes back modified versions of these to use in the call to the underlying logger.\n",
        "\n",
        "Other method that can be used is exception(), Logs a messgae with level ERROR on this logger. The arguments are interpreted as for debug(). Exception info is added to the logging message."
      ],
      "metadata": {
        "id": "BKrmS-mP35Xa"
      }
    },
    {
      "cell_type": "markdown",
      "source": [
        "#Q4. Describe two methods for specifying the text of an exception object's error message ?"
      ],
      "metadata": {
        "id": "upNc22GV37o-"
      }
    },
    {
      "cell_type": "markdown",
      "source": [
        "raise and assert are two methods for specifying the text of an exception object's error message.raise statement is used to trigger explicit exception, if certain condition is not as per requirement of programmer. it helps in triggering exception as per need of programmer and logic.\n",
        "\n",
        "There are few assertions that programmer always want to be True to avoid code failure. This type of requirment is fullfilled by assert statement. This statement takes a Boolean Condition output of which if True, further program executes. if output of assert statement is False it raises an Assertion Error."
      ],
      "metadata": {
        "id": "SPfCvemz4HMr"
      }
    },
    {
      "cell_type": "markdown",
      "source": [
        "#Q5. Why do you no longer use string-based exceptions?"
      ],
      "metadata": {
        "id": "5Rf48lrv4Jhk"
      }
    },
    {
      "cell_type": "markdown",
      "source": [
        "String-based Exceptions doesn't inherit from Exceptions. so plain exceptions catch all exceptions and not only system."
      ],
      "metadata": {
        "id": "KQjOg-s74MSd"
      }
    },
    {
      "cell_type": "code",
      "source": [],
      "metadata": {
        "id": "vMyUBMl_3pf-"
      },
      "execution_count": null,
      "outputs": []
    }
  ]
}