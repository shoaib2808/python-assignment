{
  "nbformat": 4,
  "nbformat_minor": 0,
  "metadata": {
    "colab": {
      "provenance": []
    },
    "kernelspec": {
      "name": "python3",
      "display_name": "Python 3"
    },
    "language_info": {
      "name": "python"
    }
  },
  "cells": [
    {
      "cell_type": "markdown",
      "source": [
        "ASSIGNMENT"
      ],
      "metadata": {
        "id": "HLWk_79flyWc"
      }
    },
    {
      "cell_type": "markdown",
      "source": [
        "Create a function that takes a list of strings and integers, and filters out the list so that it\n",
        "returns a list of integers only."
      ],
      "metadata": {
        "id": "0HlbvMV0l0qL"
      }
    },
    {
      "cell_type": "code",
      "source": [
        "def integer(lst):\n",
        "  temp=list()\n",
        "  for i in range(len(lst)):\n",
        "    if(type(lst[i])== int):\n",
        "      temp.append(lst[i])\n",
        "  return temp\n",
        "\n",
        "integer([1,2,3,\"sho\",'s','f'])"
      ],
      "metadata": {
        "id": "4uK10DwtlzNN"
      },
      "execution_count": null,
      "outputs": []
    },
    {
      "cell_type": "markdown",
      "source": [
        "Given a list of numbers, create a function which returns the list but with each element&#39;s\n",
        "index in the list added to itself. This means you add 0 to the number at index 0, add 1 to the\n",
        "number at index 1, etc..."
      ],
      "metadata": {
        "id": "Ra-xx9FMnQo_"
      }
    },
    {
      "cell_type": "code",
      "source": [
        "def replace(lst):\n",
        "  for i in range(len(lst)):\n",
        "    lst[i]=lst[i]+i\n",
        "  return lst\n",
        "\n",
        "replace([1,2,3,4,5])"
      ],
      "metadata": {
        "id": "nUe4Hh1WmcXr"
      },
      "execution_count": null,
      "outputs": []
    },
    {
      "cell_type": "markdown",
      "source": [
        "Create a function that takes the height and radius of a cone as arguments and returns the\n",
        "volume of the cone rounded to the nearest hundredth. See the resources tab for the formula."
      ],
      "metadata": {
        "id": "vczxx6Khn47S"
      }
    },
    {
      "cell_type": "code",
      "source": [
        "def vol_cone(height, radius):\n",
        "  pi=22/7\n",
        "  vol= (1/3)*pi*(radius**2)*height\n",
        "  return round(vol,2)\n",
        "\n",
        "vol_cone(18,0)"
      ],
      "metadata": {
        "id": "PlO87zjlnySm"
      },
      "execution_count": null,
      "outputs": []
    },
    {
      "cell_type": "markdown",
      "source": [
        "This Triangular Number Sequence is generated from a pattern of dots that form a triangle.\n",
        "The first 5 numbers of the sequence, or dots, are:\n",
        "1, 3, 6, 10, 15\n",
        "This means that the first triangle has just one dot, the second one has three dots, the third one\n",
        "has 6 dots and so on."
      ],
      "metadata": {
        "id": "IPYSk7egomSS"
      }
    },
    {
      "cell_type": "code",
      "source": [
        "def triangle(n):\n",
        "  seq=1\n",
        "  diff=2\n",
        "  if(n==1):\n",
        "      return 1\n",
        "  for i in range(2,n+1):\n",
        "    seq=seq+diff\n",
        "    diff=diff+1\n",
        "\n",
        "  return seq\n",
        "\n",
        "triangle(215)\n",
        "    \n"
      ],
      "metadata": {
        "id": "V82c25dzoeKJ"
      },
      "execution_count": null,
      "outputs": []
    },
    {
      "cell_type": "markdown",
      "source": [
        "Create a function that takes a list of numbers between 1 and 10 (excluding one number) and\n",
        "returns the missing number."
      ],
      "metadata": {
        "id": "ZALBzIv8q8bu"
      }
    },
    {
      "cell_type": "code",
      "source": [
        "def missing_num(lst):\n",
        "  for i in range(1,11):\n",
        "    if(i not in lst):\n",
        "      return i\n",
        "\n",
        "missing_num([1,2,3,5,6,7,8,9,10])"
      ],
      "metadata": {
        "id": "qpbtoH4DqMnp"
      },
      "execution_count": null,
      "outputs": []
    },
    {
      "cell_type": "code",
      "source": [],
      "metadata": {
        "id": "YwOHBgJmrfot"
      },
      "execution_count": null,
      "outputs": []
    }
  ]
}