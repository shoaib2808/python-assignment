{
  "nbformat": 4,
  "nbformat_minor": 0,
  "metadata": {
    "colab": {
      "provenance": []
    },
    "kernelspec": {
      "name": "python3",
      "display_name": "Python 3"
    },
    "language_info": {
      "name": "python"
    }
  },
  "cells": [
    {
      "cell_type": "markdown",
      "source": [
        "#ASSIGNMENT"
      ],
      "metadata": {
        "id": "qgjakuw2d1w6"
      }
    },
    {
      "cell_type": "markdown",
      "source": [
        "#Q1. Does assigning a value to a string&#39;s indexed character violate Python&#39;s string immutability?"
      ],
      "metadata": {
        "id": "y2R5tabFd704"
      }
    },
    {
      "cell_type": "markdown",
      "source": [
        "String’s indexed character cannot to be assigned a New value , as Strings are immutable.\n",
        "\n",
        "Example:\n",
        "\n",
        "name = \"Reinforcement\"\n",
        "\n",
        "print(id(name)) #73472\n",
        "\n",
        "name[0] = \"V\" # Raises TypeError"
      ],
      "metadata": {
        "id": "ZIsy4IjPd-YK"
      }
    },
    {
      "cell_type": "markdown",
      "source": [
        "#Q2. Does using the += operator to concatenate strings violate Python&#39;s string immutability? Why or why not?"
      ],
      "metadata": {
        "id": "efws6cZseDUC"
      }
    },
    {
      "cell_type": "markdown",
      "source": [
        "+= operator is used to concatenate strings, it does not violate Python’s string immutability Property. Because doing so new creates a new association with data and variable. E.g. str_1=\"a\" and str_1+=\"b. effect of this statements to create string ab and reassign it to variable str_1, any string data is not actually modified."
      ],
      "metadata": {
        "id": "t2LT-zKceHVU"
      }
    },
    {
      "cell_type": "markdown",
      "source": [
        "#Q3. In Python, how many different ways are there to index a character?"
      ],
      "metadata": {
        "id": "ca2JnSc-eJi8"
      }
    },
    {
      "cell_type": "markdown",
      "source": [
        " A Character in string can be indexed using string name followed by index number of character in square bracket. Positive Indexing i.e. first index is 0 an so on, or Negative Indexing i.e. last letter is -1 and so on can be used to index a character"
      ],
      "metadata": {
        "id": "vkCdvcxVeNwI"
      }
    },
    {
      "cell_type": "markdown",
      "source": [
        "#Q4. What is the relationship between indexing and slicing?"
      ],
      "metadata": {
        "id": "WwTcDlMpeRfu"
      }
    },
    {
      "cell_type": "markdown",
      "source": [
        "We can access elements of sequence datatypes by using slicing and indexing. Indexing is used to obtaining individual element while slicing for sequence of elements."
      ],
      "metadata": {
        "id": "YnN0ypM-eTrL"
      }
    },
    {
      "cell_type": "markdown",
      "source": [
        "#Q5. What is an indexed character&#39;s exact data type? What is the data form of a slicing-generated substring?"
      ],
      "metadata": {
        "id": "Fu4OoL1FeWBw"
      }
    },
    {
      "cell_type": "markdown",
      "source": [
        "Indexed characters and sliced substrings have datatype String."
      ],
      "metadata": {
        "id": "tc0SCxhIeaRu"
      }
    },
    {
      "cell_type": "code",
      "source": [
        "in_string = \"iNeuron Full Stack Data Science\"\n",
        "print(type(in_string[3])) \n",
        "print(type(in_string[1:10]))"
      ],
      "metadata": {
        "id": "LYQHf_U_d2nZ"
      },
      "execution_count": null,
      "outputs": []
    },
    {
      "cell_type": "markdown",
      "source": [
        "#Q6. What is the relationship between string and character &quot;types&quot; in Python?"
      ],
      "metadata": {
        "id": "fE8_QhlUeiOu"
      }
    },
    {
      "cell_type": "markdown",
      "source": [
        "Object that contains sequence of character datatypes are called String."
      ],
      "metadata": {
        "id": "9dAWzFyOekk7"
      }
    },
    {
      "cell_type": "markdown",
      "source": [
        "#Q7. Identify at least two operators & one method that allow you to combine one or more smaller strings to create a larger string ?"
      ],
      "metadata": {
        "id": "WuYYyhgWemZN"
      }
    },
    {
      "cell_type": "markdown",
      "source": [
        "+, += and * allow to combine one or more smaller strings to create a larger string. <string>.join(<sep>) method joins element of iterable type like list and tuple to get a combined string."
      ],
      "metadata": {
        "id": "yaaUVQDReosu"
      }
    },
    {
      "cell_type": "markdown",
      "source": [
        "#Q8. What is the benefit of first checking the target string with in or not in before using the index method to find a substring ?"
      ],
      "metadata": {
        "id": "rQUkTf8LervO"
      }
    },
    {
      "cell_type": "markdown",
      "source": [
        "Checking the target string with in or not Operators before using the index method to find a substring just helps confirming availability of substring and thus avoid raising of ValueError.\n",
        "Example:\n",
        "\n",
        "in_string = \"ineuron\"\n",
        "\n",
        "in_string.index('x') # Raises ValueError\n",
        "\n",
        "in_string.index('u') # 3"
      ],
      "metadata": {
        "id": "qB-qW5O7euQT"
      }
    },
    {
      "cell_type": "markdown",
      "source": [
        "#Q9. Which operators and built-in string methods produce simple Boolean (true/false) results?"
      ],
      "metadata": {
        "id": "OHbP49vbex5z"
      }
    },
    {
      "cell_type": "markdown",
      "source": [
        "The String Operators and built-in methods to Produce Simple Boolean (True/False) Results are:\n",
        "\n",
        "in\n",
        "\n",
        "not\n",
        "\n",
        "<string>.isalpha()\n",
        "\n",
        "<string>.isalnum()\n",
        "\n",
        "<string>.isdecimal()\n",
        "\n",
        "<string>.isdigit()\n",
        "\n",
        "<string>.islower()\n",
        "\n",
        "<string>.isnumeric()\n",
        "\n",
        "<string>.isprintable()\n",
        "\n",
        "<string>.isspace()\n",
        "\n",
        "<string>.istitle()"
      ],
      "metadata": {
        "id": "KVXFrzyYe0lz"
      }
    },
    {
      "cell_type": "code",
      "source": [],
      "metadata": {
        "id": "KlDCVsypeij2"
      },
      "execution_count": null,
      "outputs": []
    }
  ]
}