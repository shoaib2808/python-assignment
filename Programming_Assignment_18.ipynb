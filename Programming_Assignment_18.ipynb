{
  "nbformat": 4,
  "nbformat_minor": 0,
  "metadata": {
    "colab": {
      "provenance": []
    },
    "kernelspec": {
      "name": "python3",
      "display_name": "Python 3"
    },
    "language_info": {
      "name": "python"
    }
  },
  "cells": [
    {
      "cell_type": "markdown",
      "source": [
        "ASSIGNMENT"
      ],
      "metadata": {
        "id": "71jvTiWpUMih"
      }
    },
    {
      "cell_type": "markdown",
      "source": [
        "Create a function that takes a list of non-negative integers and strings and return a new list\n",
        "without the strings."
      ],
      "metadata": {
        "id": "XqXivgVtURU4"
      }
    },
    {
      "cell_type": "code",
      "source": [
        "def filter_string(lst):\n",
        "  for i in range(len(lst)):\n",
        "    if(type(lst[i])==str):\n",
        "      lst.pop(i)\n",
        "  return lst\n",
        "\n",
        "filter_string([1,2,3,'a'])"
      ],
      "metadata": {
        "id": "5xIpTjpoUNiC"
      },
      "execution_count": null,
      "outputs": []
    },
    {
      "cell_type": "markdown",
      "source": [
        "The &quot;Reverser&quot; takes a string as input and returns that string in reverse order, with the\n",
        "opposite case."
      ],
      "metadata": {
        "id": "1T4dUVACVSkL"
      }
    },
    {
      "cell_type": "code",
      "source": [
        "def Reverser(s):\n",
        "  s=s[::-1]\n",
        "  s=s.swapcase()\n",
        "  return s\n",
        "\n",
        "Reverser(\"ShOAib\")"
      ],
      "metadata": {
        "id": "XO1wqgi9Up-5"
      },
      "execution_count": null,
      "outputs": []
    },
    {
      "cell_type": "markdown",
      "source": [
        "Your task is to unpack the list writeyourcodehere into three variables, being first,\n",
        "middle, and last, with middle being everything in between the first and last element. Then\n",
        "print all three variables."
      ],
      "metadata": {
        "id": "lnBEvOgFVgXn"
      }
    },
    {
      "cell_type": "code",
      "source": [
        "writeyourcodehere=[1,2,3,4,5,6,7,8,9]\n",
        "\n",
        "first = writeyourcodehere[0]\n",
        "middle = writeyourcodehere[1:-1]\n",
        "last = writeyourcodehere[-1]\n",
        "\n",
        "print(first)\n",
        "print(middle)\n",
        "print(last)"
      ],
      "metadata": {
        "id": "Gjp7v78HWC_p"
      },
      "execution_count": null,
      "outputs": []
    },
    {
      "cell_type": "markdown",
      "source": [
        "Write a function that calculates the factorial of a number recursively."
      ],
      "metadata": {
        "id": "but-ZUB0WdWo"
      }
    },
    {
      "cell_type": "code",
      "source": [
        "def fact(num):\n",
        "  if(num==1):\n",
        "    return 1\n",
        "  return num*fact(num-1)"
      ],
      "metadata": {
        "id": "2TVph51RWXM5"
      },
      "execution_count": 6,
      "outputs": []
    },
    {
      "cell_type": "markdown",
      "source": [
        "Write a function that moves all elements of one type to the end of the list."
      ],
      "metadata": {
        "id": "Jj4dYHEnWv1y"
      }
    },
    {
      "cell_type": "code",
      "source": [
        "def move_to_end(lst,a):\n",
        "  for i in range(len(lst)):\n",
        "    if(lst[i]==a):\n",
        "      temp=lst.pop(i)\n",
        "      lst.append(temp)\n",
        "\n",
        "  return lst\n",
        "\n",
        "move_to_end([1, 3, 2, 4, 4, 1], 1) "
      ],
      "metadata": {
        "id": "H9TzlwKfWnaY"
      },
      "execution_count": null,
      "outputs": []
    },
    {
      "cell_type": "code",
      "source": [],
      "metadata": {
        "id": "6sR7PONwXObN"
      },
      "execution_count": null,
      "outputs": []
    }
  ]
}