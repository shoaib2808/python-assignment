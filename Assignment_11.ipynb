{
  "nbformat": 4,
  "nbformat_minor": 0,
  "metadata": {
    "colab": {
      "provenance": []
    },
    "kernelspec": {
      "name": "python3",
      "display_name": "Python 3"
    },
    "language_info": {
      "name": "python"
    }
  },
  "cells": [
    {
      "cell_type": "markdown",
      "source": [
        "#ASSIGNMENT"
      ],
      "metadata": {
        "id": "sl-8nsdYsF-g"
      }
    },
    {
      "cell_type": "markdown",
      "source": [
        "#1. Create an assert statement that throws an AssertionError if the variable spam is a negative\n",
        "integer."
      ],
      "metadata": {
        "id": "FDVNg9gZsI0y"
      }
    },
    {
      "cell_type": "code",
      "source": [
        "spam =-1\n",
        "assert spam>=0"
      ],
      "metadata": {
        "colab": {
          "base_uri": "https://localhost:8080/",
          "height": 183
        },
        "id": "aoiDcE8XsHNW",
        "outputId": "35a9fd8f-25a8-4a52-d0f4-520b2029e978"
      },
      "execution_count": 2,
      "outputs": [
        {
          "output_type": "error",
          "ename": "AssertionError",
          "evalue": "ignored",
          "traceback": [
            "\u001b[0;31m---------------------------------------------------------------------------\u001b[0m",
            "\u001b[0;31mAssertionError\u001b[0m                            Traceback (most recent call last)",
            "\u001b[0;32m<ipython-input-2-19ab75ef0cd0>\u001b[0m in \u001b[0;36m<cell line: 2>\u001b[0;34m()\u001b[0m\n\u001b[1;32m      1\u001b[0m \u001b[0mspam\u001b[0m \u001b[0;34m=\u001b[0m\u001b[0;34m-\u001b[0m\u001b[0;36m1\u001b[0m\u001b[0;34m\u001b[0m\u001b[0;34m\u001b[0m\u001b[0m\n\u001b[0;32m----> 2\u001b[0;31m \u001b[0;32massert\u001b[0m \u001b[0mspam\u001b[0m\u001b[0;34m>=\u001b[0m\u001b[0;36m0\u001b[0m\u001b[0;34m\u001b[0m\u001b[0;34m\u001b[0m\u001b[0m\n\u001b[0m",
            "\u001b[0;31mAssertionError\u001b[0m: "
          ]
        }
      ]
    },
    {
      "cell_type": "markdown",
      "source": [
        "#2. Write an assert statement that triggers an AssertionError if the variables eggs and bacon contain strings that are the same as each other, even if their cases are different (that is, 'hello' and 'hello' are considered the same, and 'goodbye' and 'GOODbye' are also considered the same)."
      ],
      "metadata": {
        "id": "klS9887Jsl0_"
      }
    },
    {
      "cell_type": "code",
      "source": [
        "def raise_assert(egg,bacon):\n",
        "    egg = egg.upper()\n",
        "    bacon = bacon.upper()\n",
        "    assert not(egg == bacon)"
      ],
      "metadata": {
        "id": "NvzqnwDFsbpi"
      },
      "execution_count": 4,
      "outputs": []
    },
    {
      "cell_type": "code",
      "source": [
        "raise_assert('hello','Hello')"
      ],
      "metadata": {
        "id": "TD11fFSxsxOj"
      },
      "execution_count": null,
      "outputs": []
    },
    {
      "cell_type": "markdown",
      "source": [
        "#3. Create an assert statement that throws an AssertionError every time."
      ],
      "metadata": {
        "id": "zp2ZISYAs5NL"
      }
    },
    {
      "cell_type": "code",
      "source": [
        "def assert_error(a):\n",
        "  assert False"
      ],
      "metadata": {
        "id": "zyHhVbwBs15Z"
      },
      "execution_count": 6,
      "outputs": []
    },
    {
      "cell_type": "code",
      "source": [
        "assert_error(3)"
      ],
      "metadata": {
        "id": "VaztbG3utZxF"
      },
      "execution_count": null,
      "outputs": []
    },
    {
      "cell_type": "markdown",
      "source": [
        "#4. What are the two lines that must be present in your software in order to call logging.debug()?"
      ],
      "metadata": {
        "id": "nF_xAfmltf_-"
      }
    },
    {
      "cell_type": "code",
      "source": [
        "import logging\n",
        "logging.basicConfig(filename = 'application_log.txt',level=logging.DEBUG, format=' %(asctime)s - %(levelname)s - %(message)s')"
      ],
      "metadata": {
        "id": "QLeVuf6sta4h"
      },
      "execution_count": 9,
      "outputs": []
    },
    {
      "cell_type": "markdown",
      "source": [
        "#5. What are the two lines that your program must have in order to have logging.debug() send a logging message to a file named programLog.txt?"
      ],
      "metadata": {
        "id": "iEaJzwQztrvE"
      }
    },
    {
      "cell_type": "code",
      "source": [
        "import logging\n",
        "logging.basicConfig(filename = 'application_log.txt',level=logging.DEBUG, format=' %(asctime)s - %(levelname)s - %(message)s')"
      ],
      "metadata": {
        "id": "tWbXvDRztomC"
      },
      "execution_count": 10,
      "outputs": []
    },
    {
      "cell_type": "markdown",
      "source": [
        "#6. What are the five levels of logging?"
      ],
      "metadata": {
        "id": "6Pt1p7kZt2ol"
      }
    },
    {
      "cell_type": "markdown",
      "source": [
        "The Five levels of Logging provided by python's logging module are CRITICAL, ERROR, WARNING, INFO, DEBUG"
      ],
      "metadata": {
        "id": "R3xwSkuZt8RC"
      }
    },
    {
      "cell_type": "markdown",
      "source": [
        "#7. What line of code would you add to your software to disable all logging messages?"
      ],
      "metadata": {
        "id": "zC7KPVuIuFoM"
      }
    },
    {
      "cell_type": "code",
      "source": [
        "logging.disable = True"
      ],
      "metadata": {
        "id": "CRJgkQmLt0h6"
      },
      "execution_count": 11,
      "outputs": []
    },
    {
      "cell_type": "markdown",
      "source": [
        "#8.Why is using logging messages better than using print() to display the same message?"
      ],
      "metadata": {
        "id": "woj6Yz1JuPlL"
      }
    },
    {
      "cell_type": "markdown",
      "source": [
        "Post devlopment of your code, you can disable logging messages without removing the logging function, whereas you need to manually remove print() statements, which is tedious activity. and also print is used when you want to display any particular message or help whereas logging is used to record all events like error, info, debug messages, timestamps"
      ],
      "metadata": {
        "id": "q-1HJ00FuUi8"
      }
    },
    {
      "cell_type": "markdown",
      "source": [
        "#9.What are the differences between the Step Over, Step In, and Step Out buttons in the debugger?"
      ],
      "metadata": {
        "id": "iuVQF96OuYET"
      }
    },
    {
      "cell_type": "markdown",
      "source": [
        "The Differences between Step Over, Step In, Step Out buttons in debugger are:\n",
        "\n",
        "Step in - Step In button will cause the debugger to execute the next line of code and then pause again.\n",
        "Step Over - Step Over button will execute the next line of code, similar to the Step In button. However, if the next line of code is a function call, the Step Over button will “step over” the code in the function. The function’s code will be executed at full speed, and the debugger will pause as soon as the function call returns.\n",
        "Step out - Step Out button will cause the debugger to execute lines of code at full speed until it returns from the current function."
      ],
      "metadata": {
        "id": "izG42NOeufUn"
      }
    },
    {
      "cell_type": "markdown",
      "source": [
        "#10.After you click Continue, when will the debugger stop ?"
      ],
      "metadata": {
        "id": "myGWNU_5uiCD"
      }
    },
    {
      "cell_type": "markdown",
      "source": [
        "This will cause the program to continue running normally, without pausing for debugging untill it terminates or reaches a breakpoint."
      ],
      "metadata": {
        "id": "WMTdMKLfumc3"
      }
    },
    {
      "cell_type": "markdown",
      "source": [
        "#11. What is the concept of a breakpoint?"
      ],
      "metadata": {
        "id": "8u9xtKuSuoWa"
      }
    },
    {
      "cell_type": "markdown",
      "source": [
        "Breakpoint is a setting on a line of code that causes the debugger to pause when the program execution reaches the line"
      ],
      "metadata": {
        "id": "OT_XK-dBurEj"
      }
    },
    {
      "cell_type": "code",
      "source": [],
      "metadata": {
        "id": "XMzI4AZ6uL7z"
      },
      "execution_count": null,
      "outputs": []
    }
  ]
}