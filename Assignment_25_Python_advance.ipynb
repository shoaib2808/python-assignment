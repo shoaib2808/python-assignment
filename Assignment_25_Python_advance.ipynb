{
  "nbformat": 4,
  "nbformat_minor": 0,
  "metadata": {
    "colab": {
      "provenance": []
    },
    "kernelspec": {
      "name": "python3",
      "display_name": "Python 3"
    },
    "language_info": {
      "name": "python"
    }
  },
  "cells": [
    {
      "cell_type": "markdown",
      "source": [
        "#ASSIGNMENT"
      ],
      "metadata": {
        "id": "esFibp_Iebxi"
      }
    },
    {
      "cell_type": "markdown",
      "source": [
        "#Q1. What is the distinction between a numpy array and a pandas data frame? Is there a way to convert between the two if there is ?"
      ],
      "metadata": {
        "id": "YmJ5ydcPe0es"
      }
    },
    {
      "cell_type": "markdown",
      "source": [
        "Numpy Ndarray provides a lot of convenient and optimized methods for performing several mathematical operations on vectors.\n",
        "\n",
        "Pandas Dataframe is an in-memory 2-dimensional tabular representation of data. In simpler words, it can be seen as a spreadsheet having rows and columns.\n",
        "\n",
        "Conversion : Dataframe=pandas.DataFrame(array)"
      ],
      "metadata": {
        "id": "XVJO-Rl5e3kI"
      }
    },
    {
      "cell_type": "markdown",
      "source": [
        "#Q2. Identify some of the plotting techniques that are used to produce a stock-market chart ?"
      ],
      "metadata": {
        "id": "1V4RuRGle9Gy"
      }
    },
    {
      "cell_type": "markdown",
      "source": [
        " Bar chart, Line Chart are used for plotting."
      ],
      "metadata": {
        "id": "mCDTbvv5e_39"
      }
    },
    {
      "cell_type": "markdown",
      "source": [
        "#Q3. Why is it essential to print a legend on a stock market chart ?"
      ],
      "metadata": {
        "id": "UXXo1b3qfCsP"
      }
    },
    {
      "cell_type": "markdown",
      "source": [
        " Legend will help comparison between different stocks, so will be essential on a stock market chart"
      ],
      "metadata": {
        "id": "MkpWLaUGfMrI"
      }
    },
    {
      "cell_type": "markdown",
      "source": [
        "#Q4. What is the best way to limit the length of a pandas data frame to less than a year ?"
      ],
      "metadata": {
        "id": "FWQbKJXhfO_x"
      }
    },
    {
      "cell_type": "markdown",
      "source": [
        " We can use start and end parameters for that. In start we write the date from where we are starting and at the end we write the end date. SO within this span we can restric the duration.Also we can use the parameters like periods for how much times we need the duration and we can also use the frequency parameter."
      ],
      "metadata": {
        "id": "lTDBzw6NfR8C"
      }
    },
    {
      "cell_type": "markdown",
      "source": [
        "#Q5. What is the definition of a 180-day moving average ?\n"
      ],
      "metadata": {
        "id": "cr-byEphfU25"
      }
    },
    {
      "cell_type": "markdown",
      "source": [
        "The 180-day moving average is represented as a line on charts and represents the average price over the past 180 days. The moving average can give traders a sense regarding whether the trend is up or down, while also identifying potential support or resistance areas."
      ],
      "metadata": {
        "id": "iiZGSc3MfZTF"
      }
    },
    {
      "cell_type": "code",
      "source": [],
      "metadata": {
        "id": "OqygbXJnec1r"
      },
      "execution_count": null,
      "outputs": []
    }
  ]
}