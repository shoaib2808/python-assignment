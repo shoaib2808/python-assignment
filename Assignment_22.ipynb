{
  "nbformat": 4,
  "nbformat_minor": 0,
  "metadata": {
    "colab": {
      "provenance": []
    },
    "kernelspec": {
      "name": "python3",
      "display_name": "Python 3"
    },
    "language_info": {
      "name": "python"
    }
  },
  "cells": [
    {
      "cell_type": "markdown",
      "source": [
        "#ASSIGNMENT"
      ],
      "metadata": {
        "id": "mFuhGX0179-C"
      }
    },
    {
      "cell_type": "markdown",
      "source": [
        "#1. What is the result of the code, and explain?\n",
        " X = 'iNeuron'\n",
        "\n",
        "def func():\n",
        "\n",
        "    print(X)\n",
        "\n",
        "func()"
      ],
      "metadata": {
        "id": "XmzEN_RH8ACM"
      }
    },
    {
      "cell_type": "markdown",
      "source": [
        "The Result of this code is iNeuron, it's because the function intially looks for the variable X in its local scope,But since there is no local variable X, its returns the value of global variable x ie iNeuron"
      ],
      "metadata": {
        "id": "qt4cLwIS8NX1"
      }
    },
    {
      "cell_type": "markdown",
      "source": [
        "#2. What is the result of the code, and explain?\n",
        " X = 'iNeuron'\n",
        "\n",
        " def func():\n",
        "\n",
        "X = 'NI!'\n",
        "\n",
        " func()\n",
        " \n",
        " print(X)"
      ],
      "metadata": {
        "id": "MJtRvmqJ8NJ2"
      }
    },
    {
      "cell_type": "markdown",
      "source": [
        "The Result of this cide is NI!, because the function initially looks for the variable X in its local scope if X is not available then it checks for variable X in the global scope, Since here the X is present in the local scope. it prints the value NI!"
      ],
      "metadata": {
        "id": "zy96-7ff8X3c"
      }
    },
    {
      "cell_type": "markdown",
      "source": [
        "3. What does this code print, and why?\n",
        " X = 'iNeuron'\n",
        "\n",
        " def func():\n",
        "\n",
        "X = 'NI'\n",
        "\n",
        "print(X)\n",
        "\n",
        " func()\n",
        " \n",
        " print(X)"
      ],
      "metadata": {
        "id": "3WWS-pq28bxs"
      }
    },
    {
      "cell_type": "markdown",
      "source": [
        "The output of the code is NI and iNeuron. X=NI is in the local scope of the function func() hence the function prints the x value as NI. X = 'iNeuron' is in the global scope. hence print(X) prints output as iNeuron"
      ],
      "metadata": {
        "id": "auL8IP1b89aw"
      }
    },
    {
      "cell_type": "markdown",
      "source": [
        "#4. What output does this code produce? Why?\n",
        " X = 'iNeuron'\n",
        "\n",
        " def func():\n",
        "\n",
        "global X\n",
        "\n",
        "X = 'NI'\n",
        "\n",
        " func()\n",
        " \n",
        " print(X)"
      ],
      "metadata": {
        "id": "VR9QzRze9Bkx"
      }
    },
    {
      "cell_type": "markdown",
      "source": [
        "The output of the code is NI. the global keyword allows a variable to be accessible in the current scope. since we are using global keyword inside the function func it directly access the variable in X in global scope. and changes its value to NI. hence the output of the code is NI"
      ],
      "metadata": {
        "id": "GwFGYqMj9Jaw"
      }
    },
    {
      "cell_type": "markdown",
      "source": [
        "#5. What about this code—what’s the output, and why?\n",
        ">>> X = 'iNeuron'\n",
        ">>> def func():\n",
        "X = 'NI'\n",
        "def nested():\n",
        "print(X)\n",
        "nested()\n",
        ">>> func()\n",
        ">>> X"
      ],
      "metadata": {
        "id": "zJo0COIp9QBS"
      }
    },
    {
      "cell_type": "markdown",
      "source": [
        "The output of the code is NI. the reason for this output is if a function wants to access a variable, if its not available in its localscope. it looks for the variable in its global scope. similarly here also function nested looks for variable X in its global scope. hence the output of the code is NI"
      ],
      "metadata": {
        "id": "z27ONgxW9cci"
      }
    },
    {
      "cell_type": "code",
      "source": [],
      "metadata": {
        "id": "SB8V4ukA7-72"
      },
      "execution_count": null,
      "outputs": []
    }
  ]
}