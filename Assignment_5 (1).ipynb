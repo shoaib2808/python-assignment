{
  "nbformat": 4,
  "nbformat_minor": 0,
  "metadata": {
    "colab": {
      "provenance": []
    },
    "kernelspec": {
      "name": "python3",
      "display_name": "Python 3"
    },
    "language_info": {
      "name": "python"
    }
  },
  "cells": [
    {
      "cell_type": "markdown",
      "source": [
        "#ASSIGNMENT"
      ],
      "metadata": {
        "id": "CeXBMBPSNBmj"
      }
    },
    {
      "cell_type": "markdown",
      "source": [
        "##1. What does an empty dictionary&#39;s code look like?"
      ],
      "metadata": {
        "id": "vR1dCm5LNG_O"
      }
    },
    {
      "cell_type": "markdown",
      "source": [
        "An empty dictionary is  represented by two empty curly brackets\n",
        "d = {} or d = dict()"
      ],
      "metadata": {
        "id": "OjG7_xGHNJlY"
      }
    },
    {
      "cell_type": "markdown",
      "source": [
        "#2. What is the value of a dictionary value with the key &#39;foo&#39; and the value 42?"
      ],
      "metadata": {
        "id": "VdoADXzENRZn"
      }
    },
    {
      "cell_type": "code",
      "source": [
        "d={'foo':42}"
      ],
      "metadata": {
        "id": "g_GkDDrHNFOQ"
      },
      "execution_count": 1,
      "outputs": []
    },
    {
      "cell_type": "markdown",
      "source": [
        "#3. What is the most significant distinction between a dictionary and a list?"
      ],
      "metadata": {
        "id": "mN9w49pdNXQs"
      }
    },
    {
      "cell_type": "markdown",
      "source": [
        "Dictionaries are represented by {} where as listed are represented by []\n",
        "The Items stored in a dictionary are Unordered , while the items in a list are ordered. ditinary has a key value pair element whereas list is having a single element (no key value) "
      ],
      "metadata": {
        "id": "oqKT527lNY0G"
      }
    },
    {
      "cell_type": "markdown",
      "source": [
        "#4. What happens if you try to access spam[&#39;foo&#39;] if spam is {&#39;bar&#39;: 100}?"
      ],
      "metadata": {
        "id": "yPn1rqWONqSW"
      }
    },
    {
      "cell_type": "code",
      "source": [
        "spam ={'bar': 100}\n",
        "spam['foo']"
      ],
      "metadata": {
        "id": "V5Drg1ySNDfA"
      },
      "execution_count": null,
      "outputs": []
    },
    {
      "cell_type": "markdown",
      "source": [
        "It will rsult in keyerror"
      ],
      "metadata": {
        "id": "7Q5EM0ELNwZD"
      }
    },
    {
      "cell_type": "markdown",
      "source": [
        "#5. If a dictionary is stored in spam, what is the difference between the expressions &#39;cat&#39; in spam and\n",
        "&#39;cat&#39; in spam.keys()?"
      ],
      "metadata": {
        "id": "W-ZTqtzYN0G_"
      }
    },
    {
      "cell_type": "markdown",
      "source": [
        "There is no difference . The operator checks whether a value exits as a key in the dictionary or not"
      ],
      "metadata": {
        "id": "ifzyi555N8ou"
      }
    },
    {
      "cell_type": "markdown",
      "source": [
        "#7. What is a shortcut for the following code?\n",
        "if &#39;color&#39; not in spam:\n",
        "spam[&#39;color&#39;] = &#39;black&#39;"
      ],
      "metadata": {
        "id": "XlJmqqAmN_13"
      }
    },
    {
      "cell_type": "code",
      "source": [
        "spam.setdefault('color','black')"
      ],
      "metadata": {
        "id": "3Dp749LZNu1L"
      },
      "execution_count": null,
      "outputs": []
    },
    {
      "cell_type": "markdown",
      "source": [
        "#8. How do you &quot;pretty print&quot; dictionary values using which module and function?"
      ],
      "metadata": {
        "id": "urZcqK9jOdvb"
      }
    },
    {
      "cell_type": "markdown",
      "source": [
        "we can pretty print a dictionary using three functions\n",
        "\n",
        "by using pprint() function of pprint module\n",
        "Note: pprint() function doesnot prettify nested dictionaries\n",
        "by using dumps() method of json module\n",
        "by using dumps() method of yaml module"
      ],
      "metadata": {
        "id": "p-AsczO0OdlL"
      }
    },
    {
      "cell_type": "code",
      "source": [
        "d = [\n",
        "  {'Name': 'John', 'Age': '23', 'Residence': {'Country':'USA', 'City': 'New York'}},\n",
        "  {'Name': 'Jose', 'Age': '44', 'Residence': {'Country':'Spain', 'City': 'Madrid'}},\n",
        "  {'Name': 'Anne', 'Age': '29', 'Residence': {'Country':'UK', 'City': 'England'}},\n",
        "  {'Name': 'Lee', 'Age': '35', 'Residence': {'Country':'Japan', 'City': 'Osaka'}}\n",
        "]\n",
        "import pprint\n",
        "\n",
        "pprint.pprint(d)"
      ],
      "metadata": {
        "id": "ul-AW-Y5OexK"
      },
      "execution_count": null,
      "outputs": []
    },
    {
      "cell_type": "code",
      "source": [],
      "metadata": {
        "id": "nGyo5DRNOjz-"
      },
      "execution_count": null,
      "outputs": []
    }
  ]
}