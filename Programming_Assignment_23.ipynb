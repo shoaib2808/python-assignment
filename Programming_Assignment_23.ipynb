{
  "nbformat": 4,
  "nbformat_minor": 0,
  "metadata": {
    "colab": {
      "provenance": []
    },
    "kernelspec": {
      "name": "python3",
      "display_name": "Python 3"
    },
    "language_info": {
      "name": "python"
    }
  },
  "cells": [
    {
      "cell_type": "markdown",
      "source": [
        "ASSIGNMENT"
      ],
      "metadata": {
        "id": "upJQFx62Jplz"
      }
    },
    {
      "cell_type": "markdown",
      "source": [
        "Create a function that takes a number as an argument and returns True or False depending\n",
        "on whether the number is symmetrical or not. A number is symmetrical when it is the same as\n",
        "its reverse."
      ],
      "metadata": {
        "id": "gLYPXu5eJtxU"
      }
    },
    {
      "cell_type": "code",
      "source": [
        "def is_reverse(num):\n",
        "  temp=num\n",
        "  reversed_num=0\n",
        "  while(temp>0):\n",
        "    i = temp%10\n",
        "    reversed_num = (reversed_num*10) +i\n",
        "    temp= temp//10\n",
        "  if(reversed_num==num):\n",
        "    return True\n",
        "  return False\n",
        "\n",
        "\n",
        "is_reverse(123321)"
      ],
      "metadata": {
        "id": "_6jKh2wBJtMJ"
      },
      "execution_count": null,
      "outputs": []
    },
    {
      "cell_type": "markdown",
      "source": [
        "Given a string of numbers separated by a comma and space, return the product of the\n",
        "numbers."
      ],
      "metadata": {
        "id": "aEkb2iCLMIT_"
      }
    },
    {
      "cell_type": "code",
      "source": [
        "def multiply(string):\n",
        "  product = 1\n",
        "  lst = string.split(\", \")\n",
        "  for i in lst:\n",
        "    product=product*int(i)\n",
        "  return product\n",
        "\n",
        "multiply(\"1, 2, 3, 7\")"
      ],
      "metadata": {
        "id": "tkxztDs8KBkc"
      },
      "execution_count": null,
      "outputs": []
    },
    {
      "cell_type": "markdown",
      "source": [
        "Create a function that squares every digit of a number."
      ],
      "metadata": {
        "id": "ITYc8u1bN4TR"
      }
    },
    {
      "cell_type": "code",
      "source": [
        "def square(num):\n",
        "  temp= str(num)\n",
        "  string= \"\"\n",
        "  for i in temp:\n",
        "    string=string +str((int(i)**2))\n",
        "\n",
        "  return int(string)\n",
        "\n",
        "square(1234)"
      ],
      "metadata": {
        "id": "t7GvpY8fKDre"
      },
      "execution_count": null,
      "outputs": []
    },
    {
      "cell_type": "markdown",
      "source": [
        "Create a function that sorts a list and removes all duplicate items from it."
      ],
      "metadata": {
        "id": "8NN6tbiJPFmv"
      }
    },
    {
      "cell_type": "code",
      "source": [
        "def sort_remove(lst):\n",
        "  lst.sort()\n",
        "  s=set(lst)\n",
        "\n",
        "  return list(s)\n",
        "\n",
        "sort_remove([1,2,3,3,4,3])"
      ],
      "metadata": {
        "id": "aR4v3I1FMWP6"
      },
      "execution_count": null,
      "outputs": []
    },
    {
      "cell_type": "markdown",
      "source": [
        "Create a function that returns the mean of all digits.\n"
      ],
      "metadata": {
        "id": "zsI1NErHPb3x"
      }
    },
    {
      "cell_type": "code",
      "source": [
        "def mean(num):\n",
        "  temp=num\n",
        "  count=0\n",
        "  sum=0\n",
        "  while(temp>0):\n",
        "    i = temp%10\n",
        "    sum=sum+i\n",
        "    count = count+1\n",
        "    temp = temp//10\n",
        "  \n",
        "  return (sum/count)\n",
        "\n",
        "mean(22)"
      ],
      "metadata": {
        "colab": {
          "base_uri": "https://localhost:8080/"
        },
        "id": "i6rB5ET9MYsw",
        "outputId": "59ec6204-f4d4-46db-d4f2-6b1e3b695281"
      },
      "execution_count": 26,
      "outputs": [
        {
          "output_type": "execute_result",
          "data": {
            "text/plain": [
              "2.0"
            ]
          },
          "metadata": {},
          "execution_count": 26
        }
      ]
    },
    {
      "cell_type": "code",
      "source": [],
      "metadata": {
        "id": "EDhq-wXDQE8c"
      },
      "execution_count": null,
      "outputs": []
    }
  ]
}