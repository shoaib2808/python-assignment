{
  "nbformat": 4,
  "nbformat_minor": 0,
  "metadata": {
    "colab": {
      "provenance": []
    },
    "kernelspec": {
      "name": "python3",
      "display_name": "Python 3"
    },
    "language_info": {
      "name": "python"
    }
  },
  "cells": [
    {
      "cell_type": "markdown",
      "source": [
        "\n",
        "ASSIGNMENT\n",
        "---\n",
        "\n"
      ],
      "metadata": {
        "id": "BmnhfDhmF4qM"
      }
    },
    {
      "cell_type": "markdown",
      "source": [
        "1. Write a Python program to find sum of elements in list?"
      ],
      "metadata": {
        "id": "7_7aDbZwF-qH"
      }
    },
    {
      "cell_type": "code",
      "execution_count": null,
      "metadata": {
        "id": "lJb5WEB7F3XX"
      },
      "outputs": [],
      "source": [
        "l=[12,3,4,5,6,7,8]\n",
        "\n",
        "sum=0\n",
        "for i in l:\n",
        "  sum=sum+i\n",
        "\n",
        "print(f'sum of list {l} is {sum}')"
      ]
    },
    {
      "cell_type": "markdown",
      "source": [
        "2. Write a Python program to Multiply all numbers in the list?"
      ],
      "metadata": {
        "id": "YuOYcDe4GZ1j"
      }
    },
    {
      "cell_type": "code",
      "source": [
        "l=[12,3,4,5,6,7,8]\n",
        "\n",
        "mul=1\n",
        "for i in l:\n",
        "  mul=mul*i\n",
        "\n",
        "print(f'product of list {l} is {mul}')"
      ],
      "metadata": {
        "id": "Qx-_YM2sGU-I"
      },
      "execution_count": null,
      "outputs": []
    },
    {
      "cell_type": "markdown",
      "source": [
        "3. Write a Python program to find smallest number in a list?"
      ],
      "metadata": {
        "id": "7z4xJkpZGnJy"
      }
    },
    {
      "cell_type": "code",
      "source": [
        "l=[12,3,4,5,6,7,8]\n",
        "\n",
        "smallest=l[0]\n",
        "\n",
        "for i in l:\n",
        "  if(i<smallest):\n",
        "    smallest=i\n",
        "\n",
        "print(f\"The smallest number from the list {l} is {smallest}\")"
      ],
      "metadata": {
        "id": "wc7ich2yGjla"
      },
      "execution_count": null,
      "outputs": []
    },
    {
      "cell_type": "markdown",
      "source": [
        "4. Write a Python program to find largest number in a list?"
      ],
      "metadata": {
        "id": "btIq0niUHH7F"
      }
    },
    {
      "cell_type": "code",
      "source": [
        "l=[12,3,4,5,6,7,8]\n",
        "\n",
        "largest=l[0]\n",
        "\n",
        "for i in l:\n",
        "  if(i>largest):\n",
        "    largest=i\n",
        "\n",
        "print(f\"The largest number from the list {l} is {largest}\")"
      ],
      "metadata": {
        "id": "WLOz48EuHEt9"
      },
      "execution_count": null,
      "outputs": []
    },
    {
      "cell_type": "markdown",
      "source": [
        "5. Write a Python program to find second largest number in a list?"
      ],
      "metadata": {
        "id": "15JT8v3zHXpF"
      }
    },
    {
      "cell_type": "code",
      "source": [
        "l=[12,3,4,5,6,7,8]\n",
        "temp=l\n",
        "for i in range(2):\n",
        "  largest=l[0]\n",
        "  for j in temp:\n",
        "    if(j>largest):\n",
        "      largest=j\n",
        "  ind=temp.index(largest)\n",
        "  x=l.pop(ind)\n",
        "\n",
        "\n",
        "print(x)"
      ],
      "metadata": {
        "id": "Xd8i0PMJHTDL"
      },
      "execution_count": null,
      "outputs": []
    },
    {
      "cell_type": "markdown",
      "source": [
        "6. Write a Python program to find N largest elements from a list?"
      ],
      "metadata": {
        "id": "-jBKdz3mJ9CW"
      }
    },
    {
      "cell_type": "code",
      "source": [
        "l=[12,3,4,5,6,7,8]\n",
        "inp=int(input(\"Enter the number\"))\n",
        "sorted_l=sorted(l)\n",
        "print(sorted_l)\n",
        "try:\n",
        "  if(inp>len(l)):\n",
        "    raise Exception\n",
        "\n",
        "  n_largest=sorted_l[len(l)-inp]\n",
        "  print(n_largest)\n",
        "  \n",
        "\n",
        "except:\n",
        "  print(\"Plase enter a valid input\")\n",
        "  \n",
        "\n"
      ],
      "metadata": {
        "id": "LMPUfuLgJCEt"
      },
      "execution_count": null,
      "outputs": []
    },
    {
      "cell_type": "markdown",
      "source": [
        "7. Write a Python program to print even numbers in a list?"
      ],
      "metadata": {
        "id": "MCONQ0EgMy87"
      }
    },
    {
      "cell_type": "code",
      "source": [
        "l=[12,3,4,5,6,7,8]\n",
        "even_num=list()\n",
        "\n",
        "for i in l:\n",
        "  if(i%2==0):\n",
        "    even_num.append(i)\n",
        "\n",
        "print(f\"even numbers from list {l} is {even_num}\")"
      ],
      "metadata": {
        "id": "X5D6TUOlJOJr"
      },
      "execution_count": null,
      "outputs": []
    },
    {
      "cell_type": "markdown",
      "source": [
        "8. Write a Python program to print odd numbers in a List?"
      ],
      "metadata": {
        "id": "w-lT-gUONb0j"
      }
    },
    {
      "cell_type": "code",
      "source": [
        "l=[12,3,4,5,6,7,8]\n",
        "odd_num=list()\n",
        "\n",
        "for i in l:\n",
        "  if(i%2):\n",
        "    odd_num.append(i)\n",
        "\n",
        "print(f\"odd numbers from list {l} is {odd_num}\")"
      ],
      "metadata": {
        "id": "x7pQjGRkJo34"
      },
      "execution_count": null,
      "outputs": []
    },
    {
      "cell_type": "markdown",
      "source": [
        "9. Write a Python program to Remove empty List from List?"
      ],
      "metadata": {
        "id": "4pHtfI9oNmDp"
      }
    },
    {
      "cell_type": "code",
      "source": [
        "l=[[1,2,3],[],['sh'],[],2,3]\n",
        "l1=[]\n",
        "for li in l:\n",
        "  if(type(li)!=list):\n",
        "    continue\n",
        "  if(len(li)==0):\n",
        "    continue\n",
        "  l1.append(li)\n",
        "\n",
        "l1"
      ],
      "metadata": {
        "id": "LVLuZQL0Jvh2"
      },
      "execution_count": null,
      "outputs": []
    },
    {
      "cell_type": "markdown",
      "source": [
        "10. Write a Python program to Cloning or Copying a list?"
      ],
      "metadata": {
        "id": "iWuLajRAPkH6"
      }
    },
    {
      "cell_type": "code",
      "source": [
        "l=[12,3,4,5,6,7,8]\n",
        "copy_l=list()\n",
        "\n",
        "for i in l:\n",
        "  copy_l.append(i)\n",
        "\n",
        "print(f\"list is {l}\")\n",
        "print(f\"cloned list is{copy_l}\")"
      ],
      "metadata": {
        "id": "qdOBJcxfPko5"
      },
      "execution_count": null,
      "outputs": []
    },
    {
      "cell_type": "markdown",
      "source": [
        "11. Write a Python program to Count occurrences of an element in a list?"
      ],
      "metadata": {
        "id": "K35SxJUAQf9g"
      }
    },
    {
      "cell_type": "code",
      "source": [
        "l=[12,3,4,5,6,7,8]\n",
        "ele=int(input(\"Enter a number\"))\n",
        "\n",
        "count=0\n",
        "for i in l:\n",
        "  if(i==ele):\n",
        "    count=count+1\n",
        "\n",
        "print(f'Number {ele} appears {count} times in list {l}')"
      ],
      "metadata": {
        "id": "pyBKL1yHQcfW"
      },
      "execution_count": null,
      "outputs": []
    },
    {
      "cell_type": "code",
      "source": [],
      "metadata": {
        "id": "dageW_EWaV8b"
      },
      "execution_count": null,
      "outputs": []
    }
  ]
}