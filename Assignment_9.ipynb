{
  "nbformat": 4,
  "nbformat_minor": 0,
  "metadata": {
    "colab": {
      "provenance": []
    },
    "kernelspec": {
      "name": "python3",
      "display_name": "Python 3"
    },
    "language_info": {
      "name": "python"
    }
  },
  "cells": [
    {
      "cell_type": "markdown",
      "source": [
        "#ASSIGNMENT"
      ],
      "metadata": {
        "id": "OWk4bgm-hGLB"
      }
    },
    {
      "cell_type": "markdown",
      "source": [
        "#1. To what does a relative path refer?"
      ],
      "metadata": {
        "id": "s_xbXjSWhJM7"
      }
    },
    {
      "cell_type": "markdown",
      "source": [
        "The relative path is the path to some file with respect to your current working directory (PWD).\n",
        "\n",
        "If my PWD is C:/users/admin/ , then the relative path to stuff.txt would be: docs/stuff.txt"
      ],
      "metadata": {
        "id": "WjJF_Wc1hMCK"
      }
    },
    {
      "cell_type": "markdown",
      "source": [
        "#2.Where does an absolute path start with your Operating System ?"
      ],
      "metadata": {
        "id": "joOYEgGxhVhu"
      }
    },
    {
      "cell_type": "markdown",
      "source": [
        "Windows based systems absolute path starts with C:"
      ],
      "metadata": {
        "id": "HTSARLEIhat3"
      }
    },
    {
      "cell_type": "markdown",
      "source": [
        "#3.What does the functions os.getcwd() and os.chdir() do ?"
      ],
      "metadata": {
        "id": "dzEeNBEGhc3F"
      }
    },
    {
      "cell_type": "markdown",
      "source": [
        "os.getcwd() method tells us the location of current working directory (CWD). Whereas os.chdir() method in Python used to change the current working directory to specified path. "
      ],
      "metadata": {
        "id": "Xt0o1Fcchjfn"
      }
    },
    {
      "cell_type": "markdown",
      "source": [
        "#4.What are . and .. folders ?"
      ],
      "metadata": {
        "id": "j9y_drYHhsCx"
      }
    },
    {
      "cell_type": "markdown",
      "source": [
        " . Represents the Current Directory Whereas .. Represents the Parent Directory of the Current Directory"
      ],
      "metadata": {
        "id": "_sghTHc1hvzg"
      }
    },
    {
      "cell_type": "markdown",
      "source": [
        "#5 In C:\\bacon\\eggs\\spam.txt which part is the dir name and which part is the base name ?"
      ],
      "metadata": {
        "id": "26o_IHyih1Wt"
      }
    },
    {
      "cell_type": "markdown",
      "source": [
        "For C:\\bacon\\eggs\\spam.txt\n",
        "\n",
        "The dir name is C:\\\\bacon\\\\eggs\n",
        "\n",
        "The Base name is spam.txt"
      ],
      "metadata": {
        "id": "HCiAVXDNh5ZS"
      }
    },
    {
      "cell_type": "markdown",
      "source": [
        "#6 What are the three mode arguments that can be passed to the open() function ?"
      ],
      "metadata": {
        "id": "M24TcOlIiGoV"
      }
    },
    {
      "cell_type": "markdown",
      "source": [
        "A file can be Accessed in python using open() function. open function takes two arguments filename and mode of operation (optional)\n",
        "\n",
        "‘r’ – Read Mode: This is the default mode for open(). The file is opened and a pointer is positioned at the beginning of the file’s content.\n",
        "\n",
        "‘w’ – Write Mode: Using this mode will overwrite any existing content in a file. If the given file does not exist, a new one will be created.\n",
        "\n",
        "‘a’ – Append Mode: With this mode the user can append the data without overwriting any already existing data in the file."
      ],
      "metadata": {
        "id": "jOia8PI8iOnx"
      }
    },
    {
      "cell_type": "markdown",
      "source": [
        "#7.What happens if an existing file is opened in write mode ?"
      ],
      "metadata": {
        "id": "T-1ZwQAwiTM2"
      }
    },
    {
      "cell_type": "markdown",
      "source": [
        " Using this mode will overwrite any existing content in a file. If the given file does not exist, a new one will be created."
      ],
      "metadata": {
        "id": "ojy2_eqkifGI"
      }
    },
    {
      "cell_type": "markdown",
      "source": [
        "#8.How do you tell the difference between read() and readlines() ?"
      ],
      "metadata": {
        "id": "wF2GND2viiO1"
      }
    },
    {
      "cell_type": "markdown",
      "source": [
        "The read() would treat each character in the file separately, meaning that the iteration would happen for every character.\n",
        "\n",
        "The readline() function, on the other hand, only reads a single line of the file. This means that if the first line of the file were three lines long, the readline() function would only parse (or iterate/operate) on the first line of the file."
      ],
      "metadata": {
        "id": "w2O3CVhJiiEW"
      }
    },
    {
      "cell_type": "markdown",
      "source": [
        "#9.What data structure does a shelf value resemble "
      ],
      "metadata": {
        "id": "BDaeXYDsis7w"
      }
    },
    {
      "cell_type": "markdown",
      "source": [
        "it contains key and values it represents dictionary."
      ],
      "metadata": {
        "id": "Daw9PDMAiwJ4"
      }
    },
    {
      "cell_type": "code",
      "source": [],
      "metadata": {
        "id": "bk7UR4BchIQt"
      },
      "execution_count": null,
      "outputs": []
    }
  ]
}