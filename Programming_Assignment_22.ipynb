{
  "nbformat": 4,
  "nbformat_minor": 0,
  "metadata": {
    "colab": {
      "provenance": []
    },
    "kernelspec": {
      "name": "python3",
      "display_name": "Python 3"
    },
    "language_info": {
      "name": "python"
    }
  },
  "cells": [
    {
      "cell_type": "markdown",
      "source": [
        "ASSIGNMENT"
      ],
      "metadata": {
        "id": "ZEgR0WS7_MWj"
      }
    },
    {
      "cell_type": "markdown",
      "source": [
        "Create a function that takes three parameters where:\n",
        " x is the start of the range (inclusive).\n",
        " y is the end of the range (inclusive).\n",
        " n is the divisor to be checked against.\n",
        "Return an ordered list with numbers in the range that are divisible by the third parameter n.\n",
        "Return an empty list if there are no numbers that are divisible by n."
      ],
      "metadata": {
        "id": "23Mz9mzq_PG7"
      }
    },
    {
      "cell_type": "code",
      "source": [
        "def divisible(a,b,c):\n",
        "  temp=[]\n",
        "  for i in range(a,b+1):\n",
        "    if(i%c==0):\n",
        "      temp.append(i)\n",
        "\n",
        "  return temp\n",
        "\n",
        "divisible(1,10,3)"
      ],
      "metadata": {
        "id": "CM9Bz4sj_Nv5"
      },
      "execution_count": null,
      "outputs": []
    },
    {
      "cell_type": "markdown",
      "source": [
        "Create a function that takes in two lists and returns True if the second list follows the first list\n",
        "by one element, and False otherwise. In other words, determine if the second list is the first\n",
        "list shifted to the right by 1."
      ],
      "metadata": {
        "id": "1T4L-D1QABIO"
      }
    },
    {
      "cell_type": "code",
      "source": [
        "def simon_says(str1,str2):\n",
        "  i=0\n",
        "  j=1\n",
        "  if(len(str1) >2 and len(str2)>2):\n",
        "    list_1 = str1[:-1]\n",
        "    list_2 = str2[1:]\n",
        "    if(list_1 == list_2):\n",
        "      return True\n",
        "    else:\n",
        "      return False\n",
        "\n",
        "  else:\n",
        "    print(\"Enter valid input\")\n",
        "\n",
        "\n",
        "simon_says([1, 2, 3, 4, 5], [5, 5, 1, 2, 3])"
      ],
      "metadata": {
        "id": "yyA3Dbh5_xsR"
      },
      "execution_count": null,
      "outputs": []
    },
    {
      "cell_type": "markdown",
      "source": [
        "A group of friends have decided to start a secret society. The name will be the first letter of\n",
        "each of their names, sorted in alphabetical order.\n",
        "Create a function that takes in a list of names and returns the name of the secret society."
      ],
      "metadata": {
        "id": "4LkFBWWgBK8l"
      }
    },
    {
      "cell_type": "code",
      "source": [
        "def society_name(lst):\n",
        "  name = \"\"\n",
        "  temp = \"\"\n",
        "  for i in range(len(lst)):\n",
        "    name=name+lst[i][0]\n",
        "  for i in sorted(name):\n",
        "    temp=temp+i\n",
        "  return temp.upper()\n",
        "\n",
        "society_name([\"shoaib\",\"khan\",\"hello\"])"
      ],
      "metadata": {
        "id": "wx0wdZiRA_nI"
      },
      "execution_count": null,
      "outputs": []
    },
    {
      "cell_type": "markdown",
      "source": [
        "An isogram is a word that has no duplicate letters. Create a function that takes a string and\n",
        "returns either True or False depending on whether or not it&#39;s an &quot;isogram&quot;."
      ],
      "metadata": {
        "id": "U1PxYK60DmVK"
      }
    },
    {
      "cell_type": "code",
      "source": [
        "def isogram(s):\n",
        "  temp=s.lower()\n",
        "  for i in temp:\n",
        "    if(temp.count(i)>1):\n",
        "      return False\n",
        "  return True\n",
        "\n",
        "isogram(\"pasSWorD\")"
      ],
      "metadata": {
        "id": "uZIDd4BvCd9T"
      },
      "execution_count": null,
      "outputs": []
    },
    {
      "cell_type": "markdown",
      "source": [
        "Create a function that takes a string and returns True or False, depending on whether the\n",
        "characters are in order or not."
      ],
      "metadata": {
        "id": "OCrFl_-_EStT"
      }
    },
    {
      "cell_type": "code",
      "source": [
        "def is_in_order(s):\n",
        "  temp=sorted(s)\n",
        "  temp1=\"\"\n",
        "  for i in temp:\n",
        "    temp1=temp1+i\n",
        "  if(s == temp1):\n",
        "    return True\n",
        "  return False\n",
        "\n",
        "is_in_order(\"bca\")"
      ],
      "metadata": {
        "id": "SBMJPGpSEHJJ"
      },
      "execution_count": null,
      "outputs": []
    },
    {
      "cell_type": "code",
      "source": [],
      "metadata": {
        "id": "nJtke1-kEvyc"
      },
      "execution_count": null,
      "outputs": []
    }
  ]
}