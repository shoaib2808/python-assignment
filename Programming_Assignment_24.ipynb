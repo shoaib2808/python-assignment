{
  "nbformat": 4,
  "nbformat_minor": 0,
  "metadata": {
    "colab": {
      "provenance": []
    },
    "kernelspec": {
      "name": "python3",
      "display_name": "Python 3"
    },
    "language_info": {
      "name": "python"
    }
  },
  "cells": [
    {
      "cell_type": "markdown",
      "source": [
        "ASSIGNMENT"
      ],
      "metadata": {
        "id": "LpMfNpq65-Gg"
      }
    },
    {
      "cell_type": "markdown",
      "source": [
        "Create a function that takes an integer and returns a list from 1 to the given number, where:\n",
        "1. If the number can be divided evenly by 4, amplify it by 10 (i.e. return 10 times the\n",
        "number).\n",
        "2. If the number cannot be divided evenly by 4, simply return the number."
      ],
      "metadata": {
        "id": "6WXqwl1l6BJS"
      }
    },
    {
      "cell_type": "code",
      "source": [
        "def amplify(n):\n",
        "  lst=list()\n",
        "  for i in range(1,n+1):\n",
        "    if(i%4==0):\n",
        "      lst.append(i*10)\n",
        "    else:\n",
        "      lst.append(i)\n",
        "  return lst\n",
        "\n",
        "amplify(25)"
      ],
      "metadata": {
        "id": "gN21YISO5_kr"
      },
      "execution_count": null,
      "outputs": []
    },
    {
      "cell_type": "markdown",
      "source": [
        "Create a function that takes a list of numbers and return the number that&#39;s unique."
      ],
      "metadata": {
        "id": "WwO2M1ah6kO_"
      }
    },
    {
      "cell_type": "code",
      "source": [
        "def unique(lst):\n",
        "  unique_num = set(lst)\n",
        "  for i in unique_num:\n",
        "    if(lst.count(i)==1):\n",
        "      return i\n",
        "\n",
        "unique([0, 0, 0.77, 0, 0])"
      ],
      "metadata": {
        "id": "Jv727Kv36cR-"
      },
      "execution_count": null,
      "outputs": []
    },
    {
      "cell_type": "markdown",
      "source": [
        "Your task is to create a Circle constructor that creates a circle with a radius provided by an\n",
        "argument. The circles constructed must have two getters getArea() (PIr^2) and\n",
        "getPerimeter() (2PI*r) which give both respective areas and perimeter"
      ],
      "metadata": {
        "id": "M25V0ZmC7RkT"
      }
    },
    {
      "cell_type": "code",
      "source": [
        "class circle:\n",
        "  pi=(22/7)\n",
        "  def __init__(self,radius):\n",
        "    self.radius = radius\n",
        "\n",
        "  def getArea(self):\n",
        "    area = self.pi*(self.radius**2)\n",
        "    return area\n",
        "\n",
        "  def getPerimeter(self):\n",
        "    peri = 2*self.pi *self.radius\n",
        "    return peri\n",
        "\n",
        "\n",
        "cir = circle(11)\n",
        "cir.getArea()\n"
      ],
      "metadata": {
        "id": "C1TiKeoj7M_B"
      },
      "execution_count": null,
      "outputs": []
    },
    {
      "cell_type": "markdown",
      "source": [
        "Create a function that takes a list of strings and return a list, sorted from shortest to longest."
      ],
      "metadata": {
        "id": "b6bvNfdw8v8m"
      }
    },
    {
      "cell_type": "code",
      "source": [
        "def sort_by_length(lst):\n",
        "  dic=dict()\n",
        "  temp = list()\n",
        "  temp1=list()\n",
        "  for i in lst:\n",
        "    temp.append(len(i))\n",
        "    dic[len(i)]=i\n",
        "  temp.sort()\n",
        "  for j in range(len(temp)):\n",
        "    temp1.append(dic[temp[j]])\n",
        "\n",
        "  return temp1\n",
        "\n",
        "sort_by_length([\"turing\",\"apple\",\"microsoft\"])"
      ],
      "metadata": {
        "colab": {
          "base_uri": "https://localhost:8080/"
        },
        "id": "0MlsGAUx8qWK",
        "outputId": "d0696dd9-9dda-4ca3-fb53-35b5061355ac"
      },
      "execution_count": 11,
      "outputs": [
        {
          "output_type": "execute_result",
          "data": {
            "text/plain": [
              "['apple', 'turing', 'microsoft']"
            ]
          },
          "metadata": {},
          "execution_count": 11
        }
      ]
    },
    {
      "cell_type": "markdown",
      "source": [
        "Create a function that validates whether three given integers form a Pythagorean triplet. The\n",
        "sum of the squares of the two smallest integers must equal the square of the largest number to\n",
        "be validated."
      ],
      "metadata": {
        "id": "CEsOsJQP_FA0"
      }
    },
    {
      "cell_type": "code",
      "source": [
        "def pythogorous(a,b,c):\n",
        " lst=list()\n",
        " lst.append(a)\n",
        " lst.append(b)\n",
        " lst.append(c)\n",
        "\n",
        " lst.sort()\n",
        " if(((lst[0]**2)+(lst[1]**2))==(lst[2]**2)):\n",
        "   return True\n",
        " return False\n",
        "\n",
        "pythogorous(3,4,6)\n"
      ],
      "metadata": {
        "id": "ifso7Hew-LEY"
      },
      "execution_count": null,
      "outputs": []
    },
    {
      "cell_type": "code",
      "source": [],
      "metadata": {
        "id": "-LOmd0h_BUb3"
      },
      "execution_count": null,
      "outputs": []
    }
  ]
}