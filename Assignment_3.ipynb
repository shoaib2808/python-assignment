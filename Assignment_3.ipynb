{
  "nbformat": 4,
  "nbformat_minor": 0,
  "metadata": {
    "colab": {
      "provenance": []
    },
    "kernelspec": {
      "name": "python3",
      "display_name": "Python 3"
    },
    "language_info": {
      "name": "python"
    }
  },
  "cells": [
    {
      "cell_type": "markdown",
      "source": [
        "#ASSIGNMENT"
      ],
      "metadata": {
        "id": "ZZ8WlXS565Kt"
      }
    },
    {
      "cell_type": "markdown",
      "source": [
        "#1. Why are functions advantageous to have in your programs?"
      ],
      "metadata": {
        "id": "cwdEH5CA677t"
      }
    },
    {
      "cell_type": "markdown",
      "source": [
        "Functions are piece of code that can be reused any number of time in a code. Functions reduces code redendency and helps to write clean code"
      ],
      "metadata": {
        "id": "Ww9VmM977Ab1"
      }
    },
    {
      "cell_type": "code",
      "source": [
        "#example\n",
        "def test():   # function definition\n",
        "  print(\"test\")\n",
        "\n",
        "test() # function calling"
      ],
      "metadata": {
        "id": "sCf381kq66hJ"
      },
      "execution_count": null,
      "outputs": []
    },
    {
      "cell_type": "markdown",
      "source": [
        "#2. When does the code in a function run: when it&#39;s specified or when it&#39;s called?"
      ],
      "metadata": {
        "id": "Ojad_QG_7l6W"
      }
    },
    {
      "cell_type": "markdown",
      "source": [
        "A code in the functio is run when it is called in the program  not during it's definition\n"
      ],
      "metadata": {
        "id": "cMDxQ4mk7n9S"
      }
    },
    {
      "cell_type": "code",
      "source": [
        "#example\n",
        "def test():   #function will not be called here\n",
        "  print(\"test\")\n",
        "\n",
        "test() # function calling"
      ],
      "metadata": {
        "id": "83Amwjuk7i_c"
      },
      "execution_count": null,
      "outputs": []
    },
    {
      "cell_type": "markdown",
      "source": [
        "#3. What statement creates a function?"
      ],
      "metadata": {
        "id": "oPc_PC9w71-k"
      }
    },
    {
      "cell_type": "markdown",
      "source": [
        "'def' is the keyword used to create function\n",
        "\n"
      ],
      "metadata": {
        "id": "9qjWiaBJ75cw"
      }
    },
    {
      "cell_type": "code",
      "source": [
        "def test():\n",
        "  pass"
      ],
      "metadata": {
        "id": "XYV-FtoK7zZS"
      },
      "execution_count": 3,
      "outputs": []
    },
    {
      "cell_type": "markdown",
      "source": [
        "#4. What is the difference between a function and a function call?"
      ],
      "metadata": {
        "id": "Bl3v2vcT8LYm"
      }
    },
    {
      "cell_type": "markdown",
      "source": [
        "Function definition is where we define the body of the function \n",
        "\n",
        "funtion call : Function call is the place where we call the function ."
      ],
      "metadata": {
        "id": "VCx8ykR_8Nvt"
      }
    },
    {
      "cell_type": "code",
      "source": [
        "def test():\n",
        "  '''\n",
        "  Function definition\n",
        "  '''\n",
        "  pass\n",
        "\n",
        "test() # Func calling"
      ],
      "metadata": {
        "id": "B1Y8Keel8JHt"
      },
      "execution_count": 4,
      "outputs": []
    },
    {
      "cell_type": "markdown",
      "source": [
        "#5. How many global scopes are there in a Python program? How many local scopes?"
      ],
      "metadata": {
        "id": "TaHUQOGW9OCT"
      }
    },
    {
      "cell_type": "markdown",
      "source": [
        "There's only one global Python scope per program execution. This scope remains in existence until the program terminates and all its names are forgotten."
      ],
      "metadata": {
        "id": "U2-2tBB59N5C"
      }
    },
    {
      "cell_type": "markdown",
      "source": [
        "#6. What happens to variables in a local scope when the function call returns?"
      ],
      "metadata": {
        "id": "iuxnGYmY9XS-"
      }
    },
    {
      "cell_type": "markdown",
      "source": [
        "Each call of the function creates new local variables, and their lifetimes expire when the function returns to the caller."
      ],
      "metadata": {
        "id": "ueVZIKY89bn6"
      }
    },
    {
      "cell_type": "markdown",
      "source": [
        "#7. What is the concept of a return value? Is it possible to have a return value in an expression?"
      ],
      "metadata": {
        "id": "nFlGPhvI9eUu"
      }
    },
    {
      "cell_type": "markdown",
      "source": [
        "A return statement is used to end the execution of the function call and “returns” the result (value of the expression following the return keyword) to the caller. The statements after the return statements are not executed. If the return statement is without any expression, then the special value None is returned. "
      ],
      "metadata": {
        "id": "JSoj1MBz9fql"
      }
    },
    {
      "cell_type": "markdown",
      "source": [
        "#8. If a function does not have a return statement, what is the return value of a call to that function?"
      ],
      "metadata": {
        "id": "OBoulW1I96kX"
      }
    },
    {
      "cell_type": "markdown",
      "source": [
        "When a function does not have a return statement then it will return a special value called None."
      ],
      "metadata": {
        "id": "btD1AXP0978g"
      }
    },
    {
      "cell_type": "markdown",
      "source": [
        "#9. How do you make a function variable refer to the global variable?"
      ],
      "metadata": {
        "id": "G98V1oSL-eSQ"
      }
    },
    {
      "cell_type": "markdown",
      "source": [
        "Normally, when you create a variable inside a function, that variable is local, and can only be used inside that function.\n",
        "\n",
        "To create a global variable inside a function, you can use the global keyword."
      ],
      "metadata": {
        "id": "XvSrPmeQ-bPt"
      }
    },
    {
      "cell_type": "code",
      "source": [
        "def myfunc():\n",
        "  global x\n",
        "  x = \"fantastic\"\n",
        "\n",
        "myfunc()\n",
        "print(\"Python is \" + x)"
      ],
      "metadata": {
        "id": "rrDMcwNG-x-B"
      },
      "execution_count": null,
      "outputs": []
    },
    {
      "cell_type": "markdown",
      "source": [
        "#10. What is the data type of None?"
      ],
      "metadata": {
        "id": "syzqMQGW-8A3"
      }
    },
    {
      "cell_type": "markdown",
      "source": [
        "None value has a data type of NoneType"
      ],
      "metadata": {
        "id": "1DbEpq7X-hm8"
      }
    },
    {
      "cell_type": "markdown",
      "source": [
        "#11. What does the sentence import areallyourpetsnamederic do?"
      ],
      "metadata": {
        "id": "tvOputZW_PBE"
      }
    },
    {
      "cell_type": "markdown",
      "source": [
        "That import statement imports a module named areallyourpetsnamederic."
      ],
      "metadata": {
        "id": "EwjvXb7B_d2K"
      }
    },
    {
      "cell_type": "markdown",
      "source": [
        "#12.If you had a bacon() feature in a spam module, what would you call it after importing spam?"
      ],
      "metadata": {
        "id": "F83GGyTj_e8N"
      }
    },
    {
      "cell_type": "markdown",
      "source": [
        "This function can be called with spam.bacon()."
      ],
      "metadata": {
        "id": "7HuGpNmu_mme"
      }
    },
    {
      "cell_type": "markdown",
      "source": [
        "#13. What can you do to save a programme from crashing if it encounters an error?"
      ],
      "metadata": {
        "id": "LItzjYep_pkK"
      }
    },
    {
      "cell_type": "markdown",
      "source": [
        "Place the line of code that might cause an error in a try clause."
      ],
      "metadata": {
        "id": "SjXKzwRl_wYy"
      }
    },
    {
      "cell_type": "markdown",
      "source": [
        "#14. What is the purpose of the try clause? What is the purpose of the except clause?"
      ],
      "metadata": {
        "id": "frIl6sQc_zAa"
      }
    },
    {
      "cell_type": "markdown",
      "source": [
        "The code that could potentially cause an error goes in the try clause.\n",
        "-The code that executes if an error happens goes in the except clause."
      ],
      "metadata": {
        "id": "h_CTJaUV_0PO"
      }
    },
    {
      "cell_type": "code",
      "source": [],
      "metadata": {
        "id": "2ScFfebj_rk0"
      },
      "execution_count": null,
      "outputs": []
    }
  ]
}