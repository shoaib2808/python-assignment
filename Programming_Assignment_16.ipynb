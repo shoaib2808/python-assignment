{
  "nbformat": 4,
  "nbformat_minor": 0,
  "metadata": {
    "colab": {
      "provenance": []
    },
    "kernelspec": {
      "name": "python3",
      "display_name": "Python 3"
    },
    "language_info": {
      "name": "python"
    }
  },
  "cells": [
    {
      "cell_type": "markdown",
      "source": [
        "Question1. Write a function that stutters a word as if someone is struggling to read it. The\n",
        "first two letters are repeated twice with an ellipsis ... and space after each, and then the\n",
        "word is pronounced with a question mark"
      ],
      "metadata": {
        "id": "GUijPPTGGqhv"
      }
    },
    {
      "cell_type": "code",
      "source": [
        "def stutters(word):\n",
        "  if(len(word)<2 and word.islower()):\n",
        "     print(\"Enter correct input\")\n",
        "  else:\n",
        "    repeat=word[:2]\n",
        "    for i in range(2):\n",
        "     print(repeat +\"...\",end= \" \")\n",
        "    print(word)\n"
      ],
      "metadata": {
        "id": "W-qQfha4Gr0b"
      },
      "execution_count": 5,
      "outputs": []
    },
    {
      "cell_type": "markdown",
      "source": [
        "Question 2.Create a function that takes an angle in radians and returns the corresponding\n",
        "angle in degrees rounded to one decimal place."
      ],
      "metadata": {
        "id": "fLCOuf2DH_Fo"
      }
    },
    {
      "cell_type": "code",
      "source": [
        "def rad_to_deg(radian):\n",
        "  rad_1=57.2958\n",
        "  deg=radian*rad_1\n",
        "  print(round(deg,1))\n",
        "\n",
        "rad_to_deg(50)\n"
      ],
      "metadata": {
        "id": "Ol04vaM6HAh9"
      },
      "execution_count": null,
      "outputs": []
    },
    {
      "cell_type": "markdown",
      "source": [
        "Question 3. In this challenge, establish if a given integer num is a Curzon number. If 1 plus\n",
        "2 elevated to num is exactly divisible by 1 plus 2 multiplied by num, then num is a Curzon\n",
        "number."
      ],
      "metadata": {
        "id": "gcHEIuc3JA35"
      }
    },
    {
      "cell_type": "code",
      "source": [
        "def is_curzon(num):\n",
        "  div_num=1+(2**num)\n",
        "  mul_num=1+(2*num)\n",
        "  if(div_num%mul_num==0):\n",
        "    return True\n",
        "  return False\n",
        "\n",
        "is_curzon(10)"
      ],
      "metadata": {
        "id": "1W9EqXEWHE7e"
      },
      "execution_count": null,
      "outputs": []
    },
    {
      "cell_type": "markdown",
      "source": [
        "Question 4.Given the side length x find the area of a hexagon."
      ],
      "metadata": {
        "id": "26kT_mStJo5b"
      }
    },
    {
      "cell_type": "code",
      "source": [
        "import math\n",
        "side = int(input(\"Enter side\"))\n",
        "area = (3*math.sqrt(3)*(side**2))/2\n",
        "print(round(area,1))"
      ],
      "metadata": {
        "id": "XyUj_5nfJhyx"
      },
      "execution_count": null,
      "outputs": []
    },
    {
      "cell_type": "markdown",
      "source": [
        "Question 5. Create a function that returns a base-2 (binary) representation of a base-10\n",
        "(decimal) string number. To convert is simple: ((2) means base-2 and (10) means base-10)\n",
        "010101001(2) = 1 + 8 + 32 + 128."
      ],
      "metadata": {
        "id": "NBmWCLUDKQc1"
      }
    },
    {
      "cell_type": "code",
      "source": [
        "def binary(num):\n",
        "  power= len(num)-1\n",
        "  sum=0\n",
        "  for i in num:\n",
        "    if(i=='1'):\n",
        "      sum=sum+(2**power)\n",
        "    power =power-1\n",
        "    if(power<0):\n",
        "      break\n",
        "  return sum\n",
        "binary('1010')"
      ],
      "metadata": {
        "colab": {
          "base_uri": "https://localhost:8080/"
        },
        "id": "RBZZjOSAKI8S",
        "outputId": "a0c09310-2aeb-4c3e-94e9-ff9f0460542c"
      },
      "execution_count": 24,
      "outputs": [
        {
          "output_type": "execute_result",
          "data": {
            "text/plain": [
              "10"
            ]
          },
          "metadata": {},
          "execution_count": 24
        }
      ]
    },
    {
      "cell_type": "code",
      "source": [],
      "metadata": {
        "id": "YEqNbHTNLRlA"
      },
      "execution_count": null,
      "outputs": []
    }
  ]
}