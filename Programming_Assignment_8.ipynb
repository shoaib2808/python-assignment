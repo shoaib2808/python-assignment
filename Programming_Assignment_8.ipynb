{
  "nbformat": 4,
  "nbformat_minor": 0,
  "metadata": {
    "colab": {
      "provenance": []
    },
    "kernelspec": {
      "name": "python3",
      "display_name": "Python 3"
    },
    "language_info": {
      "name": "python"
    }
  },
  "cells": [
    {
      "cell_type": "markdown",
      "source": [
        "ASSIGNMENT"
      ],
      "metadata": {
        "id": "wMVR1OR1MCXv"
      }
    },
    {
      "cell_type": "markdown",
      "source": [
        "1. Write a Python Program to Add Two Matrices?"
      ],
      "metadata": {
        "id": "EjLVm4IuMHJD"
      }
    },
    {
      "cell_type": "code",
      "source": [
        "mat1=[[1,2,3],[4,5,6],[7,8,9]]\n",
        "mat2=[[12,23,21],[21,56,7],[1,2,3]]\n",
        "\n",
        "result=list()\n",
        "is_compatible=True\n",
        "for i in range(len(mat1)):\n",
        "   if(len(mat1[i]) != len(mat2[i])):\n",
        "      is_compatible=False\n",
        "\n",
        "if(len(mat1)==len(mat2) and is_compatible):\n",
        "  for i in range(len(mat1)):\n",
        "    temp=[]\n",
        "    for j in range(len(mat1[i])):\n",
        "      a=mat1[i][j]+mat2[i][j]\n",
        "      temp.append(a)\n",
        "    result.append(temp)\n",
        "  print(result)\n",
        "else:\n",
        "  print(\"Matrix addition cannot be performed\")\n",
        "\n",
        "    "
      ],
      "metadata": {
        "id": "BGRUDFLgMDhm"
      },
      "execution_count": null,
      "outputs": []
    },
    {
      "cell_type": "markdown",
      "source": [
        "2. Write a Python Program to Multiply Two Matrices?"
      ],
      "metadata": {
        "id": "CphL8qWTQOS3"
      }
    },
    {
      "cell_type": "code",
      "source": [
        "X = [[12,7,3], [4 ,5,6], [7 ,8,9]]\n",
        "Y = [[5,8,1,2],[6,7,3,0],[4,5,9,1]]\n",
        "\n",
        "res =   [[0,0,0,0],\n",
        "         [0,0,0,0],\n",
        "         [0,0,0,0]]\n",
        "\n",
        "# iterate through rows of X\n",
        "for i in range(len(X)):\n",
        "   # iterate through columns of Y\n",
        "   for j in range(len(Y[0])):\n",
        "       # iterate through rows of Y\n",
        "       for k in range(len(Y)):\n",
        "           res[i][j] += X[i][k] * Y[k][j]\n",
        "\n",
        "print(f'Product of Matrix X and Y is equal to :')\n",
        "for row in res:\n",
        "   print(row)\n",
        "     \n"
      ],
      "metadata": {
        "id": "dgRNN1PzPg-W"
      },
      "execution_count": null,
      "outputs": []
    },
    {
      "cell_type": "markdown",
      "source": [
        "3. Write a Python Program to Transpose a Matrix?"
      ],
      "metadata": {
        "id": "s33e5PntRKlR"
      }
    },
    {
      "cell_type": "code",
      "source": [
        "mat=[[1,2,3],[4,5,6],[7,8,9]]\n",
        "\n",
        "transpose=[]\n",
        "for i in range(len(mat)):\n",
        "  temp=[]\n",
        "  for j in range(len(mat[1])):\n",
        "    temp.append(mat[j][i])\n",
        "  transpose.append(temp)\n",
        "transpose"
      ],
      "metadata": {
        "id": "UkRVawjHRK5g"
      },
      "execution_count": null,
      "outputs": []
    },
    {
      "cell_type": "markdown",
      "source": [
        "4. Write a Python Program to Sort Words in Alphabetic Order?"
      ],
      "metadata": {
        "id": "pEU5_89uRM4_"
      }
    },
    {
      "cell_type": "code",
      "source": [
        "inp=input(\"Enter words in space searated format\")\n",
        "\n",
        "words=inp.split(\" \")\n",
        "\n",
        "word= sorted(words)\n",
        "\n",
        "print(word)"
      ],
      "metadata": {
        "id": "UBx-WVsmRNN9"
      },
      "execution_count": null,
      "outputs": []
    },
    {
      "cell_type": "markdown",
      "source": [
        "5. Write a Python Program to Remove Punctuation From a String?"
      ],
      "metadata": {
        "id": "SeV0nGIYRPUZ"
      }
    },
    {
      "cell_type": "code",
      "source": [
        "inp= input(\"Enter a string \")\n",
        "p_marks=['.',',','-','?','!',';',':',\"'\",'\"','(',')','/','_']\n",
        "result_string=\"\"\n",
        "for i in inp:\n",
        "  if(i not in p_marks):\n",
        "    result_string=result_string+i\n",
        "result_string"
      ],
      "metadata": {
        "id": "QoB3nz9tRPpb"
      },
      "execution_count": null,
      "outputs": []
    },
    {
      "cell_type": "code",
      "source": [],
      "metadata": {
        "id": "NChL0ZZkUl8F"
      },
      "execution_count": 12,
      "outputs": []
    },
    {
      "cell_type": "code",
      "source": [],
      "metadata": {
        "id": "1reqvls5Vy4z"
      },
      "execution_count": null,
      "outputs": []
    }
  ]
}