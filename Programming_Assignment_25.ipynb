{
  "nbformat": 4,
  "nbformat_minor": 0,
  "metadata": {
    "colab": {
      "provenance": []
    },
    "kernelspec": {
      "name": "python3",
      "display_name": "Python 3"
    },
    "language_info": {
      "name": "python"
    }
  },
  "cells": [
    {
      "cell_type": "markdown",
      "source": [
        "ASSIGNMENT"
      ],
      "metadata": {
        "id": "gSfMvDZqbGx4"
      }
    },
    {
      "cell_type": "markdown",
      "source": [
        "Create a function that takes three integer arguments (a, b, c) and returns the amount of\n",
        "integers which are of equal value."
      ],
      "metadata": {
        "id": "B8ahiTMebI-w"
      }
    },
    {
      "cell_type": "code",
      "source": [
        "def equal(a,b,c):\n",
        "  count=0\n",
        "  s= set([a,b,c])\n",
        "  if(len(s)==3):\n",
        "    return 0\n",
        "  if(len(s)==2):\n",
        "    return 2\n",
        "  return 3 \n",
        "\n",
        "equal(1,12,1)"
      ],
      "metadata": {
        "id": "YO_rzPc_bH3V"
      },
      "execution_count": null,
      "outputs": []
    },
    {
      "cell_type": "markdown",
      "source": [
        "Write a function that converts a dictionary into a list of keys-values tuples."
      ],
      "metadata": {
        "id": "0coQKhVecsX1"
      }
    },
    {
      "cell_type": "code",
      "source": [
        "def dict_to_list(d):\n",
        "  l=list()\n",
        "  for i in d:\n",
        "    value=d[i]\n",
        "    l.append((i,value))\n",
        "\n",
        "  return sorted(l)\n",
        "\n",
        "dict_to_list({\n",
        "\"D\":1,\n",
        "\"b\":2\n",
        "})"
      ],
      "metadata": {
        "id": "MpURmrE9bsYb"
      },
      "execution_count": null,
      "outputs": []
    },
    {
      "cell_type": "markdown",
      "source": [
        "Write a function that creates a dictionary with each (key, value) pair being the (lower case,\n",
        "upper case) versions of a letter, respectively."
      ],
      "metadata": {
        "id": "oO5BsDBkecVD"
      }
    },
    {
      "cell_type": "code",
      "source": [
        "def mapping(lst):\n",
        "  d=dict()\n",
        "  for i in lst:\n",
        "    d[i]=i.upper()\n",
        "\n",
        "  return d\n",
        "\n",
        "mapping(['a','b'])"
      ],
      "metadata": {
        "id": "ajVpT-EpeFnN"
      },
      "execution_count": null,
      "outputs": []
    },
    {
      "cell_type": "markdown",
      "source": [
        "Write a function, that replaces all vowels in a string with a specified vowel."
      ],
      "metadata": {
        "id": "ZD7fL8jze7nJ"
      }
    },
    {
      "cell_type": "code",
      "source": [
        "def vow_replace(string,alph):\n",
        "  for i in string:\n",
        "    if(i in ['a','e','i','o','u']):\n",
        "      string=string.replace(i,alph)\n",
        "\n",
        "  return string\n",
        "\n",
        "\n",
        "vow_replace(\"abcdefgh\",\"u\")"
      ],
      "metadata": {
        "id": "tH5I6CIQeVhZ"
      },
      "execution_count": null,
      "outputs": []
    },
    {
      "cell_type": "markdown",
      "source": [
        "Create a function that takes a string as input and capitalizes a letter if its ASCII code is even\n",
        "and returns its lower case version if its ASCII code is odd."
      ],
      "metadata": {
        "id": "hfE72SkugAXy"
      }
    },
    {
      "cell_type": "code",
      "source": [
        "def ascii(s):\n",
        "  temp=\"\"\n",
        "  for i in s:\n",
        "    if(ord(i)%2==0):\n",
        "      temp=temp+i.upper()\n",
        "    else:\n",
        "      temp=temp+i\n",
        "\n",
        "  return temp\n",
        "\n",
        "ascii(\"to be or not to be\")"
      ],
      "metadata": {
        "id": "E6z-fDREf5b2"
      },
      "execution_count": null,
      "outputs": []
    },
    {
      "cell_type": "code",
      "source": [],
      "metadata": {
        "id": "i_wbLS0jgyGf"
      },
      "execution_count": null,
      "outputs": []
    }
  ]
}