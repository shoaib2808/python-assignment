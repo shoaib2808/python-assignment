{
  "nbformat": 4,
  "nbformat_minor": 0,
  "metadata": {
    "colab": {
      "provenance": []
    },
    "kernelspec": {
      "name": "python3",
      "display_name": "Python 3"
    },
    "language_info": {
      "name": "python"
    }
  },
  "cells": [
    {
      "cell_type": "markdown",
      "source": [
        "ASSIGNMENT"
      ],
      "metadata": {
        "id": "bivcpFUIhGbN"
      }
    },
    {
      "cell_type": "markdown",
      "source": [
        "Create a function that takes a string and returns a string in which each character is repeated\n",
        "once."
      ],
      "metadata": {
        "id": "ZzleDRW1hJJH"
      }
    },
    {
      "cell_type": "code",
      "source": [
        "def double_char(s):\n",
        "  temp=\"\"\n",
        "  for i in s:\n",
        "    temp=temp+i+i\n",
        "\n",
        "  return temp\n",
        "\n",
        "double_char(\"shoaib\")"
      ],
      "metadata": {
        "id": "SapwHYN3hHcQ"
      },
      "execution_count": null,
      "outputs": []
    },
    {
      "cell_type": "markdown",
      "source": [
        "Create a function that reverses a boolean value and returns the string &quot;boolean expected&quot;\n",
        "if another variable type is given."
      ],
      "metadata": {
        "id": "KFfSNryjhnV4"
      }
    },
    {
      "cell_type": "code",
      "source": [
        "def reverse(a):\n",
        "  if(a==True):\n",
        "    return False\n",
        "  elif(a==False):\n",
        "    return True\n",
        "  else:\n",
        "    return 'Boolean Expected'\n",
        "\n",
        "\n",
        "reverse(True)\n"
      ],
      "metadata": {
        "colab": {
          "base_uri": "https://localhost:8080/"
        },
        "id": "uwJi0-A_he5w",
        "outputId": "b81a631c-8289-48ab-bfe1-037503fb4d1d"
      },
      "execution_count": 4,
      "outputs": [
        {
          "output_type": "execute_result",
          "data": {
            "text/plain": [
              "False"
            ]
          },
          "metadata": {},
          "execution_count": 4
        }
      ]
    },
    {
      "cell_type": "markdown",
      "source": [
        "Create a function that returns the thickness (in meters) of a piece of paper after folding it n\n",
        "number of times. The paper starts off with a thickness of 0.5mm."
      ],
      "metadata": {
        "id": "gYK9G7m2i7Kl"
      }
    },
    {
      "cell_type": "code",
      "source": [
        "def thickness(n):\n",
        "  m_1=0.5  #in milimeter\n",
        "  final_thickness= (2**n)*m_1\n",
        "  final_thickness_in_meter = f\"{final_thickness/1000} m\"\n",
        "\n",
        "  return final_thickness_in_meter\n",
        "\n",
        "thickness(1)"
      ],
      "metadata": {
        "colab": {
          "base_uri": "https://localhost:8080/",
          "height": 36
        },
        "id": "gMm2anIZidl-",
        "outputId": "f3341d33-1b14-4da9-8155-ceca3e718924"
      },
      "execution_count": 12,
      "outputs": [
        {
          "output_type": "execute_result",
          "data": {
            "text/plain": [
              "'0.001 m'"
            ],
            "application/vnd.google.colaboratory.intrinsic+json": {
              "type": "string"
            }
          },
          "metadata": {},
          "execution_count": 12
        }
      ]
    },
    {
      "cell_type": "markdown",
      "source": [
        "Create a function that takes a single string as argument and returns an ordered list containing\n",
        "the indices of all capital letters in the string."
      ],
      "metadata": {
        "id": "UcLEsyTmkNWI"
      }
    },
    {
      "cell_type": "code",
      "source": [
        "def capitalize(s):\n",
        "  temp=list()\n",
        "  for i in range(len(s)):\n",
        "    if(s[i].isupper()):\n",
        "      temp.append(i)\n",
        "\n",
        "  return temp\n",
        "\n",
        "capitalize(\"abc\")"
      ],
      "metadata": {
        "id": "ldX1tBc4jg9l"
      },
      "execution_count": null,
      "outputs": []
    },
    {
      "cell_type": "code",
      "source": [],
      "metadata": {
        "id": "-YrWgTBVkrWQ"
      },
      "execution_count": 16,
      "outputs": []
    },
    {
      "cell_type": "code",
      "source": [],
      "metadata": {
        "id": "vOuivyXVlAhe"
      },
      "execution_count": null,
      "outputs": []
    }
  ]
}